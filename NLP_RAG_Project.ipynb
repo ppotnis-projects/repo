{
  "cells": [
    {
      "cell_type": "markdown",
      "metadata": {
        "id": "view-in-github",
        "colab_type": "text"
      },
      "source": [
        "<a href=\"https://colab.research.google.com/github/ppotnis-projects/repo/blob/main/NLP_RAG_Project.ipynb\" target=\"_parent\"><img src=\"https://colab.research.google.com/assets/colab-badge.svg\" alt=\"Open In Colab\"/></a>"
      ]
    },
    {
      "cell_type": "markdown",
      "metadata": {
        "id": "by9EvAnkSpZf"
      },
      "source": [
        "### Data Description"
      ]
    },
    {
      "cell_type": "markdown",
      "metadata": {
        "id": "Jw5LievCSru2"
      },
      "source": [
        "The **Merck Manuals** are medical references published by the American pharmaceutical company Merck & Co., that cover a wide range of medical topics, including disorders, tests, diagnoses, and drugs. The manuals have been published since 1899, when Merck & Co. was still a subsidiary of the German company Merck.\n",
        "\n",
        "The manual is provided as a PDF with over 4,000 pages divided into 23 sections."
      ]
    },
    {
      "cell_type": "markdown",
      "metadata": {
        "id": "lnwETBOE6Bz5"
      },
      "source": [
        "## Installing and Importing Necessary Libraries and Dependencies"
      ]
    },
    {
      "cell_type": "code",
      "execution_count": null,
      "metadata": {
        "id": "q4GgLhZhUM4V",
        "colab": {
          "base_uri": "https://localhost:8080/"
        },
        "outputId": "df8a17ff-173a-47e6-a88f-03e36c91739b"
      },
      "outputs": [
        {
          "metadata": {
            "tags": null
          },
          "name": "stdout",
          "output_type": "stream",
          "text": [
            "\u001b[2K     \u001b[90m━━━━━━━━━━━━━━━━━━━━━━━━━━━━━━━━━━━━━━━━\u001b[0m \u001b[32m1.8/1.8 MB\u001b[0m \u001b[31m28.5 MB/s\u001b[0m eta \u001b[36m0:00:00\u001b[0m\n",
            "\u001b[?25h  Installing build dependencies ... \u001b[?25l\u001b[?25hdone\n",
            "  Getting requirements to build wheel ... \u001b[?25l\u001b[?25hdone\n",
            "  Preparing metadata (pyproject.toml) ... \u001b[?25l\u001b[?25hdone\n",
            "\u001b[2K     \u001b[90m━━━━━━━━━━━━━━━━━━━━━━━━━━━━━━━━━━━━━━━\u001b[0m \u001b[32m62.0/62.0 kB\u001b[0m \u001b[31m230.8 MB/s\u001b[0m eta \u001b[36m0:00:00\u001b[0m\n",
            "\u001b[2K   \u001b[90m━━━━━━━━━━━━━━━━━━━━━━━━━━━━━━━━━━━━━━━━\u001b[0m \u001b[32m45.5/45.5 kB\u001b[0m \u001b[31m240.5 MB/s\u001b[0m eta \u001b[36m0:00:00\u001b[0m\n",
            "\u001b[2K   \u001b[90m━━━━━━━━━━━━━━━━━━━━━━━━━━━━━━━━━━━━━━━━\u001b[0m \u001b[32m16.8/16.8 MB\u001b[0m \u001b[31m254.7 MB/s\u001b[0m eta \u001b[36m0:00:00\u001b[0m\n",
            "\u001b[2K   \u001b[90m━━━━━━━━━━━━━━━━━━━━━━━━━━━━━━━━━━━━━━━━\u001b[0m \u001b[32m45.8/45.8 kB\u001b[0m \u001b[31m294.4 MB/s\u001b[0m eta \u001b[36m0:00:00\u001b[0m\n",
            "\u001b[?25h  Building wheel for llama-cpp-python (pyproject.toml) ... \u001b[?25l\u001b[?25hdone\n"
          ]
        }
      ],
      "source": [
        "!CMAKE_ARGS=\"-DLLAMA_CUBLAS=on\" FORCE_CMAKE=1 pip install llama-cpp-python==0.1.85 --force-reinstall --no-cache-dir -q"
      ]
    },
    {
      "cell_type": "code",
      "source": [
        "# For installing the libraries & downloading models from HF Hub\n",
        "!pip install huggingface_hub==0.23.2 pandas==1.5.3 tiktoken==0.6.0 pymupdf==1.25.1 langchain==0.1.1 langchain-community==0.0.13 chromadb==0.4.22 sentence-transformers==2.3.1 numpy==1.25.2 -q\n"
      ],
      "metadata": {
        "colab": {
          "base_uri": "https://localhost:8080/"
        },
        "id": "XZtuuLbzsI39",
        "outputId": "23f808cf-bc13-43bd-ed8c-3a8d2cf82ce1"
      },
      "execution_count": null,
      "outputs": [
        {
          "output_type": "stream",
          "name": "stdout",
          "text": [
            "\u001b[?25l     \u001b[90m━━━━━━━━━━━━━━━━━━━━━━━━━━━━━━━━━━━━━━━━\u001b[0m \u001b[32m0.0/67.3 kB\u001b[0m \u001b[31m?\u001b[0m eta \u001b[36m-:--:--\u001b[0m\r\u001b[2K     \u001b[90m━━━━━━━━━━━━━━━━━━━━━━━━━━━━━━━━━━━━━━━━\u001b[0m \u001b[32m67.3/67.3 kB\u001b[0m \u001b[31m2.9 MB/s\u001b[0m eta \u001b[36m0:00:00\u001b[0m\n",
            "\u001b[?25h  Installing build dependencies ... \u001b[?25l\u001b[?25hdone\n",
            "  Getting requirements to build wheel ... \u001b[?25l\u001b[?25hdone\n",
            "  Preparing metadata (pyproject.toml) ... \u001b[?25l\u001b[?25hdone\n",
            "\u001b[2K     \u001b[90m━━━━━━━━━━━━━━━━━━━━━━━━━━━━━━━━━━━━━━━━\u001b[0m \u001b[32m40.2/40.2 kB\u001b[0m \u001b[31m2.6 MB/s\u001b[0m eta \u001b[36m0:00:00\u001b[0m\n",
            "\u001b[2K     \u001b[90m━━━━━━━━━━━━━━━━━━━━━━━━━━━━━━━━━━━━━━━━\u001b[0m \u001b[32m40.2/40.2 kB\u001b[0m \u001b[31m2.4 MB/s\u001b[0m eta \u001b[36m0:00:00\u001b[0m\n",
            "\u001b[2K     \u001b[90m━━━━━━━━━━━━━━━━━━━━━━━━━━━━━━━━━━━━━━━━\u001b[0m \u001b[32m44.0/44.0 kB\u001b[0m \u001b[31m2.7 MB/s\u001b[0m eta \u001b[36m0:00:00\u001b[0m\n",
            "\u001b[2K     \u001b[90m━━━━━━━━━━━━━━━━━━━━━━━━━━━━━━━━━━━━━━━━\u001b[0m \u001b[32m44.4/44.4 kB\u001b[0m \u001b[31m2.8 MB/s\u001b[0m eta \u001b[36m0:00:00\u001b[0m\n",
            "\u001b[2K     \u001b[90m━━━━━━━━━━━━━━━━━━━━━━━━━━━━━━━━━━━━━━━━\u001b[0m \u001b[32m44.4/44.4 kB\u001b[0m \u001b[31m2.8 MB/s\u001b[0m eta \u001b[36m0:00:00\u001b[0m\n",
            "\u001b[2K     \u001b[90m━━━━━━━━━━━━━━━━━━━━━━━━━━━━━━━━━━━━━━━━\u001b[0m \u001b[32m44.4/44.4 kB\u001b[0m \u001b[31m3.4 MB/s\u001b[0m eta \u001b[36m0:00:00\u001b[0m\n",
            "\u001b[2K     \u001b[90m━━━━━━━━━━━━━━━━━━━━━━━━━━━━━━━━━━━━━━━━\u001b[0m \u001b[32m44.4/44.4 kB\u001b[0m \u001b[31m4.1 MB/s\u001b[0m eta \u001b[36m0:00:00\u001b[0m\n",
            "\u001b[2K     \u001b[90m━━━━━━━━━━━━━━━━━━━━━━━━━━━━━━━━━━━━━━━━\u001b[0m \u001b[32m44.1/44.1 kB\u001b[0m \u001b[31m2.6 MB/s\u001b[0m eta \u001b[36m0:00:00\u001b[0m\n",
            "\u001b[2K     \u001b[90m━━━━━━━━━━━━━━━━━━━━━━━━━━━━━━━━━━━━━━━━\u001b[0m \u001b[32m43.5/43.5 kB\u001b[0m \u001b[31m3.3 MB/s\u001b[0m eta \u001b[36m0:00:00\u001b[0m\n",
            "\u001b[2K     \u001b[90m━━━━━━━━━━━━━━━━━━━━━━━━━━━━━━━━━━━━━━━━\u001b[0m \u001b[32m44.1/44.1 kB\u001b[0m \u001b[31m3.0 MB/s\u001b[0m eta \u001b[36m0:00:00\u001b[0m\n",
            "\u001b[2K   \u001b[90m━━━━━━━━━━━━━━━━━━━━━━━━━━━━━━━━━━━━━━━━\u001b[0m \u001b[32m401.7/401.7 kB\u001b[0m \u001b[31m13.2 MB/s\u001b[0m eta \u001b[36m0:00:00\u001b[0m\n",
            "\u001b[2K   \u001b[90m━━━━━━━━━━━━━━━━━━━━━━━━━━━━━━━━━━━━━━━━\u001b[0m \u001b[32m12.0/12.0 MB\u001b[0m \u001b[31m114.7 MB/s\u001b[0m eta \u001b[36m0:00:00\u001b[0m\n",
            "\u001b[2K   \u001b[90m━━━━━━━━━━━━━━━━━━━━━━━━━━━━━━━━━━━━━━━━\u001b[0m \u001b[32m1.8/1.8 MB\u001b[0m \u001b[31m69.7 MB/s\u001b[0m eta \u001b[36m0:00:00\u001b[0m\n",
            "\u001b[2K   \u001b[90m━━━━━━━━━━━━━━━━━━━━━━━━━━━━━━━━━━━━━━━━\u001b[0m \u001b[32m20.0/20.0 MB\u001b[0m \u001b[31m100.7 MB/s\u001b[0m eta \u001b[36m0:00:00\u001b[0m\n",
            "\u001b[2K   \u001b[90m━━━━━━━━━━━━━━━━━━━━━━━━━━━━━━━━━━━━━━━━\u001b[0m \u001b[32m802.4/802.4 kB\u001b[0m \u001b[31m38.5 MB/s\u001b[0m eta \u001b[36m0:00:00\u001b[0m\n",
            "\u001b[2K   \u001b[90m━━━━━━━━━━━━━━━━━━━━━━━━━━━━━━━━━━━━━━━━\u001b[0m \u001b[32m1.6/1.6 MB\u001b[0m \u001b[31m60.1 MB/s\u001b[0m eta \u001b[36m0:00:00\u001b[0m\n",
            "\u001b[2K   \u001b[90m━━━━━━━━━━━━━━━━━━━━━━━━━━━━━━━━━━━━━━━━\u001b[0m \u001b[32m509.0/509.0 kB\u001b[0m \u001b[31m28.8 MB/s\u001b[0m eta \u001b[36m0:00:00\u001b[0m\n",
            "\u001b[2K   \u001b[90m━━━━━━━━━━━━━━━━━━━━━━━━━━━━━━━━━━━━━━━━\u001b[0m \u001b[32m132.8/132.8 kB\u001b[0m \u001b[31m9.1 MB/s\u001b[0m eta \u001b[36m0:00:00\u001b[0m\n",
            "\u001b[2K   \u001b[90m━━━━━━━━━━━━━━━━━━━━━━━━━━━━━━━━━━━━━━━━\u001b[0m \u001b[32m18.2/18.2 MB\u001b[0m \u001b[31m108.5 MB/s\u001b[0m eta \u001b[36m0:00:00\u001b[0m\n",
            "\u001b[2K   \u001b[90m━━━━━━━━━━━━━━━━━━━━━━━━━━━━━━━━━━━━━━━━\u001b[0m \u001b[32m2.4/2.4 MB\u001b[0m \u001b[31m74.5 MB/s\u001b[0m eta \u001b[36m0:00:00\u001b[0m\n",
            "\u001b[2K   \u001b[90m━━━━━━━━━━━━━━━━━━━━━━━━━━━━━━━━━━━━━━━━\u001b[0m \u001b[32m284.2/284.2 kB\u001b[0m \u001b[31m18.0 MB/s\u001b[0m eta \u001b[36m0:00:00\u001b[0m\n",
            "\u001b[2K   \u001b[90m━━━━━━━━━━━━━━━━━━━━━━━━━━━━━━━━━━━━━━━━\u001b[0m \u001b[32m95.2/95.2 kB\u001b[0m \u001b[31m7.4 MB/s\u001b[0m eta \u001b[36m0:00:00\u001b[0m\n",
            "\u001b[2K   \u001b[90m━━━━━━━━━━━━━━━━━━━━━━━━━━━━━━━━━━━━━━━━\u001b[0m \u001b[32m2.0/2.0 MB\u001b[0m \u001b[31m73.2 MB/s\u001b[0m eta \u001b[36m0:00:00\u001b[0m\n",
            "\u001b[2K   \u001b[90m━━━━━━━━━━━━━━━━━━━━━━━━━━━━━━━━━━━━━━━━\u001b[0m \u001b[32m241.2/241.2 kB\u001b[0m \u001b[31m16.8 MB/s\u001b[0m eta \u001b[36m0:00:00\u001b[0m\n",
            "\u001b[2K   \u001b[90m━━━━━━━━━━━━━━━━━━━━━━━━━━━━━━━━━━━━━━━━\u001b[0m \u001b[32m55.4/55.4 kB\u001b[0m \u001b[31m4.0 MB/s\u001b[0m eta \u001b[36m0:00:00\u001b[0m\n",
            "\u001b[2K   \u001b[90m━━━━━━━━━━━━━━━━━━━━━━━━━━━━━━━━━━━━━━━━\u001b[0m \u001b[32m101.6/101.6 kB\u001b[0m \u001b[31m7.9 MB/s\u001b[0m eta \u001b[36m0:00:00\u001b[0m\n",
            "\u001b[2K   \u001b[90m━━━━━━━━━━━━━━━━━━━━━━━━━━━━━━━━━━━━━━━━\u001b[0m \u001b[32m16.4/16.4 MB\u001b[0m \u001b[31m114.7 MB/s\u001b[0m eta \u001b[36m0:00:00\u001b[0m\n",
            "\u001b[2K   \u001b[90m━━━━━━━━━━━━━━━━━━━━━━━━━━━━━━━━━━━━━━━━\u001b[0m \u001b[32m65.8/65.8 kB\u001b[0m \u001b[31m4.6 MB/s\u001b[0m eta \u001b[36m0:00:00\u001b[0m\n",
            "\u001b[2K   \u001b[90m━━━━━━━━━━━━━━━━━━━━━━━━━━━━━━━━━━━━━━━━\u001b[0m \u001b[32m55.9/55.9 kB\u001b[0m \u001b[31m3.8 MB/s\u001b[0m eta \u001b[36m0:00:00\u001b[0m\n",
            "\u001b[2K   \u001b[90m━━━━━━━━━━━━━━━━━━━━━━━━━━━━━━━━━━━━━━━━\u001b[0m \u001b[32m194.9/194.9 kB\u001b[0m \u001b[31m12.5 MB/s\u001b[0m eta \u001b[36m0:00:00\u001b[0m\n",
            "\u001b[2K   \u001b[90m━━━━━━━━━━━━━━━━━━━━━━━━━━━━━━━━━━━━━━━━\u001b[0m \u001b[32m119.0/119.0 kB\u001b[0m \u001b[31m8.2 MB/s\u001b[0m eta \u001b[36m0:00:00\u001b[0m\n",
            "\u001b[2K   \u001b[90m━━━━━━━━━━━━━━━━━━━━━━━━━━━━━━━━━━━━━━━━\u001b[0m \u001b[32m53.0/53.0 kB\u001b[0m \u001b[31m3.9 MB/s\u001b[0m eta \u001b[36m0:00:00\u001b[0m\n",
            "\u001b[2K   \u001b[90m━━━━━━━━━━━━━━━━━━━━━━━━━━━━━━━━━━━━━━━━\u001b[0m \u001b[32m96.7/96.7 kB\u001b[0m \u001b[31m5.6 MB/s\u001b[0m eta \u001b[36m0:00:00\u001b[0m\n",
            "\u001b[2K   \u001b[90m━━━━━━━━━━━━━━━━━━━━━━━━━━━━━━━━━━━━━━━━\u001b[0m \u001b[32m6.6/6.6 MB\u001b[0m \u001b[31m117.4 MB/s\u001b[0m eta \u001b[36m0:00:00\u001b[0m\n",
            "\u001b[2K   \u001b[90m━━━━━━━━━━━━━━━━━━━━━━━━━━━━━━━━━━━━━━━━\u001b[0m \u001b[32m3.3/3.3 MB\u001b[0m \u001b[31m94.8 MB/s\u001b[0m eta \u001b[36m0:00:00\u001b[0m\n",
            "\u001b[2K   \u001b[90m━━━━━━━━━━━━━━━━━━━━━━━━━━━━━━━━━━━━━━━━\u001b[0m \u001b[32m10.0/10.0 MB\u001b[0m \u001b[31m82.0 MB/s\u001b[0m eta \u001b[36m0:00:00\u001b[0m\n",
            "\u001b[2K   \u001b[90m━━━━━━━━━━━━━━━━━━━━━━━━━━━━━━━━━━━━━━━━\u001b[0m \u001b[32m3.0/3.0 MB\u001b[0m \u001b[31m89.8 MB/s\u001b[0m eta \u001b[36m0:00:00\u001b[0m\n",
            "\u001b[2K   \u001b[90m━━━━━━━━━━━━━━━━━━━━━━━━━━━━━━━━━━━━━━━━\u001b[0m \u001b[32m62.5/62.5 kB\u001b[0m \u001b[31m5.5 MB/s\u001b[0m eta \u001b[36m0:00:00\u001b[0m\n",
            "\u001b[2K   \u001b[90m━━━━━━━━━━━━━━━━━━━━━━━━━━━━━━━━━━━━━━━━\u001b[0m \u001b[32m583.9/583.9 kB\u001b[0m \u001b[31m31.4 MB/s\u001b[0m eta \u001b[36m0:00:00\u001b[0m\n",
            "\u001b[2K   \u001b[90m━━━━━━━━━━━━━━━━━━━━━━━━━━━━━━━━━━━━━━━━\u001b[0m \u001b[32m459.8/459.8 kB\u001b[0m \u001b[31m28.2 MB/s\u001b[0m eta \u001b[36m0:00:00\u001b[0m\n",
            "\u001b[2K   \u001b[90m━━━━━━━━━━━━━━━━━━━━━━━━━━━━━━━━━━━━━━━━\u001b[0m \u001b[32m50.9/50.9 kB\u001b[0m \u001b[31m3.7 MB/s\u001b[0m eta \u001b[36m0:00:00\u001b[0m\n",
            "\u001b[2K   \u001b[90m━━━━━━━━━━━━━━━━━━━━━━━━━━━━━━━━━━━━━━━━\u001b[0m \u001b[32m72.0/72.0 kB\u001b[0m \u001b[31m5.2 MB/s\u001b[0m eta \u001b[36m0:00:00\u001b[0m\n",
            "\u001b[2K   \u001b[90m━━━━━━━━━━━━━━━━━━━━━━━━━━━━━━━━━━━━━━━━\u001b[0m \u001b[32m4.0/4.0 MB\u001b[0m \u001b[31m104.1 MB/s\u001b[0m eta \u001b[36m0:00:00\u001b[0m\n",
            "\u001b[2K   \u001b[90m━━━━━━━━━━━━━━━━━━━━━━━━━━━━━━━━━━━━━━━━\u001b[0m \u001b[32m454.8/454.8 kB\u001b[0m \u001b[31m28.0 MB/s\u001b[0m eta \u001b[36m0:00:00\u001b[0m\n",
            "\u001b[2K   \u001b[90m━━━━━━━━━━━━━━━━━━━━━━━━━━━━━━━━━━━━━━━━\u001b[0m \u001b[32m46.0/46.0 kB\u001b[0m \u001b[31m3.3 MB/s\u001b[0m eta \u001b[36m0:00:00\u001b[0m\n",
            "\u001b[2K   \u001b[90m━━━━━━━━━━━━━━━━━━━━━━━━━━━━━━━━━━━━━━━━\u001b[0m \u001b[32m86.8/86.8 kB\u001b[0m \u001b[31m5.8 MB/s\u001b[0m eta \u001b[36m0:00:00\u001b[0m\n",
            "\u001b[?25h  Building wheel for pypika (pyproject.toml) ... \u001b[?25l\u001b[?25hdone\n",
            "\u001b[31mERROR: pip's dependency resolver does not currently take into account all the packages that are installed. This behaviour is the source of the following dependency conflicts.\n",
            "google-colab 1.0.0 requires pandas==2.2.2, but you have pandas 1.5.3 which is incompatible.\n",
            "thinc 8.3.6 requires numpy<3.0.0,>=2.0.0, but you have numpy 1.25.2 which is incompatible.\u001b[0m\u001b[31m\n",
            "\u001b[0m"
          ]
        }
      ]
    },
    {
      "cell_type": "code",
      "source": [
        "#Libraries for processing dataframes,text\n",
        "import json,os\n",
        "import tiktoken\n",
        "import pandas as pd\n",
        "\n",
        "#Libraries for Loading Data, Chunking, Embedding, and Vector Databases\n",
        "from langchain.text_splitter import RecursiveCharacterTextSplitter\n",
        "from langchain_community.document_loaders import PyMuPDFLoader\n",
        "from langchain_community.embeddings.sentence_transformer import SentenceTransformerEmbeddings\n",
        "from langchain_community.vectorstores import Chroma\n",
        "\n",
        "from huggingface_hub import hf_hub_download\n",
        "from llama_cpp import Llama"
      ],
      "metadata": {
        "id": "gfPqzwD-sdps"
      },
      "execution_count": null,
      "outputs": []
    },
    {
      "cell_type": "markdown",
      "metadata": {
        "id": "TtZWqj0wFTS1"
      },
      "source": [
        "## Question Answering using LLM"
      ]
    },
    {
      "cell_type": "markdown",
      "metadata": {
        "id": "Uq1lhM4WFTS2"
      },
      "source": [
        "### Downloading and Loading the model"
      ]
    },
    {
      "cell_type": "code",
      "execution_count": null,
      "metadata": {
        "id": "ONZL0PJNFTS2"
      },
      "outputs": [],
      "source": [
        "model_name_or_path = \"TheBloke/Mistral-7B-Instruct-v0.2-GGUF\"\n",
        "model_basename = \"mistral-7b-instruct-v0.2.Q6_K.gguf\""
      ]
    },
    {
      "cell_type": "code",
      "execution_count": null,
      "metadata": {
        "id": "2Y-lNyJJFTS3",
        "colab": {
          "base_uri": "https://localhost:8080/",
          "height": 156,
          "referenced_widgets": [
            "84acd7853d854fd786ccdce7304009f6",
            "f84a4cd7fd234e06b99216bbc90e3216",
            "4952a5e5bccf40d89ba4e702f9ad72e2",
            "80b703fe16104e57b24589203bc1bb8c",
            "ecc549fa90cd43ae903c35b6ac2ddfed",
            "69f1f21059b348c88cebe5a1017cf358",
            "151820d64aa942a8a6a421faac162c53",
            "e3b7e87f39304096bd42a7ddd87de22d",
            "e99eace19f134aedb41f530f5e395cae",
            "9e5f775c3a374c189f67bf4147238bae",
            "8ccd4f30453a441c95ef9776ffec277d"
          ]
        },
        "outputId": "005d3f5c-a8cc-4b7f-ca37-6c7d719575b2"
      },
      "outputs": [
        {
          "output_type": "stream",
          "name": "stderr",
          "text": [
            "/usr/local/lib/python3.11/dist-packages/huggingface_hub/utils/_token.py:89: UserWarning: \n",
            "The secret `HF_TOKEN` does not exist in your Colab secrets.\n",
            "To authenticate with the Hugging Face Hub, create a token in your settings tab (https://huggingface.co/settings/tokens), set it as secret in your Google Colab and restart your session.\n",
            "You will be able to reuse this secret in all of your notebooks.\n",
            "Please note that authentication is recommended but still optional to access public models or datasets.\n",
            "  warnings.warn(\n"
          ]
        },
        {
          "output_type": "display_data",
          "data": {
            "text/plain": [
              "mistral-7b-instruct-v0.2.Q6_K.gguf:   0%|          | 0.00/5.94G [00:00<?, ?B/s]"
            ],
            "application/vnd.jupyter.widget-view+json": {
              "version_major": 2,
              "version_minor": 0,
              "model_id": "84acd7853d854fd786ccdce7304009f6"
            }
          },
          "metadata": {}
        }
      ],
      "source": [
        "model_path = hf_hub_download(\n",
        "    repo_id= model_name_or_path,\n",
        "    filename= model_basename\n",
        ")"
      ]
    },
    {
      "cell_type": "code",
      "execution_count": null,
      "metadata": {
        "id": "rhVkc91BFTS3",
        "colab": {
          "base_uri": "https://localhost:8080/"
        },
        "outputId": "f1279c69-250a-4b1f-f5cc-d28ebc063c41"
      },
      "outputs": [
        {
          "output_type": "stream",
          "name": "stderr",
          "text": [
            "AVX = 1 | AVX2 = 1 | AVX512 = 0 | AVX512_VBMI = 0 | AVX512_VNNI = 0 | FMA = 1 | NEON = 0 | ARM_FMA = 0 | F16C = 1 | FP16_VA = 0 | WASM_SIMD = 0 | BLAS = 0 | SSE3 = 1 | SSSE3 = 1 | VSX = 0 | \n"
          ]
        }
      ],
      "source": [
        "#model parameters when runtime is connected to GPU\n",
        "llm = Llama(\n",
        "    model_path=model_path,\n",
        "    n_ctx=2300,\n",
        "    n_gpu_layers=38,\n",
        "    n_batch=512\n",
        ")"
      ]
    },
    {
      "cell_type": "markdown",
      "metadata": {
        "id": "EzzkvIXvFTS4"
      },
      "source": [
        "### Response"
      ]
    },
    {
      "cell_type": "code",
      "execution_count": null,
      "metadata": {
        "id": "Ve3UOjcUFTS4"
      },
      "outputs": [],
      "source": [
        "def response(query,max_tokens=750,temperature=0,top_p=0.95,top_k=50):\n",
        "    model_output = llm(\n",
        "      prompt=query,\n",
        "      max_tokens=max_tokens,\n",
        "      temperature=temperature,\n",
        "      top_p=top_p,\n",
        "      top_k=top_k\n",
        "    )\n",
        "\n",
        "    return model_output['choices'][0]['text']"
      ]
    },
    {
      "cell_type": "code",
      "execution_count": null,
      "metadata": {
        "id": "qJ9Wd9VOFTS4",
        "colab": {
          "base_uri": "https://localhost:8080/",
          "height": 89
        },
        "outputId": "4ba40038-5d5e-4489-aadf-3d2765ceae25"
      },
      "outputs": [
        {
          "output_type": "execute_result",
          "data": {
            "text/plain": [
              "'\\n\\nHypertension, or high blood pressure, is a common condition that can increase the risk of various health problems such as heart disease, stroke, and kidney damage. The good news is that there are several effective treatment options available to help manage hypertension and reduce the risk of complications. Here are some of the most commonly used treatments:\\n\\n1. Lifestyle modifications: Making lifestyle changes is often the first line of defense against hypertension. This may include eating a healthy diet rich in fruits, vegetables, whole grains, and lean proteins; limiting sodium intake; getting regular physical activity'"
            ],
            "application/vnd.google.colaboratory.intrinsic+json": {
              "type": "string"
            }
          },
          "metadata": {},
          "execution_count": 10
        }
      ],
      "source": [
        "response(\"What treatment options are available for managing hypertension?\")"
      ]
    },
    {
      "cell_type": "markdown",
      "metadata": {
        "id": "K8YgK91SFjVY"
      },
      "source": [
        "### Query 1: What is the protocol for managing sepsis in a critical care unit?"
      ]
    },
    {
      "cell_type": "code",
      "execution_count": null,
      "metadata": {
        "id": "u2Q_QZ4OFjVa",
        "colab": {
          "base_uri": "https://localhost:8080/",
          "height": 89
        },
        "outputId": "4ce7c79e-cff3-40f7-8aa0-777aec66edde"
      },
      "outputs": [
        {
          "output_type": "stream",
          "name": "stderr",
          "text": [
            "Llama.generate: prefix-match hit\n"
          ]
        },
        {
          "output_type": "execute_result",
          "data": {
            "text/plain": [
              "'\\n\\nSepsis is a life-threatening condition that can arise from an infection, and it requires prompt recognition and aggressive management in a critical care unit. The following are general steps for managing sepsis in a critical care unit:\\n\\n1. Early recognition: Recognize the signs and symptoms of sepsis early and initiate treatment as soon as possible. Sepsis can present with various clinical features, including fever or hypothermia, tachycardia or bradycardia, altered mental status, respiratory distress, and lactic acidosis.\\n2. Source control'"
            ],
            "application/vnd.google.colaboratory.intrinsic+json": {
              "type": "string"
            }
          },
          "metadata": {},
          "execution_count": 16
        }
      ],
      "source": [
        "user_input = \"What is the protocol for managing sepsis in a critical care unit?\"\n",
        "response(user_input)"
      ]
    },
    {
      "cell_type": "markdown",
      "metadata": {
        "id": "J6yxICeVFjVc"
      },
      "source": [
        "### Query 2: What are the common symptoms for appendicitis, and can it be cured via medicine? If not, what surgical procedure should be followed to treat it?"
      ]
    },
    {
      "cell_type": "code",
      "execution_count": null,
      "metadata": {
        "id": "WO1OTE9CFjVd",
        "colab": {
          "base_uri": "https://localhost:8080/",
          "height": 89
        },
        "outputId": "fa35a28a-907b-4b21-ab26-f4c1df71c224"
      },
      "outputs": [
        {
          "output_type": "stream",
          "name": "stderr",
          "text": [
            "Llama.generate: prefix-match hit\n"
          ]
        },
        {
          "output_type": "execute_result",
          "data": {
            "text/plain": [
              "'\\n\\nAppendicitis is a medical condition characterized by inflammation of the appendix, a small tube-shaped organ located in the lower right side of the abdomen. The symptoms of appendicitis can vary from person to person, but some common signs include:\\n\\n1. Abdominal pain: The pain may start as a mild discomfort around the navel or in the lower right abdomen, which then gradually moves to the right lower quadrant and becomes more severe over time. The pain may be constant or intermittent and is often worsened by movement, coughing, or deep breathing'"
            ],
            "application/vnd.google.colaboratory.intrinsic+json": {
              "type": "string"
            }
          },
          "metadata": {},
          "execution_count": 10
        }
      ],
      "source": [
        "user_input_2 = \"What are the common symptoms for appendicitis, and can it be cured via medicine? If not, what surgical procedure should be followed to treat it?\" #Complete the code to define the query #2\n",
        "response(user_input_2)"
      ]
    },
    {
      "cell_type": "markdown",
      "metadata": {
        "id": "oflaoOGiFjVd"
      },
      "source": [
        "### Query 3: What are the effective treatments or solutions for addressing sudden patchy hair loss, commonly seen as localized bald spots on the scalp, and what could be the possible causes behind it?"
      ]
    },
    {
      "cell_type": "code",
      "execution_count": null,
      "metadata": {
        "id": "JFm5Tq7RFjVe",
        "colab": {
          "base_uri": "https://localhost:8080/",
          "height": 89
        },
        "outputId": "73fe9b06-5776-4094-b4eb-ddfd9161eb3c"
      },
      "outputs": [
        {
          "output_type": "stream",
          "name": "stderr",
          "text": [
            "Llama.generate: prefix-match hit\n"
          ]
        },
        {
          "output_type": "execute_result",
          "data": {
            "text/plain": [
              "\"\\n\\nSudden patchy hair loss, also known as alopecia areata, is a common autoimmune disorder that affects the hair follicles. It can result in round or oval bald patches on the scalp, but it can also occur on other parts of the body such as the beard area, eyebrows, or eyelashes.\\n\\nThe exact cause of alopecia areata is not known, but it's believed to be related to a problem with the immune system. Some possible triggers for this condition include stress, genetics, viral infections, and certain medications.\""
            ],
            "application/vnd.google.colaboratory.intrinsic+json": {
              "type": "string"
            }
          },
          "metadata": {},
          "execution_count": 11
        }
      ],
      "source": [
        "user_input_3 = \"What are the effective treatments or solutions for addressing sudden patchy hair loss, commonly seen as localized bald spots on the scalp, and what could be the possible causes behind it?\" #Complete the code to define the query #3\n",
        "response(user_input_3)"
      ]
    },
    {
      "cell_type": "markdown",
      "metadata": {
        "id": "WUUqY4FbFjVe"
      },
      "source": [
        "### Query 4:  What treatments are recommended for a person who has sustained a physical injury to brain tissue, resulting in temporary or permanent impairment of brain function?"
      ]
    },
    {
      "cell_type": "code",
      "execution_count": null,
      "metadata": {
        "id": "DGmG9hYzFjVf",
        "colab": {
          "base_uri": "https://localhost:8080/",
          "height": 107
        },
        "outputId": "d060f962-e781-4251-bfd4-887558e462fb"
      },
      "outputs": [
        {
          "output_type": "stream",
          "name": "stderr",
          "text": [
            "Llama.generate: prefix-match hit\n"
          ]
        },
        {
          "output_type": "execute_result",
          "data": {
            "text/plain": [
              "\"\\n\\nA person who has sustained a physical injury to brain tissue, also known as a traumatic brain injury (TBI), may require various treatments depending on the severity and location of the injury. Here are some common treatments recommended for TBIs:\\n\\n1. Emergency care: The first priority is to ensure the person's airway is clear, they are breathing, and their heart is beating normally. In severe cases, emergency surgery may be required to remove hematomas or other obstructions.\\n2. Medications: Depending on the symptoms, medications may be prescribed to manage conditions such as\""
            ],
            "application/vnd.google.colaboratory.intrinsic+json": {
              "type": "string"
            }
          },
          "metadata": {},
          "execution_count": 12
        }
      ],
      "source": [
        "user_input_4 = \"What treatments are recommended for a person who has sustained a physical injury to brain tissue, resulting in temporary or permanent impairment of brain function?\" #Complete the code to define the query #4\n",
        "response(user_input_4)"
      ]
    },
    {
      "cell_type": "markdown",
      "metadata": {
        "id": "5laPFTHrFjVf"
      },
      "source": [
        "### Query 5: What are the necessary precautions and treatment steps for a person who has fractured their leg during a hiking trip, and what should be considered for their care and recovery?"
      ]
    },
    {
      "cell_type": "code",
      "execution_count": null,
      "metadata": {
        "id": "NQsR8SplFjVg",
        "colab": {
          "base_uri": "https://localhost:8080/",
          "height": 89
        },
        "outputId": "9059470d-84dd-4d8d-89a4-0e86ff66ed4a"
      },
      "outputs": [
        {
          "output_type": "stream",
          "name": "stderr",
          "text": [
            "Llama.generate: prefix-match hit\n"
          ]
        },
        {
          "output_type": "execute_result",
          "data": {
            "text/plain": [
              "\"\\n\\nFirst and foremost, if you suspect that someone has fractured their leg while hiking, it's essential to ensure their safety and prevent further injury. Here are some necessary precautions:\\n\\n1. Keep the person calm and still: Encourage them to remain as still as possible to minimize pain and prevent worsening the injury.\\n2. Assess the situation: Check for any signs of shock, such as pale skin, rapid heartbeat, or shallow breathing. If you notice these symptoms, seek medical help immediately.\\n3. Immobilize the leg: Use a splint, sl\""
            ],
            "application/vnd.google.colaboratory.intrinsic+json": {
              "type": "string"
            }
          },
          "metadata": {},
          "execution_count": 13
        }
      ],
      "source": [
        "user_input_5 = \"What are the necessary precautions and treatment steps for a person who has fractured their leg during a hiking trip, and what should be considered for their care and recovery?\" #Complete the code to define the query #5\n",
        "response(user_input_5)"
      ]
    },
    {
      "cell_type": "markdown",
      "metadata": {
        "id": "g5myZ5dOOefc"
      },
      "source": [
        "## Question Answering using LLM with Prompt Engineering"
      ]
    },
    {
      "cell_type": "code",
      "source": [
        "system_prompt = \"\"\"\n",
        "  This AI tool is for informational purposes only and is not a substitute for professional medical advice. Answer the asked question as thoroughly and accurately as possible.\n",
        "\n",
        "  When answering, please consider the following:\n",
        "  General Information: Only if asked, provide a comprehensive overview of the medical condition or topic.\n",
        "  Possible Causes/Risk Factors: Only if asked, explain the possible causes or risk factors associated with the condition.\n",
        "  Symptoms/Signs: Only if asked, list common symptoms or signs that a person might experience.\n",
        "  Diagnosis: Only if asked, explain comprehensively how the condition is typically diagnosed, including relevant tests or procedures.\n",
        "  Treatment Options: If asked, describe general treatment approaches, including medications, therapies, and lifestyle changes.\n",
        "  Complications: Mention potential complications associated with the condition.\n",
        "  Patient Education: Provide general information on the condition in clear and concise language, suitable for a general audience.\n",
        "  Further Reading: Include links to reputable sources, such as the National Institutes of Health (NIH), Mayo Clinic, and the Centers for Disease Control and Prevention (CDC), or professional organizations, to help the user find more information.\n",
        "  Desired Format: Please format the response as a numbered list with a brief explanation for each section.\n",
        "  Important Reminder: Provide this information assuming that a healthcare professional will review and use it; accuracy is of utmost importance.\n",
        "\n",
        "  Keep the answer close to the context of the question asked and keep medical jargon to minimal.\n",
        "\"\"\""
      ],
      "metadata": {
        "id": "VMZqTudYBCWv"
      },
      "execution_count": null,
      "outputs": []
    },
    {
      "cell_type": "markdown",
      "metadata": {
        "id": "9Jg3r_LWOeff"
      },
      "source": [
        "### Query 1: What is the protocol for managing sepsis in a critical care unit?"
      ]
    },
    {
      "cell_type": "code",
      "execution_count": null,
      "metadata": {
        "id": "O5zh3HQoOeff",
        "colab": {
          "base_uri": "https://localhost:8080/",
          "height": 357
        },
        "outputId": "c4c3ffbe-216e-4811-f95d-43620d82bd3b"
      },
      "outputs": [
        {
          "output_type": "stream",
          "name": "stderr",
          "text": [
            "Llama.generate: prefix-match hit\n"
          ]
        },
        {
          "output_type": "execute_result",
          "data": {
            "text/plain": [
              "\"\\n\\n1. Recognition and Early Detection: Sepsis is a life-threatening condition that requires prompt recognition and intervention. The early detection of sepsis involves identifying patients who are at risk, recognizing signs and symptoms, and initiating appropriate treatment as soon as possible. (Source: National Institutes of Health)\\n\\n2. Initial Assessment: Once sepsis is suspected, perform a rapid assessment to determine the severity of illness and prioritize interventions. This may include assessing vital signs, level of consciousness, respiratory status, cardiovascular function, urine output, and lactate levels. (Source: Surviving Sepsis Campaign)\\n\\n3. Fluid Resuscitation: Intravenous fluids are typically the first line of treatment for sepsis. The goal is to maintain adequate tissue perfusion and prevent organ dysfunction. Aggressive fluid resuscitation may be required, with targets for mean arterial pressure (MAP) and central venous pressure (CVP) based on the patient's clinical condition. (Source: Surviving Sepsis Campaign)\\n\\n4. Antibiotics: Administer broad-spectrum antibiotics as soon as possible to cover suspected pathogens. The choice of antibiotics should be based on the patient's clinical presentation, culture results, and local microbial resistance patterns. (Source: Surviving Sepsis Campaign)\\n\\n5. Source Control: Identify and address the source of infection whenever possible. This may involve surgical intervention, drainage procedures, or other interventions to remove or control the infection. (Source: Surviving Sepsis Campaign)\\n\\n6. Vasopressors: If fluid resuscitation fails to maintain adequate tissue perfusion, vasopressors may be required to support blood pressure and organ function. The choice of vasopressor should be based on the patient's hemodynamic status and response to fluids. (Source: Surviving Sepsis Campaign)\\n\\n7. Corticosteroids: In certain situations, such as septic shock or ARDS, corticosteroids may be considered to improve outcomes. However, their use should be based on clinical judgment and the latest guidelines. (Source: Surviving Sepsis Campaign)\\n\\n8. Other Supportive Measures: Additional supportive measures may include mechanical ventilation, renal replacement therapy, and other interventions as needed to maintain organ function and support the patient's overall condition. (Source: Surviving Sepsis Campaign)\\n\\n9. Monitoring and Follow-up: Close monitoring of the patient's clinical status is essential to ensure effective treatment and timely intervention for complications. This may involve regular assessments, laboratory tests, imaging studies, and other diagnostic procedures as needed. (Source: Surviving Sepsis Campaign)\\n\\n10. Education and Prevention: Healthcare professionals should be educated on the early recognition and management of sepsis to improve outcomes for patients. Additionally, efforts should be made to prevent infections and minimize the risk of sepsis through appropriate infection control practices. (Source: Centers for Disease Control and Prevention)\\n\\nFurther Reading:\\n- Surviving Sepsis Campaign: Guidelines for Management of Critically Ill Adults with Coronavirus Disease 2019 (COVID-19): https://www.survivingsepsis.org/wp-content/uploads/2020/\""
            ],
            "application/vnd.google.colaboratory.intrinsic+json": {
              "type": "string"
            }
          },
          "metadata": {},
          "execution_count": 20
        }
      ],
      "source": [
        "user_input = system_prompt+\"\\n\"+ \"What is the protocol for managing sepsis in a critical care unit?\"\n",
        "response(user_input)"
      ]
    },
    {
      "cell_type": "markdown",
      "metadata": {
        "id": "iYpyw4HjOeff"
      },
      "source": [
        "### Query 2: What are the common symptoms for appendicitis, and can it be cured via medicine? If not, what surgical procedure should be followed to treat it?"
      ]
    },
    {
      "cell_type": "code",
      "execution_count": null,
      "metadata": {
        "id": "WPPpDM6cOeff",
        "colab": {
          "base_uri": "https://localhost:8080/",
          "height": 250
        },
        "outputId": "76087e35-c0da-4354-d0bd-8a45d007c2a3"
      },
      "outputs": [
        {
          "output_type": "stream",
          "name": "stderr",
          "text": [
            "Llama.generate: prefix-match hit\n"
          ]
        },
        {
          "output_type": "execute_result",
          "data": {
            "text/plain": [
              "\"\\n\\n1. Symptoms/Signs:\\n   - Sudden pain in the lower right abdomen that starts near the navel and moves to the right side.\\n   - Loss of appetite.\\n   - Nausea and vomiting.\\n   - Abdominal swelling.\\n   - Fever (often over 101 degrees Fahrenheit or 38.3 degrees Celsius).\\n   - Pain when walking, coughing, or making other jarring movements.\\n   - Inability to pass gas or have a bowel movement.\\n2. Diagnosis:\\n   Appendicitis is typically diagnosed based on a combination of symptoms, physical examination findings, and imaging studies such as ultrasound or CT scan. A healthcare professional will perform a thorough medical history and physical exam, paying close attention to the abdomen. If appendicitis is suspected, further testing with imaging studies may be ordered to confirm the diagnosis.\\n3. Treatment Options:\\n   - Antibiotics alone are not sufficient to treat appendicitis as they do not address the inflamed appendix itself. Surgical removal of the appendix (appendectomy) is the standard treatment for appendicitis.\\n4. Complications:\\n   If left untreated, appendicitis can lead to a ruptured appendix, which can result in peritonitis - a serious inflammation of the abdominal cavity that can be life-threatening.\\n5. Patient Education:\\n   Appendicitis is an inflammatory condition of the appendix, a small tube-like structure located in the lower right side of the abdomen. The exact cause of appendicitis is not known but it's believed to be due to a blockage in the appendix that leads to bacterial growth and infection. If you experience sudden abdominal pain, loss of appetite, nausea, vomiting, or fever, seek medical attention immediately as these could be symptoms of appendicitis.\\n6. Further Reading:\\n   - National Institute of Diabetes and Digestive and Kidney Diseases (NIDDK): https://www.niddk.nih.gov/health-information/digestive-diseases/appendicitis\\n   - Mayo Clinic: https://www.mayoclinic.org/diseases-conditions/appendicitis/symptoms-causes/syc-20354817\\n   - American College of Surgeons: https://www.facs.org/quality-programs/appendicitis/patients\\n   - Centers for Disease Control and Prevention (CDC): https://www.cdc.gov/nchs/fastats/appendicitis.htm\""
            ],
            "application/vnd.google.colaboratory.intrinsic+json": {
              "type": "string"
            }
          },
          "metadata": {},
          "execution_count": 25
        }
      ],
      "source": [
        "user_input_2 = system_prompt+\"\\n\"+\"What are the common symptoms for appendicitis, and can it be cured via medicine? If not, what surgical procedure should be followed to treat it?\"\n",
        "response(user_input_2)"
      ]
    },
    {
      "cell_type": "markdown",
      "metadata": {
        "id": "dRp92JQZOeff"
      },
      "source": [
        "### Query 3: What are the effective treatments or solutions for addressing sudden patchy hair loss, commonly seen as localized bald spots on the scalp, and what could be the possible causes behind it?"
      ]
    },
    {
      "cell_type": "code",
      "execution_count": null,
      "metadata": {
        "id": "sC6rrtblOefg",
        "colab": {
          "base_uri": "https://localhost:8080/",
          "height": 232
        },
        "outputId": "b2c88c42-b7df-4737-ab62-23209327e2c2"
      },
      "outputs": [
        {
          "output_type": "stream",
          "name": "stderr",
          "text": [
            "Llama.generate: prefix-match hit\n"
          ]
        },
        {
          "output_type": "execute_result",
          "data": {
            "text/plain": [
              "'\\n\\n1. Possible Causes/Risk Factors:\\n   - Androgenetic alopecia (male or female pattern baldness)\\n   - Alopecia areata (an autoimmune condition that causes hair loss in patches)\\n   - Trauma, stress, or physical damage to the scalp\\n   - Nutritional deficiencies, such as iron-deficiency anemia or protein deficiency\\n   - Certain medications, including antidepressants and chemotherapy drugs\\n   - Hormonal imbalances, such as thyroid disorders\\n   - Infections, such as ringworm of the scalp\\n2. Symptoms/Signs:\\n   - Round or oval bald patches on the scalp\\n   - Sudden onset of hair loss in localized areas\\n   - Hair loss may occur in other parts of the body, such as eyebrows or beard\\n3. Diagnosis:\\n   - A thorough medical history and physical examination\\n   - Blood tests to check for nutritional deficiencies or hormonal imbalances\\n   - Scalp biopsy to rule out conditions like alopecia areata or ringworm\\n4. Treatment Options:\\n   - Topical treatments, such as minoxidil (Rogaine) or corticosteroids for alopecia areata\\n   - Oral medications, such as finasteride (Proscar, Propecia) for androgenetic alopecia\\n   - Hair transplantation or scalp micropigmentation for severe hair loss\\n   - Addressing underlying causes, such as nutritional deficiencies, hormonal imbalances, or stress\\n5. Complications:\\n   - Permanent hair loss in some cases\\n   - Psychological distress and reduced self-confidence\\n6. Patient Education:\\n   - Maintain a healthy diet to ensure proper nutrition for hair growth\\n   - Manage stress through relaxation techniques, such as meditation or yoga\\n   - Avoid harsh chemicals and heat styling tools on the scalp\\n   - Consult a healthcare professional if you suspect an underlying medical condition causing your hair loss\\n7. Further Reading:\\n   - American Academy of Dermatology: Hair Loss (Alopecia)\\n   - Mayo Clinic: Alopecia Areata\\n   - National Institute of Arthritis and Musculoskeletal and Skin Diseases: Hair Loss and Alopecia Areata\\n   - American Hair Loss Association: Understanding Your Hair Loss Treatment Options.'"
            ],
            "application/vnd.google.colaboratory.intrinsic+json": {
              "type": "string"
            }
          },
          "metadata": {},
          "execution_count": 26
        }
      ],
      "source": [
        "user_input_3 = system_prompt+\"\\n\"+\"What are the effective treatments or solutions for addressing sudden patchy hair loss, commonly seen as localized bald spots on the scalp, and what could be the possible causes behind it?\" #Complete the code to pass the query #3\n",
        "response(user_input_3)"
      ]
    },
    {
      "cell_type": "markdown",
      "metadata": {
        "id": "AA45zwyUOefg"
      },
      "source": [
        "### Query 4:  What treatments are recommended for a person who has sustained a physical injury to brain tissue, resulting in temporary or permanent impairment of brain function?"
      ]
    },
    {
      "cell_type": "code",
      "execution_count": null,
      "metadata": {
        "id": "3DrjIlKlOefg",
        "colab": {
          "base_uri": "https://localhost:8080/",
          "height": 286
        },
        "outputId": "93ed19a8-ae9e-422d-91e6-46b6e08abed0"
      },
      "outputs": [
        {
          "output_type": "stream",
          "name": "stderr",
          "text": [
            "Llama.generate: prefix-match hit\n"
          ]
        },
        {
          "output_type": "execute_result",
          "data": {
            "text/plain": [
              "'\\n\\n1. Rehabilitation: The primary treatment for brain injuries is rehabilitation, which can help restore lost functions and improve overall quality of life. This may include occupational therapy, speech therapy, physical therapy, and cognitive rehabilitation.\\n2. Medications: Depending on the specific symptoms and conditions, various medications may be prescribed to manage symptoms such as pain, seizures, or depression. For instance, anti-inflammatory drugs, anticonvulsants, and antidepressants might be used.\\n3. Surgery: In some cases, surgery may be necessary to remove hematomas (blood clots) or repair skull fractures that could be causing further damage or impairment.\\n4. Assistive Devices: Depending on the extent of the injury and resulting impairments, assistive devices such as wheelchairs, walkers, braces, or communication aids may be recommended to help individuals regain independence and improve their daily functioning.\\n5. Lifestyle modifications: Making lifestyle changes can also contribute to recovery and overall well-being. This might include getting enough rest, eating a healthy diet, engaging in regular physical activity, avoiding alcohol and drugs, and practicing stress management techniques.\\n6. Support groups: Joining support groups or connecting with others who have experienced similar injuries can provide emotional support and valuable information on coping strategies and resources for managing the challenges of brain injury recovery.\\n7. Vocational counseling: For individuals whose injuries impact their ability to work, vocational counseling may be recommended to help them explore alternative career options or adapt to their current job.\\n8. Educational accommodations: Depending on the severity and nature of the injury, educational accommodations such as extended time on tests, note-taking assistance, or specialized instruction might be necessary for students to succeed in their academic pursuits.\\n9. Community resources: Accessing community resources such as transportation services, home modifications, and financial assistance programs can help individuals with brain injuries overcome barriers and improve their overall well-being.\\n10. Long-term care: For those with permanent impairments or disabilities resulting from brain injury, long-term care may be necessary to ensure ongoing support and assistance with daily living activities. This could include in-home care, assisted living facilities, or nursing homes.'"
            ],
            "application/vnd.google.colaboratory.intrinsic+json": {
              "type": "string"
            }
          },
          "metadata": {},
          "execution_count": 27
        }
      ],
      "source": [
        "user_input_4 = system_prompt+'\\n'+'What treatments are recommended for a person who has sustained a physical injury to brain tissue, resulting in temporary or permanent impairment of brain function?' #Complete the code to pass the query #4\n",
        "response(user_input_4)"
      ]
    },
    {
      "cell_type": "markdown",
      "metadata": {
        "id": "TYXxiSuBOefg"
      },
      "source": [
        "### Query 5: What are the necessary precautions and treatment steps for a person who has fractured their leg during a hiking trip, and what should be considered for their care and recovery?"
      ]
    },
    {
      "cell_type": "code",
      "execution_count": null,
      "metadata": {
        "id": "Ue8Lk8uXOefg",
        "colab": {
          "base_uri": "https://localhost:8080/",
          "height": 286
        },
        "outputId": "852112ad-ee00-49d7-fedf-2196ae18c315"
      },
      "outputs": [
        {
          "metadata": {
            "tags": null
          },
          "name": "stderr",
          "output_type": "stream",
          "text": [
            "Llama.generate: prefix-match hit\n"
          ]
        },
        {
          "data": {
            "application/vnd.google.colaboratory.intrinsic+json": {
              "type": "string"
            },
            "text/plain": [
              "\"\\n\\n1. **Immediate Care:** If a person suspects they have fractured their leg while hiking, they should try to keep the injured leg still to prevent further damage. They should not attempt to walk on it and should seek medical attention as soon as possible. If the injury is severe or if the person cannot move, call for emergency medical services.\\n\\n2. **Precautions:** While waiting for medical help, the person should keep the injured leg elevated above heart level to reduce swelling and pain. They should also apply a cool compress to the area to help reduce inflammation. If there is visible bleeding, use a clean cloth to apply gentle pressure to the wound to control the bleeding.\\n\\n3. **Diagnosis:** A healthcare professional will typically diagnose a leg fracture through a physical examination and imaging tests such as X-rays or CT scans. They may also ask about the circumstances of the injury and perform other diagnostic tests if necessary.\\n\\n4. **Treatment Options:** Treatment for a leg fracture depends on the severity and location of the fracture. It may include immobilization with a cast, brace, or splint to keep the bone in place while it heals. In some cases, surgery may be required to realign the bones or insert metal plates or screws to hold them together.\\n\\n5. **Complications:** Complications of a leg fracture can include infection, blood clots, and delayed healing. The person should be aware of signs of infection such as redness, warmth, swelling, or pus at the injury site, and report any symptoms to their healthcare provider. They may also be prescribed medications to prevent blood clots and given instructions on how to care for their wound to promote proper healing.\\n\\n6. **Patient Education:** The person should understand that a leg fracture can take several weeks or even months to heal completely, depending on the severity of the injury. They should follow their healthcare provider's instructions carefully regarding immobilization, pain management, and rehabilitation exercises to ensure a full recovery.\\n\\n7. **Further Reading:** For more information on leg fractures, including causes, risk factors, symptoms, diagnosis, treatment options, and complications, the following resources may be helpful:\\n   - National Institute of Arthritis and Musculoskeletal and Skin Diseases (NIAMS): <https://www.niams.nih.gov/health-topics/broken-bone-fractures/>\\n   - Mayo Clinic: <https://www.mayoclinic.org/diseases-conditions/leg-fracture/symptoms-causes/syc-20354817>\\n   - American Academy of Orthopaedic Surgeons (AAOS): <https://orthoinfo.aaos.org/en/topic.cfm/A006922>\""
            ]
          },
          "execution_count": 28,
          "metadata": {},
          "output_type": "execute_result"
        }
      ],
      "source": [
        "user_input_5 = system_prompt+'\\n'+'What are the necessary precautions and treatment steps for a person who has fractured their leg during a hiking trip, and what should be considered for their care and recovery?' #Complete the code to pass the query #5\n",
        "response(user_input_5)"
      ]
    },
    {
      "cell_type": "markdown",
      "source": [
        "## Data Preparation for RAG"
      ],
      "metadata": {
        "id": "t_O1PGdNO2M9"
      }
    },
    {
      "cell_type": "markdown",
      "metadata": {
        "id": "uTpWESc53dL9"
      },
      "source": [
        "### Loading the Data"
      ]
    },
    {
      "cell_type": "code",
      "execution_count": null,
      "metadata": {
        "id": "a5dLjPsyi1A4",
        "colab": {
          "base_uri": "https://localhost:8080/"
        },
        "outputId": "608a595f-a95a-4688-9d00-f9d0ce250271"
      },
      "outputs": [
        {
          "output_type": "stream",
          "name": "stdout",
          "text": [
            "Mounted at /content/drive\n"
          ]
        }
      ],
      "source": [
        " from google.colab import drive\n",
        " drive.mount('/content/drive')"
      ]
    },
    {
      "cell_type": "code",
      "execution_count": null,
      "metadata": {
        "id": "ksv9hSCR4BM_"
      },
      "outputs": [],
      "source": [
        "manual_pdf_path = \"/content/drive/MyDrive/Colab Notebooks/medical_diagnosis_manual.pdf\""
      ]
    },
    {
      "cell_type": "code",
      "execution_count": null,
      "metadata": {
        "id": "jhf34I1eYNtR"
      },
      "outputs": [],
      "source": [
        "pdf_loader = PyMuPDFLoader(manual_pdf_path)"
      ]
    },
    {
      "cell_type": "code",
      "execution_count": null,
      "metadata": {
        "id": "YChLS31TxC3-"
      },
      "outputs": [],
      "source": [
        "manual = pdf_loader.load()"
      ]
    },
    {
      "cell_type": "markdown",
      "metadata": {
        "id": "ffj0ca3eZT4u"
      },
      "source": [
        "### Data Overview"
      ]
    },
    {
      "cell_type": "markdown",
      "metadata": {
        "id": "f9weTDzMxRRS"
      },
      "source": [
        "#### Checking the first 5 pages"
      ]
    },
    {
      "cell_type": "code",
      "execution_count": null,
      "metadata": {
        "id": "JSOv3q2pxX4z",
        "colab": {
          "base_uri": "https://localhost:8080/"
        },
        "outputId": "1389121f-01ac-4320-8b87-09c9952d22aa"
      },
      "outputs": [
        {
          "output_type": "stream",
          "name": "stdout",
          "text": [
            "Page Number : 1\n",
            "poojakpotnis@gmail.com\n",
            "Z6SR9UQAV3\n",
            "ant for personal use by poojakpotnis@g\n",
            "shing the contents in part or full is liable \n",
            "\n",
            "Page Number : 2\n",
            "poojakpotnis@gmail.com\n",
            "Z6SR9UQAV3\n",
            "This file is meant for personal use by poojakpotnis@gmail.com only.\n",
            "Sharing or publishing the contents in part or full is liable for legal action.\n",
            "\n",
            "Page Number : 3\n",
            "Table of Contents\n",
            "1\n",
            "Front    ................................................................................................................................................................................................................\n",
            "1\n",
            "Cover    .......................................................................................................................................................................................................\n",
            "2\n",
            "Front Matter    ...........................................................................................................................................................................................\n",
            "53\n",
            "1 - Nutritional Disorders    ...............................................................................................................................................................\n",
            "53\n",
            "Chapter 1. Nutrition: General Considerations    .....................................................................................................................\n",
            "59\n",
            "Chapter 2. Undernutrition    .............................................................................................................................................................\n",
            "69\n",
            "Chapter 3. Nutritional Support    ...................................................................................................................................................\n",
            "76\n",
            "Chapter 4. Vitamin Deficiency, Dependency & Toxicity    ..................................................................................................\n",
            "99\n",
            "Chapter 5. Mineral Deficiency & Toxicity    ..............................................................................................................................\n",
            "108\n",
            "Chapter 6. Obesity & the Metabolic Syndrome    ...............................................................................................................\n",
            "120\n",
            "2 - Gastrointestinal Disorders    ..............................................................................................................................................\n",
            "120\n",
            "Chapter 7. Approach to the Patient With Upper GI Complaints    ...............................................................................\n",
            "132\n",
            "Chapter 8. Approach to the Patient With Lower GI Complaints    ...............................................................................\n",
            "143\n",
            "Chapter 9. Diagnostic & Therapeutic GI Procedures    ....................................................................................................\n",
            "150\n",
            "Chapter 10. GI Bleeding    ............................................................................................................................................................\n",
            "158\n",
            "Chapter 11. Acute Abdomen & Surgical Gastroenterology    .........................................................................................\n",
            "172\n",
            "Chapter 12. Esophageal & Swallowing Disorders    ..........................................................................................................\n",
            "183\n",
            "Chapter 13. Gastritis & Peptic Ulcer Disease    ..................................................................................................................\n",
            "196\n",
            "Chapter 14. Bezoars & Foreign Bodies    ..............................................................................................................................\n",
            "199\n",
            "Chapter 15. Pancreatitis    ............................................................................................................................................................\n",
            "206\n",
            "Chapter 16. Gastroenteritis    ......................................................................................................................................................\n",
            "213\n",
            "Chapter 17. Malabsorption Syndromes    ..............................................................................................................................\n",
            "225\n",
            "Chapter 18. Irritable Bowel Syndrome    ................................................................................................................................\n",
            "229\n",
            "Chapter 19. Inflammatory Bowel Disease    .........................................................................................................................\n",
            "241\n",
            "Chapter 20. Diverticular Disease    ...........................................................................................................................................\n",
            "246\n",
            "Chapter 21. Anorectal Disorders    ............................................................................................................................................\n",
            "254\n",
            "Chapter 22. Tumors of the GI Tract    ......................................................................................................................................\n",
            "275\n",
            "3 - Hepatic & Biliary Disorders    ............................................................................................................................................\n",
            "275\n",
            "Chapter 23. Approach to the Patient With Liver Disease    ...........................................................................................\n",
            "294\n",
            "Chapter 24. Testing for Hepatic & Biliary Disorders    ......................................................................................................\n",
            "305\n",
            "Chapter 25. Drugs & the Liver    ................................................................................................................................................\n",
            "308\n",
            "Chapter 26. Alcoholic Liver Disease    ....................................................................................................................................\n",
            "314\n",
            "Chapter 27. Fibrosis & Cirrhosis    ............................................................................................................................................\n",
            "322\n",
            "Chapter 28. Hepatitis    ..................................................................................................................................................................\n",
            "333\n",
            "Chapter 29. Vascular Disorders of the Liver    .....................................................................................................................\n",
            "341\n",
            "Chapter 30. Liver Masses & Granulomas    ..........................................................................................................................\n",
            "348\n",
            "Chapter 31. Gallbladder & Bile Duct Disorders    ...............................................................................................................\n",
            "362\n",
            "4 - Musculoskeletal & Connective Tissue Disorders    .........................................................................................\n",
            "362\n",
            "Chapter 32. Approach to the Patient With Joint Disease    ............................................................................................\n",
            "373\n",
            "Chapter 33. Autoimmune Rheumatic Disorders    ..............................................................................................................\n",
            "391\n",
            "Chapter 34. Vasculitis    .................................................................................................................................................................\n",
            "416\n",
            "Chapter 35. Joint Disorders    .....................................................................................................................................................\n",
            "435\n",
            "Chapter 36. Crystal-Induced Arthritides    ..............................................................................................................................\n",
            "443\n",
            "Chapter 37. Osteoporosis    .........................................................................................................................................................\n",
            "448\n",
            "Chapter 38. Paget's Disease of Bone    ..................................................................................................................................\n",
            "451\n",
            "Chapter 39. Osteonecrosis    .......................................................................................................................................................\n",
            "455\n",
            "Chapter 40. Infections of Joints & Bones    ...........................................................................................................................\n",
            "463\n",
            "Chapter 41. Bursa, Muscle & Tendon Disorders    .............................................................................................................\n",
            "470\n",
            "Chapter 42. Neck & Back Pain    ...............................................................................................................................................\n",
            "481\n",
            "Chapter 43. Hand Disorders    ....................................................................................................................................................\n",
            "poojakpotnis@gmail.com\n",
            "Z6SR9UQAV3\n",
            "This file is meant for personal use by poojakpotnis@gmail.com only.\n",
            "Sharing or publishing the contents in part or full is liable for legal action.\n",
            "\n",
            "Page Number : 4\n",
            "491\n",
            "Chapter 44. Foot & Ankle Disorders    .....................................................................................................................................\n",
            "502\n",
            "Chapter 45. Tumors of Bones & Joints    ...............................................................................................................................\n",
            "510\n",
            "5 - Ear, Nose, Throat & Dental Disorders    ..................................................................................................................\n",
            "510\n",
            "Chapter 46. Approach to the Patient With Ear Problems    ...........................................................................................\n",
            "523\n",
            "Chapter 47. Hearing Loss    .........................................................................................................................................................\n",
            "535\n",
            "Chapter 48. Inner Ear Disorders    ............................................................................................................................................\n",
            "542\n",
            "Chapter 49. Middle Ear & Tympanic Membrane Disorders    ........................................................................................\n",
            "550\n",
            "Chapter 50. External Ear Disorders    .....................................................................................................................................\n",
            "554\n",
            "Chapter 51. Approach to the Patient With Nasal & Pharyngeal Symptoms    .......................................................\n",
            "567\n",
            "Chapter 52. Oral & Pharyngeal Disorders    .........................................................................................................................\n",
            "578\n",
            "Chapter 53. Nose & Paranasal Sinus Disorders    .............................................................................................................\n",
            "584\n",
            "Chapter 54. Laryngeal Disorders    ...........................................................................................................................................\n",
            "590\n",
            "Chapter 55. Tumors of the Head & Neck    ...........................................................................................................................\n",
            "600\n",
            "Chapter 56. Approach to Dental & Oral Symptoms    .......................................................................................................\n",
            "619\n",
            "Chapter 57. Common Dental Disorders    .............................................................................................................................\n",
            "629\n",
            "Chapter 58. Dental Emergencies    ..........................................................................................................................................\n",
            "635\n",
            "Chapter 59. Temporomandibular Disorders    ......................................................................................................................\n",
            "641\n",
            "6 - Eye Disorders    ............................................................................................................................................................................\n",
            "641\n",
            "Chapter 60. Approach to the Ophthalmologic Patient    ..................................................................................................\n",
            "669\n",
            "Chapter 61. Refractive Error    ...................................................................................................................................................\n",
            "674\n",
            "Chapter 62. Eyelid & Lacrimal Disorders    ...........................................................................................................................\n",
            "680\n",
            "Chapter 63. Conjunctival & Scleral Disorders    .................................................................................................................\n",
            "690\n",
            "Chapter 64. Corneal Disorders    ...............................................................................................................................................\n",
            "703\n",
            "Chapter 65. Glaucoma    ...............................................................................................................................................................\n",
            "710\n",
            "Chapter 66. Cataract    ...................................................................................................................................................................\n",
            "713\n",
            "Chapter 67. Uveitis    ......................................................................................................................................................................\n",
            "719\n",
            "Chapter 68. Retinal Disorders    .................................................................................................................................................\n",
            "731\n",
            "Chapter 69. Optic Nerve Disorders    ......................................................................................................................................\n",
            "737\n",
            "Chapter 70. Orbital Diseases    ..................................................................................................................................................\n",
            "742\n",
            "7 - Dermatologic Disorders    ....................................................................................................................................................\n",
            "742\n",
            "Chapter 71. Approach to the Dermatologic Patient    .......................................................................................................\n",
            "755\n",
            "Chapter 72. Principles of Topical Dermatologic Therapy    ............................................................................................\n",
            "760\n",
            "Chapter 73. Acne & Related Disorders    ...............................................................................................................................\n",
            "766\n",
            "Chapter 74. Bullous Diseases    .................................................................................................................................................\n",
            "771\n",
            "Chapter 75. Cornification Disorders    .....................................................................................................................................\n",
            "775\n",
            "Chapter 76. Dermatitis    ...............................................................................................................................................................\n",
            "786\n",
            "Chapter 77. Reactions to Sunlight    ........................................................................................................................................\n",
            "791\n",
            "Chapter 78. Psoriasis & Scaling Diseases    ........................................................................................................................\n",
            "799\n",
            "Chapter 79. Hypersensitivity & Inflammatory Disorders    .............................................................................................\n",
            "808\n",
            "Chapter 80. Sweating Disorders    ............................................................................................................................................\n",
            "811\n",
            "Chapter 81. Bacterial Skin Infections    ...................................................................................................................................\n",
            "822\n",
            "Chapter 82. Fungal Skin Infections    ......................................................................................................................................\n",
            "831\n",
            "Chapter 83. Parasitic Skin Infections    ...................................................................................................................................\n",
            "836\n",
            "Chapter 84. Viral Skin Diseases    ............................................................................................................................................\n",
            "841\n",
            "Chapter 85. Pigmentation Disorders    ....................................................................................................................................\n",
            "846\n",
            "Chapter 86. Hair Disorders    .......................................................................................................................................................\n",
            "855\n",
            "Chapter 87. Nail Disorders    .......................................................................................................................................................\n",
            "861\n",
            "Chapter 88. Pressure Ulcers    ...................................................................................................................................................\n",
            "867\n",
            "Chapter 89. Benign Tumors    .....................................................................................................................................................\n",
            "874\n",
            "Chapter 90. Cancers of the Skin    ............................................................................................................................................\n",
            "882\n",
            "8 - Endocrine & Metabolic Disorders    .............................................................................................................................\n",
            "882\n",
            "Chapter 91. Principles of Endocrinology    ............................................................................................................................\n",
            "887\n",
            "Chapter 92. Pituitary Disorders    ..............................................................................................................................................\n",
            "901\n",
            "Chapter 93. Thyroid Disorders    ................................................................................................................................................\n",
            "poojakpotnis@gmail.com\n",
            "Z6SR9UQAV3\n",
            "This file is meant for personal use by poojakpotnis@gmail.com only.\n",
            "Sharing or publishing the contents in part or full is liable for legal action.\n",
            "\n",
            "Page Number : 5\n",
            "921\n",
            "Chapter 94. Adrenal Disorders    ................................................................................................................................................\n",
            "936\n",
            "Chapter 95. Polyglandular Deficiency Syndromes    ........................................................................................................\n",
            "939\n",
            "Chapter 96. Porphyrias    ..............................................................................................................................................................\n",
            "949\n",
            "Chapter 97. Fluid & Electrolyte Metabolism    .....................................................................................................................\n",
            "987\n",
            "Chapter 98. Acid-Base Regulation & Disorders    ..............................................................................................................\n",
            "1001\n",
            "Chapter 99. Diabetes Mellitus & Disorders of Carbohydrate Metabolism    ........................................................\n",
            "1024\n",
            "Chapter 100. Lipid Disorders    ................................................................................................................................................\n",
            "1034\n",
            "Chapter 101. Amyloidosis    ......................................................................................................................................................\n",
            "1037\n",
            "Chapter 102. Carcinoid Tumors    ..........................................................................................................................................\n",
            "1040\n",
            "Chapter 103. Multiple Endocrine Neoplasia Syndromes    .........................................................................................\n",
            "1046\n",
            "9 - Hematology & Oncology    ...............................................................................................................................................\n",
            "1046\n",
            "Chapter 104. Approach to the Patient With Anemia    ..................................................................................................\n",
            "1050\n",
            "Chapter 105. Anemias Caused by Deficient Erythropoiesis    ...................................................................................\n",
            "1061\n",
            "Chapter 106. Anemias Caused by Hemolysis    ...............................................................................................................\n",
            "1078\n",
            "Chapter 107. Neutropenia & Lymphocytopenia    ...........................................................................................................\n",
            "1086\n",
            "Chapter 108. Thrombocytopenia & Platelet Dysfunction    .........................................................................................\n",
            "1097\n",
            "Chapter 109. Hemostasis    ......................................................................................................................................................\n",
            "1104\n",
            "Chapter 110. Thrombotic Disorders    ...................................................................................................................................\n",
            "1107\n",
            "Chapter 111. Coagulation Disorders    ..................................................................................................................................\n",
            "1113\n",
            "Chapter 112. Bleeding Due to Abnormal Blood Vessels    ...........................................................................................\n",
            "1116\n",
            "Chapter 113. Spleen Disorders    ............................................................................................................................................\n",
            "1120\n",
            "Chapter 114. Eosinophilic Disorders    .................................................................................................................................\n",
            "1126\n",
            "Chapter 115. Histiocytic Syndromes    .................................................................................................................................\n",
            "1131\n",
            "Chapter 116. Myeloproliferative Disorders    .....................................................................................................................\n",
            "1141\n",
            "Chapter 117. Leukemias    .........................................................................................................................................................\n",
            "1154\n",
            "Chapter 118. Lymphomas    ......................................................................................................................................................\n",
            "1164\n",
            "Chapter 119. Plasma Cell Disorders    .................................................................................................................................\n",
            "1172\n",
            "Chapter 120. Iron Overload    ...................................................................................................................................................\n",
            "1177\n",
            "Chapter 121. Transfusion Medicine    ...................................................................................................................................\n",
            "1186\n",
            "Chapter 122. Overview of Cancer    ......................................................................................................................................\n",
            "1198\n",
            "Chapter 123. Tumor Immunology    .......................................................................................................................................\n",
            "1204\n",
            "Chapter 124. Principles of Cancer Therapy    ...................................................................................................................\n",
            "1215\n",
            "10 - Immunology; Allergic Disorders    ...........................................................................................................................\n",
            "1215\n",
            "Chapter 125. Biology of the Immune System    ...............................................................................................................\n",
            "1227\n",
            "Chapter 126. Immunodeficiency Disorders    ....................................................................................................................\n",
            "1243\n",
            "Chapter 127. Allergic & Other Hypersensitivity Disorders    .......................................................................................\n",
            "1263\n",
            "Chapter 128. Transplantation    ...............................................................................................................................................\n",
            "1281\n",
            "11 - Infectious Diseases    ........................................................................................................................................................\n",
            "1281\n",
            "Chapter 129. Biology of Infectious Disease    ...................................................................................................................\n",
            "1300\n",
            "Chapter 130. Laboratory Diagnosis of Infectious Disease    ......................................................................................\n",
            "1306\n",
            "Chapter 131. Immunization    ...................................................................................................................................................\n",
            "1313\n",
            "Chapter 132. Bacteria & Antibacterial Drugs    .................................................................................................................\n",
            "1353\n",
            "Chapter 133. Gram-Positive Cocci    ....................................................................................................................................\n",
            "1366\n",
            "Chapter 134. Gram-Positive Bacilli    ...................................................................................................................................\n",
            "1376\n",
            "Chapter 135. Gram-Negative Bacilli    .................................................................................................................................\n",
            "1405\n",
            "Chapter 136. Spirochetes    ......................................................................................................................................................\n",
            "1413\n",
            "Chapter 137. Neisseriaceae    .................................................................................................................................................\n",
            "1419\n",
            "Chapter 138. Chlamydia & Mycoplasmas    ......................................................................................................................\n",
            "1421\n",
            "Chapter 139. Rickettsiae & Related Organisms    ..........................................................................................................\n",
            "1431\n",
            "Chapter 140. Anaerobic Bacteria    ........................................................................................................................................\n",
            "1450\n",
            "Chapter 141. Mycobacteria    ...................................................................................................................................................\n",
            "1470\n",
            "Chapter 142. Fungi    ...................................................................................................................................................................\n",
            "1493\n",
            "Chapter 143. Approach to Parasitic Infections    .............................................................................................................\n",
            "1496\n",
            "Chapter 144. Nematodes (Roundworms)    .......................................................................................................................\n",
            "poojakpotnis@gmail.com\n",
            "Z6SR9UQAV3\n",
            "This file is meant for personal use by poojakpotnis@gmail.com only.\n",
            "Sharing or publishing the contents in part or full is liable for legal action.\n",
            "\n"
          ]
        }
      ],
      "source": [
        "for i in range(5):\n",
        "    print(f\"Page Number : {i+1}\",end=\"\\n\")\n",
        "    print(manual[i].page_content,end=\"\\n\")"
      ]
    },
    {
      "cell_type": "markdown",
      "metadata": {
        "id": "7-wNNalNxPKT"
      },
      "source": [
        "#### Checking the number of pages"
      ]
    },
    {
      "cell_type": "code",
      "execution_count": null,
      "metadata": {
        "id": "scMnmNKtxBea",
        "colab": {
          "base_uri": "https://localhost:8080/"
        },
        "outputId": "45a122a5-5e7d-4b75-b412-46f10bed44fa"
      },
      "outputs": [
        {
          "output_type": "execute_result",
          "data": {
            "text/plain": [
              "4114"
            ]
          },
          "metadata": {},
          "execution_count": 12
        }
      ],
      "source": [
        "len(manual)"
      ]
    },
    {
      "cell_type": "markdown",
      "metadata": {
        "id": "LECMxTH-zB-R"
      },
      "source": [
        "### Data Chunking"
      ]
    },
    {
      "cell_type": "code",
      "execution_count": null,
      "metadata": {
        "id": "uG0_pBmizGGt"
      },
      "outputs": [],
      "source": [
        "text_splitter = RecursiveCharacterTextSplitter.from_tiktoken_encoder(\n",
        "    encoding_name='cl100k_base',\n",
        "    chunk_size=512,\n",
        "    chunk_overlap= 100\n",
        ")"
      ]
    },
    {
      "cell_type": "code",
      "execution_count": null,
      "metadata": {
        "id": "w76ji7ECzLLQ"
      },
      "outputs": [],
      "source": [
        "document_chunks = pdf_loader.load_and_split(text_splitter)"
      ]
    },
    {
      "cell_type": "code",
      "execution_count": null,
      "metadata": {
        "id": "i6TQ-mmLzR9I",
        "colab": {
          "base_uri": "https://localhost:8080/"
        },
        "outputId": "fe0d8593-78bf-4a49-d041-b4d7abb1d4a2"
      },
      "outputs": [
        {
          "output_type": "execute_result",
          "data": {
            "text/plain": [
              "9117"
            ]
          },
          "metadata": {},
          "execution_count": 15
        }
      ],
      "source": [
        "len(document_chunks)"
      ]
    },
    {
      "cell_type": "code",
      "execution_count": null,
      "metadata": {
        "id": "DuRoMIGNzZaJ",
        "colab": {
          "base_uri": "https://localhost:8080/",
          "height": 35
        },
        "outputId": "157de1e7-d7db-4002-b7c3-18d08b0fa86c"
      },
      "outputs": [
        {
          "output_type": "execute_result",
          "data": {
            "text/plain": [
              "'poojakpotnis@gmail.com\\nZ6SR9UQAV3\\nant for personal use by poojakpotnis@g\\nshing the contents in part or full is liable'"
            ],
            "application/vnd.google.colaboratory.intrinsic+json": {
              "type": "string"
            }
          },
          "metadata": {},
          "execution_count": 16
        }
      ],
      "source": [
        "document_chunks[0].page_content"
      ]
    },
    {
      "cell_type": "code",
      "execution_count": null,
      "metadata": {
        "id": "9xAQYLXqyCc6",
        "colab": {
          "base_uri": "https://localhost:8080/",
          "height": 214
        },
        "outputId": "5733bc08-b4b0-4295-c432-910a40d39df4"
      },
      "outputs": [
        {
          "output_type": "execute_result",
          "data": {
            "text/plain": [
              "'relatively low muscle-to-fat mass ratio), increases risk. The syndrome is less common among people who\\nhave excess subcutaneous fat around the hips (called pear shape) and a low waist-to-hip ratio (reflecting\\na higher muscle-to-fat mass ratio).\\nExcess abdominal fat leads to excess free fatty acids in the portal vein, increasing fat accumulation in the\\nliver. Fat also accumulates in muscle cells. Insulin resistance develops, with hyperinsulinemia. Glucose\\nmetabolism is impaired, and dyslipidemias and hypertension develop. Serum uric acid levels are typically\\nelevated, and a prothrombotic state (with increased levels of fibrinogen and plasminogen activator\\ninhibitor I) and an inflammatory state develop. Patients have an increased risk of obstructive sleep apnea.\\nOther risks include nonalcoholic steatohepatitis, chronic kidney disease, polycystic ovary syndrome (for\\nwomen), and low serum testosterone, erectile dysfunction, or both (for men).\\nDiagnosis\\n• Waist circumference and BP\\n• Fasting plasma glucose and a lipid profile\\nScreening is important. A family history plus measurement of waist circumference and BP are part of\\nroutine care. If patients with a family history of type 2 diabetes mellitus, particularly those ≥ 40 yr, have a\\nwaist circumference greater than that recommended for race and sex, fasting plasma glucose and a lipid\\nprofile must be determined.\\nMetabolic syndrome has many different definitions, but it is most often diagnosed when ≥ 3 of the\\nfollowing are present: excess abdominal fat, a high fasting plasma glucose level, hypertension, a high\\ntriglyceride level, and a low HDL cholesterol level (see Table 6-3).\\nThe Merck Manual of Diagnosis & Therapy, 19th Edition\\nChapter 6. Obesity & the Metabolic Syndrome\\n118\\npoojakpotnis@gmail.com\\nZ6SR9UQAV3\\nThis file is meant for personal use by poojakpotnis@gmail.com only.\\nSharing or publishing the contents in part or full is liable for legal action.'"
            ],
            "application/vnd.google.colaboratory.intrinsic+json": {
              "type": "string"
            }
          },
          "metadata": {},
          "execution_count": 17
        }
      ],
      "source": [
        "document_chunks[233].page_content"
      ]
    },
    {
      "cell_type": "code",
      "execution_count": null,
      "metadata": {
        "id": "Ju4gtXwiyILp",
        "colab": {
          "base_uri": "https://localhost:8080/",
          "height": 232
        },
        "outputId": "f0c1aa4c-1b33-4613-cda0-536ffdffd43f"
      },
      "outputs": [
        {
          "output_type": "execute_result",
          "data": {
            "text/plain": [
              "'Mood and work and personal relationships usually improve.\\nLong-term follow-up data are not yet available because these procedures are relatively new.\\nFollow-up\\nPatients should be monitored every 4 to 6 wk while weight loss is rapid (usually about the first 6 mo after\\nsurgery), then every 6 to 12 mo. Weight and BP are checked, and eating habits are reviewed. Blood tests\\n(usually CBC, electrolytes, glucose, BUN, creatinine, albumin, and protein) and liver function tests are\\ndone at each visit. If alkaline phosphatase is increased, parathyroid hormone level is measured; if\\nparathyroid hormone level is abnormal, bone density is monitored. If weight loss exceeds about 9 kg (20\\nlb)/mo, visits should be scheduled at least monthly, and blood tests should include Mg, phosphorus,\\nvitamin B12, and iron levels. Nutritional supplementation is sometimes necessary.\\nMetabolic Syndrome\\nMetabolic syndrome (syndrome X, insulin resistance syndrome) is characterized by a clustering\\nof risk factors for cardiovascular disease and type 2 diabetes mellitus. They commonly include\\nexcess intra-abdominal fat, insulin resistance, and ≥ 1 of the following: elevated serum\\ntriglyceride levels, decreased high-density lipoprotein (HDL) cholesterol level, and\\nhypertension. Causes, complications, diagnosis, and treatment are similar to those of obesity.\\nIn developed countries, metabolic syndrome is a serious problem. It is very common; in the US, > 40% of\\npeople > 50 yr may have it. Children and adolescents can develop\\n[\\nTable 6-3. Criteria Often Used for Diagnosis of Metabolic Syndrome*]\\nmetabolic syndrome, but in these age groups, no definition is established.\\nDevelopment of metabolic syndrome depends on distribution as well as amount of fat. Excess fat in the\\nabdomen (called apple shape), particularly when it results in a high waist-to-hip ratio (reflecting a\\nrelatively low muscle-to-fat mass ratio), increases risk. The syndrome is less common among people who\\nhave excess subcutaneous fat around the hips (called pear shape) and a low waist-to-hip ratio (reflecting\\na higher muscle-to-fat mass ratio).\\nExcess abdominal fat leads to excess free fatty acids in the portal vein, increasing fat accumulation in the'"
            ],
            "application/vnd.google.colaboratory.intrinsic+json": {
              "type": "string"
            }
          },
          "metadata": {},
          "execution_count": 18
        }
      ],
      "source": [
        "document_chunks[232].page_content"
      ]
    },
    {
      "cell_type": "markdown",
      "metadata": {
        "id": "Yl_9lAlGaYdf"
      },
      "source": [
        "As expected, there are some overlaps"
      ]
    },
    {
      "cell_type": "markdown",
      "metadata": {
        "id": "BvHVejcWz0Bl"
      },
      "source": [
        "### Embedding"
      ]
    },
    {
      "cell_type": "code",
      "execution_count": null,
      "metadata": {
        "id": "c6cZVZWQz15c",
        "colab": {
          "base_uri": "https://localhost:8080/",
          "height": 337,
          "referenced_widgets": [
            "dbfdc4d640d3437ea9668108bafed09b",
            "9c51618cef81494a88a8a9f03c08026a",
            "e154fca7cb044f6fa1f13cc8cb9d0b4c",
            "d352747620de4ec582f0f4d11b4a76b2",
            "8356f155607b40b68115a56955810c21",
            "4e207d7b32bb41f88ebdab81c5d6ab35",
            "73fa51433b244621a08aec630ec9a3cf",
            "267a1893f8ca4cf8928bb45ebdf161c4",
            "5eb734a39734459f832d478e750b5c6b",
            "5c28ee1c50a643958175300511108dd5",
            "e357ad44623e43efa895688d6c0d4fe2",
            "1180004b9e6644efb6dbb32573710f64",
            "e8d653e0a9984ce381fb9b9e58ebe0cc",
            "4892df2c69224fdab97560276d79b078",
            "a0295dd4d8e041769a2b194bbccfe4f8",
            "afb8124b758a49f2adc7f83298dcd3bf",
            "43b6227364774db9a5d71d7c4febe2d0",
            "25d6807e36624cdf8266e7728d8867f9",
            "ac5abfd9a88640a79d1654417fcd80ae",
            "ee2adabf499843b48001def5d7f42201",
            "2276e9f7d451471fbbe459d51e8da1e7",
            "27d1453bf41e4259a3ddc0e0a20152c8",
            "5726920d67214028b25db8fa691b0501",
            "f64f2c48b28a41bc92b43ca2956266de",
            "d1e9dacc61674a1494dcfd12bb284d7f",
            "ebdc5f335e6747b38a6ba6dde18ec472",
            "e6ac9ef0aebe445ab649bca88de33392",
            "7abf0eab0e2f43edb871e664360e0647",
            "4e9cf7a9fb114908886ad5ae27c23a28",
            "09e9341571064bbe9ae1646e8d8347d7",
            "6de9ac44f9a24e36a955273a159b5b00",
            "3265bab0cbf84ba195f44ff6ad0af3d8",
            "54d6e3fb92964cf18ac1a81a6661662b",
            "7dfe9ed59d5e4be78903ae06df3b95d3",
            "cf889b57767d44baa2b146a2d66e4720",
            "6ea0f859e49748c8a3b97380f609d572",
            "914bdb91b0314b13a258e0887700177c",
            "40a40f30890b4040831a98d3ccb33321",
            "f45f0ac20765454ba3d251924c9aa1f1",
            "b4b1ee8ea9e2489c89073f66680f99a6",
            "f12535ca79234b47a69118db6944ab95",
            "3d56984c7d474c2d920842359172417f",
            "40c40eef24ad459a98502f5095bbb9ca",
            "dcd0b2b935df47258b017f1955d2a67d",
            "181f5b938c8c4dcabf98f746b44ca1b6",
            "89eb55ef1f9f4fdbbbddfae680a0ddd7",
            "ecaa761914d64540920867363b219120",
            "cf49ab3d4cd64b2c9f13ed296b3d6e52",
            "b4bf706dd00a49e6a6c6934177961e77",
            "d1d3cc841a1e42bfa348017a83d45430",
            "016b7367d8624a86b06552e7dd17870e",
            "170d3f51ac5c4bcf887991791fb199f0",
            "07ca81eaeffb432db8929503488f7e0a",
            "a94a2d87fb124ee9ac3878dc47769e61",
            "c810cab595064ff397699eb7ad8eeeed",
            "61d8089b91c44bf3bb9104860fd3818e",
            "0afb1df84f774c4bbee8b27f09de5f8f",
            "f8b7487eee874c57b99128ef7156424a",
            "889cc4b4af7e40dda9eb9b6b46d7beb2",
            "0ea2d15f4c1b4e9e8d7782e82b540d5f",
            "8db52ef526324c27badc57c22117c094",
            "6b7c450f541141a8a314d6404fe997c3",
            "bc445071b9744822a723d3fa764487d5",
            "4255b2b754964e688f6f44284c54a646",
            "ca44e3957f364d7e89b3a1dbe624eb2f",
            "515b5b074ec9499392d2a6971099fa48",
            "67d36eee668742cb9d758fe04ead9b63",
            "6312453ed5b142fe9465f8c4470fb078",
            "e139eb0db1654f3295ea13023d7fe83a",
            "4e087010ae0c47bdba621b588b153060",
            "86a440e4fef24a118b9ef95121d14ae9",
            "563fa258268b4b8cbc34a7a0962cab53",
            "75e6726693b04485928b225f83204ba3",
            "dca210c83c874d6d8e54b118d85a6e11",
            "7881b361f46b45e79b97a8b53e9c3d88",
            "3142124cc077464abc92447b9d58ce40",
            "7bbe39fece594b9aa4bb9e08a6bc14e9",
            "df946b4ff1c745eeb438df70f722e11b",
            "89bfb829396b4942ae777a73eb424f3f",
            "cad7591fba02472ab657493ca5ece9ae",
            "9e1b8418980345f1876a525df015fe92",
            "6c5a1c1eaab04829ae0e12eefff124d6",
            "463a7182b15a4dd496e05370fbbb5131",
            "bb121a9b96064b809612c59ce9dfabf4",
            "ef2b2cbb53fb4af7bd5171be3c417d84",
            "2ea0cda9e9d94766a2dadc639b4d04ba",
            "4165c02270574454b5a115a9d269c247",
            "4dc4d471b6c84e30aaf1ba4e6b05085b",
            "d01671632b474d308c6c69abfdcb926b",
            "bc373b0585cb4c3c81f0cdb3adecd9b3",
            "466f39d2b2334308928d22d61dedffd4",
            "a6fc7bd9d46b4d1a900bad7ec6107d8a",
            "a6d5480e72f248d8bef0813f16b60624",
            "b255aa1b7483448bab80ab8c5f6b88b1",
            "72def96156794906962c31627f41ba48",
            "9f1c67747af942ce88ef21af6d6131ee",
            "ae79bca9009640ab866a3ce2fc184980",
            "5897edc3c06b4f98be37c56ed3c2dd8b",
            "549be9c0d51b42d5b0489a656cf926ee",
            "d320ad4b08a1451d88a54af4ab385130",
            "b03360c89b63465e925b025eaa058292",
            "2f92a47d8f89422b969a8592f75ae371",
            "2154dbbddd044ba3b40e532ca0640e9d",
            "59ff8f30d2f440529627d1b43ad70fdf",
            "a5bebbf04354421ca319edc7d733cba5",
            "48447cd390f947fc8390298b1efdb369",
            "e91014c5647a4114b11bb507d292bb80",
            "119f026d5b7044e2819784b0651d649d",
            "fc883265b0d94936abe935cbec41b4e3",
            "75a1f4384e9d4f50a0300061b6fec35a"
          ]
        },
        "outputId": "675e4ce0-038d-4a74-c94e-aaa549efa904"
      },
      "outputs": [
        {
          "output_type": "display_data",
          "data": {
            "text/plain": [
              "modules.json:   0%|          | 0.00/385 [00:00<?, ?B/s]"
            ],
            "application/vnd.jupyter.widget-view+json": {
              "version_major": 2,
              "version_minor": 0,
              "model_id": "dbfdc4d640d3437ea9668108bafed09b"
            }
          },
          "metadata": {}
        },
        {
          "output_type": "display_data",
          "data": {
            "text/plain": [
              "README.md:   0%|          | 0.00/68.1k [00:00<?, ?B/s]"
            ],
            "application/vnd.jupyter.widget-view+json": {
              "version_major": 2,
              "version_minor": 0,
              "model_id": "1180004b9e6644efb6dbb32573710f64"
            }
          },
          "metadata": {}
        },
        {
          "output_type": "display_data",
          "data": {
            "text/plain": [
              "sentence_bert_config.json:   0%|          | 0.00/57.0 [00:00<?, ?B/s]"
            ],
            "application/vnd.jupyter.widget-view+json": {
              "version_major": 2,
              "version_minor": 0,
              "model_id": "5726920d67214028b25db8fa691b0501"
            }
          },
          "metadata": {}
        },
        {
          "output_type": "display_data",
          "data": {
            "text/plain": [
              "config.json:   0%|          | 0.00/583 [00:00<?, ?B/s]"
            ],
            "application/vnd.jupyter.widget-view+json": {
              "version_major": 2,
              "version_minor": 0,
              "model_id": "7dfe9ed59d5e4be78903ae06df3b95d3"
            }
          },
          "metadata": {}
        },
        {
          "output_type": "display_data",
          "data": {
            "text/plain": [
              "model.safetensors:   0%|          | 0.00/66.7M [00:00<?, ?B/s]"
            ],
            "application/vnd.jupyter.widget-view+json": {
              "version_major": 2,
              "version_minor": 0,
              "model_id": "181f5b938c8c4dcabf98f746b44ca1b6"
            }
          },
          "metadata": {}
        },
        {
          "output_type": "display_data",
          "data": {
            "text/plain": [
              "tokenizer_config.json:   0%|          | 0.00/394 [00:00<?, ?B/s]"
            ],
            "application/vnd.jupyter.widget-view+json": {
              "version_major": 2,
              "version_minor": 0,
              "model_id": "61d8089b91c44bf3bb9104860fd3818e"
            }
          },
          "metadata": {}
        },
        {
          "output_type": "display_data",
          "data": {
            "text/plain": [
              "vocab.txt:   0%|          | 0.00/232k [00:00<?, ?B/s]"
            ],
            "application/vnd.jupyter.widget-view+json": {
              "version_major": 2,
              "version_minor": 0,
              "model_id": "67d36eee668742cb9d758fe04ead9b63"
            }
          },
          "metadata": {}
        },
        {
          "output_type": "display_data",
          "data": {
            "text/plain": [
              "tokenizer.json:   0%|          | 0.00/712k [00:00<?, ?B/s]"
            ],
            "application/vnd.jupyter.widget-view+json": {
              "version_major": 2,
              "version_minor": 0,
              "model_id": "df946b4ff1c745eeb438df70f722e11b"
            }
          },
          "metadata": {}
        },
        {
          "output_type": "display_data",
          "data": {
            "text/plain": [
              "special_tokens_map.json:   0%|          | 0.00/125 [00:00<?, ?B/s]"
            ],
            "application/vnd.jupyter.widget-view+json": {
              "version_major": 2,
              "version_minor": 0,
              "model_id": "d01671632b474d308c6c69abfdcb926b"
            }
          },
          "metadata": {}
        },
        {
          "output_type": "display_data",
          "data": {
            "text/plain": [
              "config.json:   0%|          | 0.00/190 [00:00<?, ?B/s]"
            ],
            "application/vnd.jupyter.widget-view+json": {
              "version_major": 2,
              "version_minor": 0,
              "model_id": "d320ad4b08a1451d88a54af4ab385130"
            }
          },
          "metadata": {}
        }
      ],
      "source": [
        "embedding_model = SentenceTransformerEmbeddings(model_name=\"thenlper/gte-small\")"
      ]
    },
    {
      "cell_type": "code",
      "execution_count": null,
      "metadata": {
        "id": "dvc-CTtCz4kJ"
      },
      "outputs": [],
      "source": [
        "embedding_1 = embedding_model.embed_query(document_chunks[0].page_content)\n",
        "embedding_2 = embedding_model.embed_query(document_chunks[1].page_content)"
      ]
    },
    {
      "cell_type": "code",
      "execution_count": null,
      "metadata": {
        "id": "W0qy6xOZ0UBe",
        "colab": {
          "base_uri": "https://localhost:8080/"
        },
        "outputId": "4a2268ef-29b9-4af2-c920-59534d66b440"
      },
      "outputs": [
        {
          "output_type": "stream",
          "name": "stdout",
          "text": [
            "Dimension of the embedding vector  384\n"
          ]
        },
        {
          "output_type": "execute_result",
          "data": {
            "text/plain": [
              "True"
            ]
          },
          "metadata": {},
          "execution_count": 27
        }
      ],
      "source": [
        "print(\"Dimension of the embedding vector \",len(embedding_1))\n",
        "len(embedding_1)==len(embedding_2)"
      ]
    },
    {
      "cell_type": "code",
      "execution_count": null,
      "metadata": {
        "id": "1bmtFRTN0VtN",
        "colab": {
          "base_uri": "https://localhost:8080/"
        },
        "outputId": "754a463c-aeb9-4973-b8ce-de53c65c82db"
      },
      "outputs": [
        {
          "output_type": "execute_result",
          "data": {
            "text/plain": [
              "([0.017077315598726273,\n",
              "  -0.017865756526589394,\n",
              "  0.007138863205909729,\n",
              "  0.009941055439412594,\n",
              "  0.06734592467546463,\n",
              "  0.033118490129709244,\n",
              "  0.022149337455630302,\n",
              "  0.010570342652499676,\n",
              "  -0.03127063065767288,\n",
              "  -0.022957071661949158,\n",
              "  -0.01635400764644146,\n",
              "  0.00695371488109231,\n",
              "  -0.06326551735401154,\n",
              "  0.03473808988928795,\n",
              "  -0.015315532684326172,\n",
              "  0.06324003636837006,\n",
              "  0.05961177125573158,\n",
              "  -0.00020239669538568705,\n",
              "  0.011081624776124954,\n",
              "  -0.021002382040023804,\n",
              "  0.011395290493965149,\n",
              "  -0.02372860722243786,\n",
              "  0.0041591702029109,\n",
              "  -0.003381456481292844,\n",
              "  -0.008261062204837799,\n",
              "  0.0016110154101625085,\n",
              "  0.02116435021162033,\n",
              "  0.051422469317913055,\n",
              "  -0.0988711267709732,\n",
              "  -0.010602331720292568,\n",
              "  0.0470467172563076,\n",
              "  0.006477430462837219,\n",
              "  -0.0035742074251174927,\n",
              "  -0.02306084707379341,\n",
              "  -0.01122251059859991,\n",
              "  -0.041595231741666794,\n",
              "  -0.018712570890784264,\n",
              "  -0.004566507879644632,\n",
              "  -0.04843727499246597,\n",
              "  0.004063866566866636,\n",
              "  -0.015456149354577065,\n",
              "  -0.018271075561642647,\n",
              "  -0.022769400849938393,\n",
              "  0.0020580561831593513,\n",
              "  -0.04927164688706398,\n",
              "  0.013928843662142754,\n",
              "  -0.01399590726941824,\n",
              "  0.03771364316344261,\n",
              "  -0.04809117317199707,\n",
              "  0.00316094933077693,\n",
              "  -0.06298385560512543,\n",
              "  0.03507184237241745,\n",
              "  -0.003412889316678047,\n",
              "  8.914042700780556e-05,\n",
              "  0.011603099294006824,\n",
              "  0.041253454983234406,\n",
              "  0.003831740701571107,\n",
              "  -0.04918011650443077,\n",
              "  0.004235366825014353,\n",
              "  -0.050229523330926895,\n",
              "  0.031136639416217804,\n",
              "  -0.020832836627960205,\n",
              "  0.043095096945762634,\n",
              "  -0.012239363975822926,\n",
              "  0.003298938972875476,\n",
              "  0.023480942472815514,\n",
              "  0.01637987233698368,\n",
              "  0.06104138493537903,\n",
              "  -0.07677803188562393,\n",
              "  -0.03827481344342232,\n",
              "  -0.011063745245337486,\n",
              "  0.004533639643341303,\n",
              "  -0.030093133449554443,\n",
              "  -0.044100549072027206,\n",
              "  7.574081973871216e-05,\n",
              "  -0.03452296927571297,\n",
              "  -0.0005264304345473647,\n",
              "  0.035396162420511246,\n",
              "  0.03969648480415344,\n",
              "  0.031355783343315125,\n",
              "  0.0030470804776996374,\n",
              "  0.02013045735657215,\n",
              "  -0.00013344780018087476,\n",
              "  0.03847790136933327,\n",
              "  -0.013311502523720264,\n",
              "  -0.02470804750919342,\n",
              "  -0.011878684163093567,\n",
              "  -0.011942611075937748,\n",
              "  -0.044650670140981674,\n",
              "  0.050436340272426605,\n",
              "  -0.00033654013532213867,\n",
              "  -0.020743902772665024,\n",
              "  0.037916336208581924,\n",
              "  0.05028710886836052,\n",
              "  -0.014989926479756832,\n",
              "  -0.04770585149526596,\n",
              "  0.06635735929012299,\n",
              "  -0.030866170302033424,\n",
              "  -0.0012597833992913365,\n",
              "  0.033863265067338943,\n",
              "  -0.01247893925756216,\n",
              "  -0.02517690323293209,\n",
              "  -0.022249052301049232,\n",
              "  -0.016225259751081467,\n",
              "  -0.06766559183597565,\n",
              "  -0.009284518659114838,\n",
              "  -0.006841627880930901,\n",
              "  -0.0076115974225103855,\n",
              "  0.026948515325784683,\n",
              "  -0.005225851200520992,\n",
              "  0.015296508558094501,\n",
              "  -0.02809060923755169,\n",
              "  1.3390446838457137e-05,\n",
              "  -0.032946038991212845,\n",
              "  -0.06842844933271408,\n",
              "  0.08115173876285553,\n",
              "  0.014863627962768078,\n",
              "  0.03672539442777634,\n",
              "  0.004462101496756077,\n",
              "  0.002101220190525055,\n",
              "  0.03313010185956955,\n",
              "  0.03603068366646767,\n",
              "  0.04628043249249458,\n",
              "  0.08688470721244812,\n",
              "  0.0546526163816452,\n",
              "  0.026591714471578598,\n",
              "  0.01929362677037716,\n",
              "  0.05452393367886543,\n",
              "  -0.008699113503098488,\n",
              "  -0.03861953690648079,\n",
              "  0.002229079371318221,\n",
              "  0.06333930790424347,\n",
              "  0.044551003724336624,\n",
              "  -0.013685811311006546,\n",
              "  -0.007995368912816048,\n",
              "  -0.008221193216741085,\n",
              "  -0.02365214191377163,\n",
              "  -0.016218427568674088,\n",
              "  0.029942572116851807,\n",
              "  -0.02001456543803215,\n",
              "  -0.0011809624265879393,\n",
              "  0.009791102260351181,\n",
              "  0.008737151511013508,\n",
              "  0.01984342560172081,\n",
              "  0.04064888134598732,\n",
              "  0.01712706871330738,\n",
              "  0.0018722478998824954,\n",
              "  -0.02580254152417183,\n",
              "  -0.056864526122808456,\n",
              "  -0.00021251871658023447,\n",
              "  0.010516264475882053,\n",
              "  -0.005009965039789677,\n",
              "  0.048378776758909225,\n",
              "  -0.008079024963080883,\n",
              "  -0.029418332502245903,\n",
              "  0.049955110996961594,\n",
              "  0.0293616633862257,\n",
              "  0.024889569729566574,\n",
              "  -0.02723519690334797,\n",
              "  0.0054231248795986176,\n",
              "  0.04569052532315254,\n",
              "  0.02571665309369564,\n",
              "  0.016014819964766502,\n",
              "  0.021390734240412712,\n",
              "  -0.020861908793449402,\n",
              "  0.029161754995584488,\n",
              "  -0.0033740035723894835,\n",
              "  0.010807011276483536,\n",
              "  -0.013845891691744328,\n",
              "  -0.002563575515523553,\n",
              "  -0.08517464995384216,\n",
              "  -0.0029485549312084913,\n",
              "  0.06378024071455002,\n",
              "  -0.00810447707772255,\n",
              "  -0.025906162336468697,\n",
              "  0.028432859107851982,\n",
              "  0.06634099036455154,\n",
              "  0.018718238919973373,\n",
              "  0.023913400247693062,\n",
              "  0.009684971533715725,\n",
              "  -0.091703400015831,\n",
              "  0.03338036313652992,\n",
              "  0.029792780056595802,\n",
              "  0.005175915081053972,\n",
              "  0.005519484169781208,\n",
              "  -0.03589663654565811,\n",
              "  0.0611121691763401,\n",
              "  -0.005854101851582527,\n",
              "  0.0010019694454967976,\n",
              "  -8.00388734205626e-05,\n",
              "  -0.08614587038755417,\n",
              "  -0.0644541010260582,\n",
              "  -0.005009647458791733,\n",
              "  -0.016257481649518013,\n",
              "  0.06594368070363998,\n",
              "  -0.009072449989616871,\n",
              "  -0.019871460273861885,\n",
              "  0.03867964819073677,\n",
              "  0.022924311459064484,\n",
              "  0.05800740793347359,\n",
              "  -0.012668305076658726,\n",
              "  0.03263876214623451,\n",
              "  0.04178876802325249,\n",
              "  -0.04407574608922005,\n",
              "  -0.10086758434772491,\n",
              "  0.02343188226222992,\n",
              "  0.006460804492235184,\n",
              "  -0.008106817491352558,\n",
              "  0.02012500911951065,\n",
              "  0.02904304675757885,\n",
              "  -0.0003087843651883304,\n",
              "  0.00260799378156662,\n",
              "  0.06999673694372177,\n",
              "  -0.039262302219867706,\n",
              "  0.008933569304645061,\n",
              "  0.002984804566949606,\n",
              "  0.03738582506775856,\n",
              "  -0.02833906188607216,\n",
              "  0.005096618551760912,\n",
              "  -0.03843415528535843,\n",
              "  0.025640049949288368,\n",
              "  -0.02523336559534073,\n",
              "  -0.02889612875878811,\n",
              "  0.05108769237995148,\n",
              "  -0.012330964207649231,\n",
              "  0.08917012810707092,\n",
              "  0.06866724044084549,\n",
              "  -0.05627284571528435,\n",
              "  0.013168755918741226,\n",
              "  -0.01325872540473938,\n",
              "  -0.025281831622123718,\n",
              "  -0.058997832238674164,\n",
              "  0.016478529199957848,\n",
              "  0.018300333991646767,\n",
              "  -0.007714358624070883,\n",
              "  0.027014410123229027,\n",
              "  -0.015533410012722015,\n",
              "  -0.025132903829216957,\n",
              "  0.07903870940208435,\n",
              "  -0.046938393265008926,\n",
              "  0.0284113846719265,\n",
              "  0.05414922162890434,\n",
              "  -0.004696945659816265,\n",
              "  0.06180243566632271,\n",
              "  -0.013150484301149845,\n",
              "  0.007421117275953293,\n",
              "  -0.021895194426178932,\n",
              "  -0.02588368020951748,\n",
              "  -0.05609715357422829,\n",
              "  -0.032247144728899,\n",
              "  0.01225549541413784,\n",
              "  -0.029636017978191376,\n",
              "  -0.0067672417499125,\n",
              "  -0.032319262623786926,\n",
              "  -0.020292438566684723,\n",
              "  -0.059589654207229614,\n",
              "  -0.014158112928271294,\n",
              "  -0.014077744446694851,\n",
              "  0.03216254338622093,\n",
              "  0.05013347044587135,\n",
              "  -0.006446698680520058,\n",
              "  -0.00589310796931386,\n",
              "  -0.010180148296058178,\n",
              "  -0.007730109617114067,\n",
              "  -0.051795363426208496,\n",
              "  -0.07207789272069931,\n",
              "  -0.02215809002518654,\n",
              "  0.007045188918709755,\n",
              "  0.006121717393398285,\n",
              "  0.026848338544368744,\n",
              "  0.04635223001241684,\n",
              "  0.011327896267175674,\n",
              "  -0.03573799505829811,\n",
              "  0.024256063625216484,\n",
              "  -0.005914985667914152,\n",
              "  0.017669837921857834,\n",
              "  0.050974272191524506,\n",
              "  -0.025326037779450417,\n",
              "  -0.017613191157579422,\n",
              "  -0.02635115385055542,\n",
              "  0.02470802515745163,\n",
              "  0.08355706185102463,\n",
              "  -0.004253746010363102,\n",
              "  -0.0615362673997879,\n",
              "  0.021367724984884262,\n",
              "  -0.04831666126847267,\n",
              "  0.008117125369608402,\n",
              "  -0.005561843514442444,\n",
              "  -0.04352135583758354,\n",
              "  -0.0050092111341655254,\n",
              "  -0.0011415238259360194,\n",
              "  0.020053768530488014,\n",
              "  -0.01946883462369442,\n",
              "  0.005365397315472364,\n",
              "  0.04143458604812622,\n",
              "  -0.05430242791771889,\n",
              "  0.010043567977845669,\n",
              "  0.0270552821457386,\n",
              "  0.014603755436837673,\n",
              "  -0.022272160276770592,\n",
              "  0.0022149644792079926,\n",
              "  0.02431618794798851,\n",
              "  -0.03090875968337059,\n",
              "  0.029582083225250244,\n",
              "  0.006644512992352247,\n",
              "  -0.02472684532403946,\n",
              "  -0.008549553342163563,\n",
              "  -0.06414656341075897,\n",
              "  -0.2168826162815094,\n",
              "  0.020097531378269196,\n",
              "  0.025043537840247154,\n",
              "  -0.04341074451804161,\n",
              "  0.027317406609654427,\n",
              "  0.0035464875400066376,\n",
              "  0.028513232246041298,\n",
              "  -0.03288384899497032,\n",
              "  -0.03522559255361557,\n",
              "  0.04182303696870804,\n",
              "  -0.00565687008202076,\n",
              "  -0.0027586324140429497,\n",
              "  0.04650230333209038,\n",
              "  0.011431023478507996,\n",
              "  0.062325190752744675,\n",
              "  0.043042056262493134,\n",
              "  -0.021954068914055824,\n",
              "  -0.021041186526417732,\n",
              "  0.015299400314688683,\n",
              "  0.012457730248570442,\n",
              "  -0.02363678440451622,\n",
              "  -0.06095970422029495,\n",
              "  -0.02001158893108368,\n",
              "  -0.0010948790004476905,\n",
              "  0.010400627739727497,\n",
              "  0.06263145804405212,\n",
              "  -0.019276799634099007,\n",
              "  -0.0003896902489941567,\n",
              "  -0.05104571208357811,\n",
              "  0.008019762113690376,\n",
              "  -0.028018642216920853,\n",
              "  -0.060276519507169724,\n",
              "  0.005122404545545578,\n",
              "  -0.03177987411618233,\n",
              "  0.022604478523135185,\n",
              "  -0.04772002249956131,\n",
              "  0.02831413596868515,\n",
              "  -0.026714231818914413,\n",
              "  -0.022788263857364655,\n",
              "  -0.037205107510089874,\n",
              "  -0.009340264834463596,\n",
              "  -0.061161451041698456,\n",
              "  -0.016767138615250587,\n",
              "  -0.022786468267440796,\n",
              "  0.059636440128088,\n",
              "  0.000930117501411587,\n",
              "  -0.04579078033566475,\n",
              "  -0.03388791158795357,\n",
              "  0.0071267723105847836,\n",
              "  0.06954844295978546,\n",
              "  0.001657770830206573,\n",
              "  -0.008824807591736317,\n",
              "  -0.013811449520289898,\n",
              "  0.005912445019930601,\n",
              "  -0.01569013111293316,\n",
              "  -0.005160233471542597,\n",
              "  -0.03462916612625122,\n",
              "  0.039862051606178284,\n",
              "  -0.0431348979473114,\n",
              "  0.00919248815625906,\n",
              "  0.012174269184470177,\n",
              "  -0.04034068062901497,\n",
              "  -0.06972082704305649,\n",
              "  -0.01956690475344658,\n",
              "  0.007157351355999708,\n",
              "  -0.05195361375808716,\n",
              "  -0.03450716659426689,\n",
              "  -0.0861840546131134,\n",
              "  0.08741890639066696,\n",
              "  0.008487921208143234,\n",
              "  -0.032807812094688416,\n",
              "  0.027443159371614456,\n",
              "  -0.0035839234478771687,\n",
              "  -0.09210856258869171,\n",
              "  -0.03927254676818848,\n",
              "  -0.01614929549396038,\n",
              "  -0.017109207808971405,\n",
              "  0.025174787268042564,\n",
              "  -0.024807512760162354,\n",
              "  0.03135249763727188,\n",
              "  -0.048988644033670425,\n",
              "  -0.013054484501481056,\n",
              "  0.02875552698969841,\n",
              "  0.022598858922719955,\n",
              "  -0.0056434194557368755,\n",
              "  -0.05528848245739937,\n",
              "  0.016834186390042305,\n",
              "  0.0011388157727196813,\n",
              "  -0.025065086781978607,\n",
              "  -0.009628280997276306,\n",
              "  0.07533959299325943,\n",
              "  -0.004297149367630482,\n",
              "  -0.029172014445066452,\n",
              "  0.004650546237826347,\n",
              "  0.05609724670648575,\n",
              "  0.04671873152256012,\n",
              "  -0.020212261006236076,\n",
              "  -0.003923480864614248,\n",
              "  0.03808336704969406,\n",
              "  -0.05304684489965439,\n",
              "  0.05136769637465477,\n",
              "  -0.05459068343043327,\n",
              "  0.06412574648857117,\n",
              "  -0.018153823912143707,\n",
              "  -0.024954823777079582,\n",
              "  0.02214651182293892,\n",
              "  -0.05259297043085098,\n",
              "  -0.03515642508864403,\n",
              "  0.027337776497006416,\n",
              "  -0.013586023822426796,\n",
              "  0.04510747268795967,\n",
              "  -0.02804885245859623,\n",
              "  0.012266235426068306,\n",
              "  -0.041622113436460495,\n",
              "  -0.016798127442598343,\n",
              "  -0.040059030055999756,\n",
              "  -0.0020299032330513,\n",
              "  0.03245477378368378,\n",
              "  0.03713802248239517,\n",
              "  -0.00038802274502813816,\n",
              "  -0.008939079940319061,\n",
              "  0.01883319951593876,\n",
              "  -0.048886895179748535,\n",
              "  -0.021875832229852676,\n",
              "  -0.11289805918931961,\n",
              "  -0.008037923835217953,\n",
              "  0.004877595696598291,\n",
              "  -0.037822362035512924,\n",
              "  0.004236751236021519,\n",
              "  0.024133363738656044,\n",
              "  -0.011653102934360504,\n",
              "  -0.020613180473446846,\n",
              "  0.018655885010957718,\n",
              "  0.004421032499521971,\n",
              "  0.029023906216025352,\n",
              "  0.021800722926855087,\n",
              "  -0.01318060141056776,\n",
              "  -0.07683949172496796,\n",
              "  0.00026438682107254863,\n",
              "  -0.025124184787273407,\n",
              "  -0.010204659774899483,\n",
              "  -0.0004954819451086223,\n",
              "  -0.004867912735790014,\n",
              "  0.023610016331076622,\n",
              "  0.049094922840595245,\n",
              "  0.028217826038599014,\n",
              "  -0.020385583862662315,\n",
              "  -0.04843864589929581,\n",
              "  -0.007112749852240086,\n",
              "  0.013813995756208897,\n",
              "  -0.018686683848500252,\n",
              "  -0.05541715398430824,\n",
              "  0.04270675778388977,\n",
              "  -0.058004073798656464,\n",
              "  -0.029388265684247017,\n",
              "  -0.023857878521084785,\n",
              "  0.032917898148298264,\n",
              "  0.004373488016426563,\n",
              "  -0.004783301148563623,\n",
              "  -0.029967274516820908,\n",
              "  -0.014897906221449375,\n",
              "  -0.06220746412873268,\n",
              "  -0.0021719953510910273,\n",
              "  -0.010178242810070515,\n",
              "  -0.00321136973798275,\n",
              "  0.08564293384552002,\n",
              "  -0.016099510714411736,\n",
              "  -0.005626877769827843,\n",
              "  -0.03704388812184334,\n",
              "  0.029237234964966774,\n",
              "  0.032964613288640976,\n",
              "  -0.037385858595371246,\n",
              "  -0.012041481211781502,\n",
              "  0.018778985366225243,\n",
              "  0.006235405337065458,\n",
              "  0.03877894952893257,\n",
              "  0.019118309020996094,\n",
              "  0.009053141809999943,\n",
              "  0.045443035662174225,\n",
              "  0.042023543268442154,\n",
              "  -0.015942173078656197,\n",
              "  -0.029626604169607162,\n",
              "  -0.02718120813369751,\n",
              "  -0.0034297124948352575,\n",
              "  0.0740988552570343,\n",
              "  -0.01941417157649994,\n",
              "  -0.038872186094522476,\n",
              "  -0.04459895193576813,\n",
              "  -0.047215137630701065,\n",
              "  0.025797264650464058,\n",
              "  -0.022541336715221405,\n",
              "  0.04259602352976799,\n",
              "  0.003070288570597768,\n",
              "  0.04522952437400818,\n",
              "  -0.03650058060884476,\n",
              "  -0.0929981991648674,\n",
              "  0.011271634139120579,\n",
              "  0.02455725148320198,\n",
              "  0.017928043380379677,\n",
              "  0.03456614539027214,\n",
              "  0.01706269197165966,\n",
              "  -0.01439930871129036,\n",
              "  -0.049674127250909805,\n",
              "  0.04082158952951431,\n",
              "  0.009893329814076424,\n",
              "  -0.082322858273983,\n",
              "  0.031441379338502884,\n",
              "  0.037756748497486115,\n",
              "  -0.0017617724370211363,\n",
              "  0.056324295699596405,\n",
              "  -0.036147378385066986,\n",
              "  -0.00731173949316144,\n",
              "  -0.02501503750681877,\n",
              "  -0.004660133272409439,\n",
              "  0.013118292205035686,\n",
              "  -0.021604545414447784,\n",
              "  0.0006685306434519589,\n",
              "  -0.026706768199801445,\n",
              "  0.03585779294371605,\n",
              "  -0.02420472353696823,\n",
              "  0.010333632118999958,\n",
              "  -0.017782291397452354,\n",
              "  -0.06263972818851471,\n",
              "  -0.015236935578286648,\n",
              "  -0.04276701435446739,\n",
              "  0.051744651049375534,\n",
              "  -0.0031614932231605053,\n",
              "  0.015501938760280609,\n",
              "  0.02601693943142891,\n",
              "  -0.02827935665845871,\n",
              "  0.017319055274128914,\n",
              "  -0.026134604588150978,\n",
              "  -0.004835872910916805,\n",
              "  0.07111694663763046,\n",
              "  0.00369006278924644,\n",
              "  0.0035503385588526726,\n",
              "  -0.002618571976199746,\n",
              "  -0.02185438945889473,\n",
              "  0.00789272878319025,\n",
              "  0.028811775147914886,\n",
              "  -0.007366850972175598,\n",
              "  0.009201531298458576,\n",
              "  -0.025426264852285385,\n",
              "  -0.054264940321445465,\n",
              "  0.007958407513797283,\n",
              "  0.030092205852270126,\n",
              "  -0.011436938308179379,\n",
              "  0.004331010859459639,\n",
              "  -0.017967090010643005,\n",
              "  0.03384266793727875,\n",
              "  0.02416091039776802,\n",
              "  0.03174851834774017,\n",
              "  -0.04437796398997307,\n",
              "  -0.026877373456954956,\n",
              "  0.0841069146990776,\n",
              "  -0.036800019443035126,\n",
              "  -0.0648135095834732,\n",
              "  0.010655033402144909,\n",
              "  -0.03289894759654999,\n",
              "  0.01411537453532219,\n",
              "  0.014135533943772316,\n",
              "  0.0025490163825452328,\n",
              "  0.01930823363363743,\n",
              "  0.029370255768299103,\n",
              "  0.05362668260931969,\n",
              "  0.04152708873152733,\n",
              "  -0.01112917810678482,\n",
              "  -0.04592436924576759,\n",
              "  0.03280075639486313,\n",
              "  -0.045170169323682785,\n",
              "  0.03642243519425392,\n",
              "  -0.05241712927818298,\n",
              "  0.00884437095373869,\n",
              "  -0.017328394576907158,\n",
              "  0.013657091185450554,\n",
              "  0.016159579157829285,\n",
              "  -0.01872040331363678,\n",
              "  -0.03344721347093582,\n",
              "  0.01958990842103958,\n",
              "  -0.0838058665394783,\n",
              "  -0.01578083075582981,\n",
              "  0.050135932862758636,\n",
              "  -0.033208806067705154,\n",
              "  -0.016072142869234085,\n",
              "  0.01199742779135704,\n",
              "  -0.0344969667494297,\n",
              "  0.008522904478013515,\n",
              "  0.00022174361220095307,\n",
              "  -0.06657606363296509,\n",
              "  0.004901398904621601,\n",
              "  -0.022202594205737114,\n",
              "  0.03783262148499489,\n",
              "  0.014892615377902985,\n",
              "  0.005336691625416279,\n",
              "  0.0070325713604688644,\n",
              "  -0.0053382935002446175,\n",
              "  0.06562497466802597,\n",
              "  0.042215701192617416,\n",
              "  -0.005574321374297142,\n",
              "  0.04808557406067848,\n",
              "  -0.04948202893137932,\n",
              "  0.05353739112615585,\n",
              "  0.05453861877322197,\n",
              "  0.006921748165041208,\n",
              "  0.015016261488199234,\n",
              "  -0.017459586262702942,\n",
              "  -0.0021907298360019922,\n",
              "  -0.08203602582216263,\n",
              "  0.006305027287453413,\n",
              "  0.0016285249730572104,\n",
              "  -0.0032977836672216654,\n",
              "  -0.06168122962117195,\n",
              "  0.04736314341425896,\n",
              "  0.03605322539806366,\n",
              "  -0.046967893838882446,\n",
              "  -0.04936378076672554,\n",
              "  0.030229592695832253,\n",
              "  -0.0237156692892313,\n",
              "  -0.02839229442179203,\n",
              "  -0.011935831047594547,\n",
              "  0.016796374693512917,\n",
              "  -0.025069409981369972,\n",
              "  0.07604743540287018,\n",
              "  0.04203340783715248,\n",
              "  0.04075825214385986,\n",
              "  0.0555114671587944,\n",
              "  -0.015553254634141922,\n",
              "  0.003399351378902793,\n",
              "  0.01775778830051422,\n",
              "  0.09041721373796463,\n",
              "  0.046208180487155914,\n",
              "  0.019248560070991516,\n",
              "  -0.00884421169757843,\n",
              "  0.06616203486919403,\n",
              "  -0.026598069816827774,\n",
              "  -0.06556906551122665,\n",
              "  0.012110899202525616,\n",
              "  0.003994235303252935,\n",
              "  0.00022251489281188697,\n",
              "  0.023665253072977066,\n",
              "  -0.02532501518726349,\n",
              "  0.05519963800907135,\n",
              "  0.02316359616816044,\n",
              "  0.07905741780996323,\n",
              "  0.0038236076943576336,\n",
              "  0.024628331884741783,\n",
              "  0.0310718584805727,\n",
              "  -0.030693812295794487,\n",
              "  0.049167193472385406,\n",
              "  0.01702376827597618,\n",
              "  0.01289519015699625,\n",
              "  0.04359497129917145,\n",
              "  -0.04429030790925026,\n",
              "  -0.02803919091820717,\n",
              "  0.017349960282444954,\n",
              "  0.001426179544068873,\n",
              "  -0.005909556057304144,\n",
              "  -0.02684543840587139,\n",
              "  -0.04449750483036041,\n",
              "  0.024315614253282547,\n",
              "  -0.0032036949414759874,\n",
              "  0.028219418600201607,\n",
              "  0.06755410134792328,\n",
              "  0.013693966902792454,\n",
              "  -0.01102385576814413,\n",
              "  -0.015850139781832695,\n",
              "  0.02919558435678482,\n",
              "  -0.010995353572070599,\n",
              "  0.022525904700160027,\n",
              "  -0.012217934243381023,\n",
              "  0.034081630408763885,\n",
              "  0.025007106363773346,\n",
              "  -0.013906699605286121,\n",
              "  0.03332705423235893,\n",
              "  -0.0015517540741711855,\n",
              "  0.012015043757855892,\n",
              "  0.06874954700469971,\n",
              "  0.01523918379098177,\n",
              "  -0.004127043299376965,\n",
              "  0.029164426028728485,\n",
              "  0.021016184240579605,\n",
              "  -0.03139916807413101,\n",
              "  -0.03369217365980148,\n",
              "  -0.053715068846940994,\n",
              "  -0.018414415419101715,\n",
              "  -0.048884596675634384,\n",
              "  -0.008089558221399784,\n",
              "  0.031854912638664246,\n",
              "  -0.03715837746858597,\n",
              "  -0.05315658450126648,\n",
              "  -0.020652422681450844,\n",
              "  -0.03295842558145523,\n",
              "  0.011679652146995068,\n",
              "  -0.016085870563983917,\n",
              "  -0.04148266464471817,\n",
              "  -0.03834554925560951,\n",
              "  0.03216822072863579,\n",
              "  0.03181545063853264,\n",
              "  0.044423505663871765,\n",
              "  0.015362192876636982,\n",
              "  0.09134897589683533,\n",
              "  -0.002445956924930215,\n",
              "  -0.017207780852913857,\n",
              "  -0.002348475158214569,\n",
              "  0.05325086787343025,\n",
              "  0.064494289457798,\n",
              "  -0.043881360441446304,\n",
              "  0.011446150951087475,\n",
              "  -0.10230498015880585,\n",
              "  0.032699525356292725,\n",
              "  0.025282585993409157,\n",
              "  0.013427133671939373,\n",
              "  -0.0700824111700058,\n",
              "  0.026989631354808807,\n",
              "  -0.012361831963062286,\n",
              "  0.0004114570911042392,\n",
              "  0.048508524894714355,\n",
              "  0.005046930629760027,\n",
              "  0.017750661820173264,\n",
              "  -0.030585918575525284,\n",
              "  -0.011419323273003101,\n",
              "  -0.003313978435471654,\n",
              "  0.019695211201906204,\n",
              "  0.050993096083402634,\n",
              "  -0.03482678532600403,\n",
              "  0.05905875191092491,\n",
              "  0.025888310745358467,\n",
              "  0.01316169835627079,\n",
              "  -0.02476388029754162,\n",
              "  0.0542791374027729,\n",
              "  -0.025271719321608543,\n",
              "  0.016371499747037888,\n",
              "  -0.044627606868743896,\n",
              "  0.024237729609012604,\n",
              "  -0.0017261623870581388,\n",
              "  -0.10656006634235382,\n",
              "  -0.015653176233172417,\n",
              "  0.0021539791487157345,\n",
              "  -0.007522362284362316,\n",
              "  -0.0425596609711647,\n",
              "  0.025901630520820618,\n",
              "  -0.03231164813041687,\n",
              "  0.059359483420848846,\n",
              "  -0.020792407914996147,\n",
              "  -0.023534147068858147,\n",
              "  0.025370001792907715,\n",
              "  -0.045048266649246216,\n",
              "  -0.01733778603374958,\n",
              "  -0.07371076196432114,\n",
              "  0.009982929565012455,\n",
              "  0.013030768372118473,\n",
              "  -0.02748851291835308,\n",
              "  0.012489452958106995,\n",
              "  -0.07269439101219177,\n",
              "  -0.02665003016591072,\n",
              "  -0.013402045704424381,\n",
              "  -0.0026852511800825596,\n",
              "  0.019389376044273376,\n",
              "  -0.012059180065989494,\n",
              "  -0.009895644150674343],\n",
              " [0.006813455373048782,\n",
              "  -0.01859903335571289,\n",
              "  -0.008773167617619038,\n",
              "  0.020968593657016754,\n",
              "  0.05282983183860779,\n",
              "  0.04393596202135086,\n",
              "  0.031051144003868103,\n",
              "  0.029558828100562096,\n",
              "  -0.020246628671884537,\n",
              "  -0.03598177060484886,\n",
              "  -0.04814772680401802,\n",
              "  0.0037609857972711325,\n",
              "  -0.08184196799993515,\n",
              "  0.04510758817195892,\n",
              "  -0.016147596761584282,\n",
              "  0.0814230665564537,\n",
              "  0.03576994687318802,\n",
              "  -0.005756547208875418,\n",
              "  0.026969406753778458,\n",
              "  -0.013176589272916317,\n",
              "  0.0065300557762384415,\n",
              "  0.00484505807980895,\n",
              "  0.011924423277378082,\n",
              "  0.00784238614141941,\n",
              "  -0.015428661368787289,\n",
              "  0.02578202821314335,\n",
              "  0.01243314053863287,\n",
              "  0.02584255486726761,\n",
              "  -0.0805559754371643,\n",
              "  -0.016277041286230087,\n",
              "  0.047161001712083817,\n",
              "  -0.018636411055922508,\n",
              "  -0.00545461243018508,\n",
              "  -0.013909474015235901,\n",
              "  -0.007460181601345539,\n",
              "  -0.02986804023385048,\n",
              "  -0.015349352732300758,\n",
              "  -0.019843321293592453,\n",
              "  -0.03029019385576248,\n",
              "  -0.002310121199116111,\n",
              "  -0.000257226696703583,\n",
              "  -0.03460447117686272,\n",
              "  0.016500934958457947,\n",
              "  0.011421320959925652,\n",
              "  -0.04484858363866806,\n",
              "  0.0026641516014933586,\n",
              "  -0.021733315661549568,\n",
              "  0.04884795844554901,\n",
              "  -0.031972602009773254,\n",
              "  -0.0008729210239835083,\n",
              "  -0.051795706152915955,\n",
              "  0.03306348994374275,\n",
              "  -0.008863022550940514,\n",
              "  -0.029870271682739258,\n",
              "  0.011061150580644608,\n",
              "  0.04502018168568611,\n",
              "  -0.016575662419199944,\n",
              "  -0.05398339778184891,\n",
              "  0.0062585072591900826,\n",
              "  -0.04557191953063011,\n",
              "  0.035218529403209686,\n",
              "  -0.011858920566737652,\n",
              "  0.06011950969696045,\n",
              "  -0.0030147344805300236,\n",
              "  0.0010237834649160504,\n",
              "  0.028163643553853035,\n",
              "  -0.007048170082271099,\n",
              "  0.05021962150931358,\n",
              "  -0.0512593574821949,\n",
              "  -0.0358150415122509,\n",
              "  -0.008145589381456375,\n",
              "  0.021202459931373596,\n",
              "  -0.012360955588519573,\n",
              "  -0.04540745168924332,\n",
              "  0.013885107822716236,\n",
              "  -0.04278416931629181,\n",
              "  0.004477260168641806,\n",
              "  0.056761760264635086,\n",
              "  0.03806973248720169,\n",
              "  0.03753617778420448,\n",
              "  0.0026032314635813236,\n",
              "  0.006526258308440447,\n",
              "  0.0006595556042157114,\n",
              "  0.05061821639537811,\n",
              "  0.0043476782739162445,\n",
              "  -0.048151832073926926,\n",
              "  0.012947266921401024,\n",
              "  0.0038973907940089703,\n",
              "  -0.05418483167886734,\n",
              "  0.058222800493240356,\n",
              "  -0.0030561075545847416,\n",
              "  -0.006353690754622221,\n",
              "  0.05380965769290924,\n",
              "  0.047825947403907776,\n",
              "  0.0004828677047044039,\n",
              "  -0.035281434655189514,\n",
              "  0.06141788512468338,\n",
              "  -0.02153412625193596,\n",
              "  0.007204298861324787,\n",
              "  0.031096158549189568,\n",
              "  -0.007701255846768618,\n",
              "  -0.0216099563986063,\n",
              "  -0.02295137755572796,\n",
              "  -0.02271178551018238,\n",
              "  -0.08633887022733688,\n",
              "  0.00033171847462654114,\n",
              "  -0.01745273917913437,\n",
              "  -0.004486404359340668,\n",
              "  -0.0003854940296150744,\n",
              "  -0.0018766381544992328,\n",
              "  0.009270480833947659,\n",
              "  -0.046700213104486465,\n",
              "  0.02242611162364483,\n",
              "  -0.020784694701433182,\n",
              "  -0.07171949744224548,\n",
              "  0.08275440335273743,\n",
              "  0.033871132880449295,\n",
              "  0.0008673815173096955,\n",
              "  -0.015187469311058521,\n",
              "  -0.0012544988421723247,\n",
              "  0.0370069220662117,\n",
              "  0.045733463019132614,\n",
              "  0.028486641123890877,\n",
              "  0.10053062438964844,\n",
              "  0.03306247293949127,\n",
              "  0.031860850751399994,\n",
              "  0.004005052149295807,\n",
              "  0.06369210034608841,\n",
              "  -0.011291289702057838,\n",
              "  -0.04347913712263107,\n",
              "  0.004569473676383495,\n",
              "  0.049613017588853836,\n",
              "  0.011800861917436123,\n",
              "  -0.008258087560534477,\n",
              "  -0.036102306097745895,\n",
              "  -0.0254551749676466,\n",
              "  -0.018007101491093636,\n",
              "  -0.012043019756674767,\n",
              "  0.018392976373434067,\n",
              "  -0.006423873361200094,\n",
              "  0.0031038757879287004,\n",
              "  0.004099932499229908,\n",
              "  0.00955449603497982,\n",
              "  0.020876402035355568,\n",
              "  0.04788532480597496,\n",
              "  0.010222354903817177,\n",
              "  -0.013569065369665623,\n",
              "  -0.05103473365306854,\n",
              "  -0.03473497927188873,\n",
              "  0.010306364856660366,\n",
              "  0.00792486872524023,\n",
              "  0.008005132898688316,\n",
              "  0.04518965259194374,\n",
              "  -0.027866682037711143,\n",
              "  -0.015309003181755543,\n",
              "  0.03840038925409317,\n",
              "  0.0314151830971241,\n",
              "  0.025712348520755768,\n",
              "  -0.043515175580978394,\n",
              "  0.0015666112303733826,\n",
              "  0.0532270111143589,\n",
              "  0.019499821588397026,\n",
              "  0.021968938410282135,\n",
              "  0.009077321738004684,\n",
              "  -0.027243074029684067,\n",
              "  0.03397270664572716,\n",
              "  0.01119663193821907,\n",
              "  0.007500294130295515,\n",
              "  -0.005945025943219662,\n",
              "  0.019950347021222115,\n",
              "  -0.08235260844230652,\n",
              "  -0.009578998200595379,\n",
              "  0.06260805577039719,\n",
              "  -0.0034525436349213123,\n",
              "  -0.03330153971910477,\n",
              "  0.02395067922770977,\n",
              "  0.08242945373058319,\n",
              "  0.031299978494644165,\n",
              "  0.03469199687242508,\n",
              "  -0.007131047081202269,\n",
              "  -0.10378371179103851,\n",
              "  0.031494416296482086,\n",
              "  -0.009102324023842812,\n",
              "  0.009771101176738739,\n",
              "  0.007969805970788002,\n",
              "  -0.03314763307571411,\n",
              "  0.06363395601511002,\n",
              "  -0.02254503220319748,\n",
              "  0.0019343117019161582,\n",
              "  0.016551312059164047,\n",
              "  -0.089623361825943,\n",
              "  -0.08445792645215988,\n",
              "  0.00723673589527607,\n",
              "  -0.017383018508553505,\n",
              "  0.05984972044825554,\n",
              "  0.00039827419095672667,\n",
              "  -0.023538704961538315,\n",
              "  0.029885917901992798,\n",
              "  0.03461148589849472,\n",
              "  0.08600928634405136,\n",
              "  -0.021176960319280624,\n",
              "  -0.0017067446606233716,\n",
              "  0.06670700013637543,\n",
              "  -0.04630354791879654,\n",
              "  -0.09520579874515533,\n",
              "  0.023101696744561195,\n",
              "  0.004763319622725248,\n",
              "  0.0036255130544304848,\n",
              "  0.02506781928241253,\n",
              "  0.03960904851555824,\n",
              "  -0.021725589409470558,\n",
              "  0.0027667919639497995,\n",
              "  0.09326252341270447,\n",
              "  -0.0162180308252573,\n",
              "  0.03421604633331299,\n",
              "  0.005121423397213221,\n",
              "  0.03015027940273285,\n",
              "  -0.03938647359609604,\n",
              "  0.007700298447161913,\n",
              "  -0.03641228377819061,\n",
              "  0.034495480358600616,\n",
              "  -0.02700144052505493,\n",
              "  -0.012961041182279587,\n",
              "  0.040344297885894775,\n",
              "  -0.01648319698870182,\n",
              "  0.09118272364139557,\n",
              "  0.08960412442684174,\n",
              "  -0.04737408831715584,\n",
              "  0.0006744927377440035,\n",
              "  -0.014187218621373177,\n",
              "  -0.010718129575252533,\n",
              "  -0.03745849058032036,\n",
              "  0.014805751852691174,\n",
              "  0.0117629524320364,\n",
              "  -0.01335032656788826,\n",
              "  0.023910321295261383,\n",
              "  0.0023240523878484964,\n",
              "  -0.028899990022182465,\n",
              "  0.055519212037324905,\n",
              "  -0.05590353161096573,\n",
              "  0.03506605699658394,\n",
              "  0.047522664070129395,\n",
              "  -0.00655702967196703,\n",
              "  0.07302819192409515,\n",
              "  -0.012517745606601238,\n",
              "  -0.0027053963858634233,\n",
              "  0.00074827263597399,\n",
              "  -0.038993366062641144,\n",
              "  -0.050875987857580185,\n",
              "  -0.025553500279784203,\n",
              "  0.023260433226823807,\n",
              "  -0.022656651213765144,\n",
              "  0.0003091721155215055,\n",
              "  -0.03680045157670975,\n",
              "  -0.01396160013973713,\n",
              "  -0.06678304076194763,\n",
              "  -0.008337334729731083,\n",
              "  -0.030632220208644867,\n",
              "  0.05035272240638733,\n",
              "  0.05474330857396126,\n",
              "  -0.01537691242992878,\n",
              "  -0.01057023648172617,\n",
              "  -0.009737959131598473,\n",
              "  -0.013133780099451542,\n",
              "  -0.03851710259914398,\n",
              "  -0.04898185655474663,\n",
              "  -0.03272152319550514,\n",
              "  -0.00910253170877695,\n",
              "  0.0011481466935947537,\n",
              "  -0.006861453410238028,\n",
              "  0.0402875654399395,\n",
              "  0.005227258894592524,\n",
              "  -0.03796639293432236,\n",
              "  0.035695526748895645,\n",
              "  0.005778192542493343,\n",
              "  0.0075525324791669846,\n",
              "  0.0589451864361763,\n",
              "  -0.05427266284823418,\n",
              "  -0.026240495964884758,\n",
              "  -0.058645203709602356,\n",
              "  0.017948517575860023,\n",
              "  0.08048883080482483,\n",
              "  -0.017444834113121033,\n",
              "  -0.06149893254041672,\n",
              "  0.009321757592260838,\n",
              "  -0.05042530223727226,\n",
              "  0.02066437527537346,\n",
              "  -0.019472679123282433,\n",
              "  -0.03868386894464493,\n",
              "  0.00867594126611948,\n",
              "  -0.007075367495417595,\n",
              "  0.05096094310283661,\n",
              "  -0.02232895977795124,\n",
              "  -0.012117377482354641,\n",
              "  0.05303601920604706,\n",
              "  -0.030920596793293953,\n",
              "  0.032692451030015945,\n",
              "  0.037279799580574036,\n",
              "  0.010116750374436378,\n",
              "  -0.014710438437759876,\n",
              "  0.019866930320858955,\n",
              "  0.03302142396569252,\n",
              "  -0.017382193356752396,\n",
              "  -0.0013053795555606484,\n",
              "  0.011997275054454803,\n",
              "  -0.02010442689061165,\n",
              "  -0.019479671493172646,\n",
              "  -0.04029531031847,\n",
              "  -0.2263830006122589,\n",
              "  0.03345872834324837,\n",
              "  0.014064252376556396,\n",
              "  -0.040085479617118835,\n",
              "  0.04236653447151184,\n",
              "  -0.021185945719480515,\n",
              "  0.017751917243003845,\n",
              "  -0.05328817293047905,\n",
              "  -0.01420853566378355,\n",
              "  0.0278333630412817,\n",
              "  -0.024594059213995934,\n",
              "  0.016640041023492813,\n",
              "  0.016905155032873154,\n",
              "  0.027633434161543846,\n",
              "  0.052076492458581924,\n",
              "  0.045510951429605484,\n",
              "  -0.0056832656264305115,\n",
              "  -0.041689515113830566,\n",
              "  0.010876295156776905,\n",
              "  0.02313387766480446,\n",
              "  -0.02182188257575035,\n",
              "  -0.046324629336595535,\n",
              "  -0.021327605471014977,\n",
              "  0.016269918531179428,\n",
              "  0.0019085060339421034,\n",
              "  0.08219477534294128,\n",
              "  -0.02229045145213604,\n",
              "  -0.0209283996373415,\n",
              "  -0.06206740811467171,\n",
              "  -0.011890922673046589,\n",
              "  -0.016154199838638306,\n",
              "  -0.07341744750738144,\n",
              "  0.0005570598877966404,\n",
              "  -0.0003615506866481155,\n",
              "  0.009473787620663643,\n",
              "  -0.04547593370079994,\n",
              "  0.020163966342806816,\n",
              "  -0.01782483048737049,\n",
              "  -0.012350012548267841,\n",
              "  -0.021022779867053032,\n",
              "  0.0024652029387652874,\n",
              "  -0.055367715656757355,\n",
              "  -0.015895208343863487,\n",
              "  -0.015715735033154488,\n",
              "  0.07099885493516922,\n",
              "  0.006761869881302118,\n",
              "  -0.03572479635477066,\n",
              "  -0.04760708659887314,\n",
              "  0.02138034626841545,\n",
              "  0.07411976903676987,\n",
              "  0.009524385444819927,\n",
              "  0.002027982845902443,\n",
              "  0.003221120685338974,\n",
              "  0.013514452613890171,\n",
              "  -0.021213246509432793,\n",
              "  -0.01381688378751278,\n",
              "  0.005237977020442486,\n",
              "  0.044702187180519104,\n",
              "  -0.02596861496567726,\n",
              "  -9.224000677932054e-05,\n",
              "  0.028716037049889565,\n",
              "  -0.038863688707351685,\n",
              "  -0.042072612792253494,\n",
              "  -0.039822183549404144,\n",
              "  -0.0053233676590025425,\n",
              "  -0.04615557938814163,\n",
              "  -0.029876090586185455,\n",
              "  -0.05663948506116867,\n",
              "  0.05417882651090622,\n",
              "  0.025007592514157295,\n",
              "  0.005661000031977892,\n",
              "  0.0199989415705204,\n",
              "  -0.03153976425528526,\n",
              "  -0.08910142630338669,\n",
              "  -0.041270121932029724,\n",
              "  -0.006856213789433241,\n",
              "  -0.01567845419049263,\n",
              "  -0.03150695189833641,\n",
              "  -0.04324159771203995,\n",
              "  0.02363533340394497,\n",
              "  -0.03416594862937927,\n",
              "  0.007442261558026075,\n",
              "  0.02341012842953205,\n",
              "  0.017173001542687416,\n",
              "  0.012845040298998356,\n",
              "  -0.050002261996269226,\n",
              "  0.007404997479170561,\n",
              "  -0.0003640998911578208,\n",
              "  -0.03512921929359436,\n",
              "  -0.022883715108036995,\n",
              "  0.06390224397182465,\n",
              "  -0.040944527834653854,\n",
              "  -0.019627097994089127,\n",
              "  0.01009994838386774,\n",
              "  0.05059603601694107,\n",
              "  0.02098015695810318,\n",
              "  -0.023831769824028015,\n",
              "  0.01724800281226635,\n",
              "  0.04076370969414711,\n",
              "  -0.03757663443684578,\n",
              "  0.05374038964509964,\n",
              "  -0.04660022258758545,\n",
              "  0.06550215184688568,\n",
              "  -0.031654197722673416,\n",
              "  7.424564682878554e-05,\n",
              "  0.020073702558875084,\n",
              "  -0.05355559661984444,\n",
              "  -0.04939284920692444,\n",
              "  0.008321398869156837,\n",
              "  0.0001667449832893908,\n",
              "  0.07560772448778152,\n",
              "  -0.04139507934451103,\n",
              "  0.01626799814403057,\n",
              "  -0.05378043279051781,\n",
              "  -0.015453820116817951,\n",
              "  -0.04408534616231918,\n",
              "  0.009291581809520721,\n",
              "  0.058605361729860306,\n",
              "  0.01783796027302742,\n",
              "  0.019188307225704193,\n",
              "  -0.019522488117218018,\n",
              "  0.00020428777497727424,\n",
              "  -0.034314364194869995,\n",
              "  -0.02191850356757641,\n",
              "  -0.11420417577028275,\n",
              "  -0.011213673278689384,\n",
              "  -0.005071582272648811,\n",
              "  -0.05102844536304474,\n",
              "  -0.003175341757014394,\n",
              "  0.02497309446334839,\n",
              "  0.00041829136898741126,\n",
              "  -0.023040836676955223,\n",
              "  0.0009777279337868094,\n",
              "  -0.004763436038047075,\n",
              "  0.0211349930614233,\n",
              "  0.03297514468431473,\n",
              "  -0.02035181038081646,\n",
              "  -0.061798907816410065,\n",
              "  -0.0006193041335791349,\n",
              "  -0.014455619268119335,\n",
              "  -0.006572863087058067,\n",
              "  -0.0021157253067940474,\n",
              "  0.00011274417920503765,\n",
              "  0.024946315214037895,\n",
              "  0.034499358385801315,\n",
              "  0.023993557319045067,\n",
              "  -0.007489703129976988,\n",
              "  -0.047762636095285416,\n",
              "  0.0043459078297019005,\n",
              "  -0.0025081669446080923,\n",
              "  -0.007949012331664562,\n",
              "  -0.049248676747083664,\n",
              "  -0.0033241671044379473,\n",
              "  -0.05554306507110596,\n",
              "  -0.020785054191946983,\n",
              "  -0.033860716968774796,\n",
              "  0.044660791754722595,\n",
              "  0.025885405018925667,\n",
              "  -0.0005770581192336977,\n",
              "  -0.037132229655981064,\n",
              "  -0.01542659942060709,\n",
              "  -0.08286282420158386,\n",
              "  0.0025444477796554565,\n",
              "  -0.004758523777127266,\n",
              "  -3.1023711926536635e-05,\n",
              "  0.0898251160979271,\n",
              "  -0.0023465165868401527,\n",
              "  -0.010455630719661713,\n",
              "  -0.03876275196671486,\n",
              "  0.023694662377238274,\n",
              "  0.0157813411206007,\n",
              "  -0.02686448022723198,\n",
              "  -0.019989583641290665,\n",
              "  0.02795739844441414,\n",
              "  0.011155504733324051,\n",
              "  0.017868496477603912,\n",
              "  0.00566106429323554,\n",
              "  0.016154704615473747,\n",
              "  0.03123403899371624,\n",
              "  0.0334664061665535,\n",
              "  -0.020016582682728767,\n",
              "  -0.04260414093732834,\n",
              "  -0.03251521661877632,\n",
              "  -0.01887195184826851,\n",
              "  0.07687415927648544,\n",
              "  -0.023450396955013275,\n",
              "  -0.04412092640995979,\n",
              "  -0.04385681077837944,\n",
              "  -0.013817192986607552,\n",
              "  0.041838645935058594,\n",
              "  -0.018503308296203613,\n",
              "  0.03878866881132126,\n",
              "  -0.022442862391471863,\n",
              "  0.04899203032255173,\n",
              "  -0.05780736356973648,\n",
              "  -0.09827833622694016,\n",
              "  -0.011566441506147385,\n",
              "  0.0326850451529026,\n",
              "  0.024205340072512627,\n",
              "  0.021470341831445694,\n",
              "  -0.0017851138254627585,\n",
              "  -0.014564677141606808,\n",
              "  -0.04788019880652428,\n",
              "  0.020823117345571518,\n",
              "  0.011187328025698662,\n",
              "  -0.07465562224388123,\n",
              "  0.03345937281847,\n",
              "  0.04870966449379921,\n",
              "  0.010657005943357944,\n",
              "  0.054549239575862885,\n",
              "  -0.01967201754450798,\n",
              "  -0.004553495440632105,\n",
              "  -0.036656998097896576,\n",
              "  -0.005194191355258226,\n",
              "  0.024752534925937653,\n",
              "  -0.031559284776449203,\n",
              "  -0.010261006653308868,\n",
              "  -0.0372711680829525,\n",
              "  0.026268187910318375,\n",
              "  -0.0269766915589571,\n",
              "  -0.006800346076488495,\n",
              "  0.011998385190963745,\n",
              "  -0.026836292818188667,\n",
              "  0.004269917029887438,\n",
              "  -0.03975401073694229,\n",
              "  0.023261485621333122,\n",
              "  -0.005722010042518377,\n",
              "  0.0274979155510664,\n",
              "  0.021903937682509422,\n",
              "  -0.013458157889544964,\n",
              "  0.018069256097078323,\n",
              "  -0.052544429898262024,\n",
              "  -0.005871691275388002,\n",
              "  0.055627889931201935,\n",
              "  0.024844588711857796,\n",
              "  0.017323048785328865,\n",
              "  -0.01400885172188282,\n",
              "  -0.0026041842065751553,\n",
              "  0.015823764726519585,\n",
              "  0.04616989940404892,\n",
              "  -0.030059106647968292,\n",
              "  -0.007272305432707071,\n",
              "  -0.015942418947815895,\n",
              "  -0.05403784289956093,\n",
              "  -0.01220976933836937,\n",
              "  0.028114506974816322,\n",
              "  -0.01572599820792675,\n",
              "  0.00783547293394804,\n",
              "  -0.023276494815945625,\n",
              "  0.057525623589754105,\n",
              "  0.014111356809735298,\n",
              "  0.03985228016972542,\n",
              "  -0.03901122510433197,\n",
              "  -0.04416784644126892,\n",
              "  0.06983382254838943,\n",
              "  -0.04359673708677292,\n",
              "  -0.058602821081876755,\n",
              "  0.010951395146548748,\n",
              "  -0.02781643532216549,\n",
              "  -0.006178125739097595,\n",
              "  -0.005921321455389261,\n",
              "  -0.0019205238204449415,\n",
              "  0.01375424675643444,\n",
              "  0.02423887886106968,\n",
              "  0.057874180376529694,\n",
              "  -0.00038914146716706455,\n",
              "  0.00735213840380311,\n",
              "  -0.03568899631500244,\n",
              "  0.014518998563289642,\n",
              "  -0.05065750330686569,\n",
              "  0.03491407260298729,\n",
              "  -0.03977186232805252,\n",
              "  0.012884712778031826,\n",
              "  -0.01465513464063406,\n",
              "  0.0055625480599701405,\n",
              "  -0.012585382908582687,\n",
              "  -0.028549229726195335,\n",
              "  -0.02397206798195839,\n",
              "  0.01753440499305725,\n",
              "  -0.08373405039310455,\n",
              "  -0.02587120048701763,\n",
              "  0.029123833402991295,\n",
              "  -0.056102972477674484,\n",
              "  -0.01727374456822872,\n",
              "  0.014804529026150703,\n",
              "  -0.05531027540564537,\n",
              "  0.015132659114897251,\n",
              "  0.00745064252987504,\n",
              "  -0.060869209468364716,\n",
              "  0.012480368837714195,\n",
              "  0.0073114437982439995,\n",
              "  0.03116181306540966,\n",
              "  0.020532920956611633,\n",
              "  0.010326213203370571,\n",
              "  -0.003284061560407281,\n",
              "  -0.013791080564260483,\n",
              "  0.05263227969408035,\n",
              "  0.05057612806558609,\n",
              "  -0.03188851475715637,\n",
              "  0.0158186424523592,\n",
              "  -0.051585111767053604,\n",
              "  0.07015039026737213,\n",
              "  0.04315042123198509,\n",
              "  0.0011800178326666355,\n",
              "  -0.002444514073431492,\n",
              "  0.004061726853251457,\n",
              "  -0.01499946229159832,\n",
              "  -0.05728654935956001,\n",
              "  -0.004457332659512758,\n",
              "  0.030593007802963257,\n",
              "  0.0008539260015822947,\n",
              "  -0.04779008403420448,\n",
              "  0.054451972246170044,\n",
              "  0.06367237865924835,\n",
              "  -0.04976632446050644,\n",
              "  -0.04215852543711662,\n",
              "  0.03637312725186348,\n",
              "  -0.027576571330428123,\n",
              "  -0.014760668389499187,\n",
              "  -0.007588966283947229,\n",
              "  0.018071969971060753,\n",
              "  -0.017375469207763672,\n",
              "  0.09266141802072525,\n",
              "  0.03510637581348419,\n",
              "  0.028142936527729034,\n",
              "  0.07078802585601807,\n",
              "  -0.03287390246987343,\n",
              "  0.009582441300153732,\n",
              "  0.018991665914654732,\n",
              "  0.06460507959127426,\n",
              "  0.04443129897117615,\n",
              "  0.009195949882268906,\n",
              "  -0.03753480315208435,\n",
              "  0.04739212244749069,\n",
              "  0.005134362727403641,\n",
              "  -0.06470320373773575,\n",
              "  0.004154069349169731,\n",
              "  0.005582971498370171,\n",
              "  0.006504890043288469,\n",
              "  0.013210994191467762,\n",
              "  -0.019231358543038368,\n",
              "  0.06193262338638306,\n",
              "  0.014356417581439018,\n",
              "  0.05798688158392906,\n",
              "  -0.003917154856026173,\n",
              "  0.0066308011300861835,\n",
              "  0.025354275479912758,\n",
              "  -0.03448554873466492,\n",
              "  0.011853302828967571,\n",
              "  0.011710898019373417,\n",
              "  0.014502828940749168,\n",
              "  0.03913351893424988,\n",
              "  -0.030134625732898712,\n",
              "  -0.02966795302927494,\n",
              "  0.028180155903100967,\n",
              "  0.007148481905460358,\n",
              "  -0.00086161307990551,\n",
              "  -0.022820495069026947,\n",
              "  -0.03664246201515198,\n",
              "  0.023934053257107735,\n",
              "  0.008284376002848148,\n",
              "  0.021342484280467033,\n",
              "  0.060707949101924896,\n",
              "  0.008648947812616825,\n",
              "  0.0013682051794603467,\n",
              "  -0.006979119498282671,\n",
              "  0.043060701340436935,\n",
              "  -0.006595982704311609,\n",
              "  0.020816564559936523,\n",
              "  -0.0341261550784111,\n",
              "  0.016301196068525314,\n",
              "  0.0289800763130188,\n",
              "  -0.029746420681476593,\n",
              "  0.016131015494465828,\n",
              "  0.005664283409714699,\n",
              "  0.0224252101033926,\n",
              "  0.030554914847016335,\n",
              "  0.01566428132355213,\n",
              "  0.013314953073859215,\n",
              "  0.012458068318665028,\n",
              "  0.011353309266269207,\n",
              "  -0.0006026672781445086,\n",
              "  -0.053762875497341156,\n",
              "  -0.030093487352132797,\n",
              "  -0.02013244293630123,\n",
              "  -0.04132680222392082,\n",
              "  0.013149876147508621,\n",
              "  0.02045825496315956,\n",
              "  -0.029333684593439102,\n",
              "  -0.0917811393737793,\n",
              "  -0.01719510369002819,\n",
              "  -0.03299345448613167,\n",
              "  0.01415031123906374,\n",
              "  -0.024132531136274338,\n",
              "  -0.03653465956449509,\n",
              "  -0.05189080536365509,\n",
              "  0.03596898168325424,\n",
              "  0.03778766468167305,\n",
              "  0.037558529525995255,\n",
              "  0.046697624027729034,\n",
              "  0.07533516734838486,\n",
              "  -0.004343126434832811,\n",
              "  -0.017082519829273224,\n",
              "  -0.018110286444425583,\n",
              "  0.046516407281160355,\n",
              "  0.04422558471560478,\n",
              "  -0.034509073942899704,\n",
              "  0.003638943424448371,\n",
              "  -0.096758633852005,\n",
              "  0.05261467397212982,\n",
              "  0.029849858954548836,\n",
              "  0.030489662662148476,\n",
              "  -0.07772863656282425,\n",
              "  0.046980589628219604,\n",
              "  -0.007091281935572624,\n",
              "  0.013849497772753239,\n",
              "  0.06201142072677612,\n",
              "  0.017916783690452576,\n",
              "  -0.0005992666119709611,\n",
              "  -0.02599279396235943,\n",
              "  -0.02063291147351265,\n",
              "  -0.006470680236816406,\n",
              "  0.02409370429813862,\n",
              "  0.05621527507901192,\n",
              "  -0.01820351742208004,\n",
              "  0.06471599638462067,\n",
              "  0.0388282909989357,\n",
              "  -0.005505684297531843,\n",
              "  -0.031517885625362396,\n",
              "  0.03141291067004204,\n",
              "  -0.022344714030623436,\n",
              "  0.01438975054770708,\n",
              "  -0.020687349140644073,\n",
              "  0.024200038984417915,\n",
              "  -0.016166336834430695,\n",
              "  -0.08535046875476837,\n",
              "  -0.02247278392314911,\n",
              "  0.023409219458699226,\n",
              "  -0.0049283625558018684,\n",
              "  -0.07191138714551926,\n",
              "  0.0006334540084935725,\n",
              "  -0.02091049775481224,\n",
              "  0.05163310840725899,\n",
              "  0.005117521621286869,\n",
              "  -0.009418647736310959,\n",
              "  0.00011030596942873672,\n",
              "  -0.05284576117992401,\n",
              "  -0.03207964822649956,\n",
              "  -0.0666450783610344,\n",
              "  0.0043813204392790794,\n",
              "  0.022961778566241264,\n",
              "  -0.014064528979361057,\n",
              "  0.014529632404446602,\n",
              "  -0.045601777732372284,\n",
              "  -0.010615027509629726,\n",
              "  -0.026258839294314384,\n",
              "  0.002044446999207139,\n",
              "  0.0011965635931119323,\n",
              "  0.025016820058226585,\n",
              "  0.007010465953499079])"
            ]
          },
          "metadata": {},
          "execution_count": 22
        }
      ],
      "source": [
        "embedding_1,embedding_2"
      ]
    },
    {
      "cell_type": "markdown",
      "metadata": {
        "id": "qiKCOv4X0d7B"
      },
      "source": [
        "### Vector Database"
      ]
    },
    {
      "cell_type": "code",
      "execution_count": null,
      "metadata": {
        "id": "NWOqhGMV0kZ9"
      },
      "outputs": [],
      "source": [
        "out_dir = 'medical_db'\n",
        "\n",
        "if not os.path.exists(out_dir):\n",
        "  os.makedirs(out_dir)"
      ]
    },
    {
      "cell_type": "code",
      "execution_count": null,
      "metadata": {
        "id": "8g-D3URW0iEO"
      },
      "outputs": [],
      "source": [
        "vectorstore = Chroma.from_documents(\n",
        "    document_chunks,\n",
        "    embedding_model,\n",
        "    persist_directory=out_dir\n",
        ")"
      ]
    },
    {
      "cell_type": "code",
      "execution_count": null,
      "metadata": {
        "id": "SuK6hsbaGfqH"
      },
      "outputs": [],
      "source": [
        "vectorstore = Chroma(persist_directory=out_dir,embedding_function=embedding_model)"
      ]
    },
    {
      "cell_type": "code",
      "execution_count": null,
      "metadata": {
        "id": "GdZON_Uj1EeS",
        "colab": {
          "base_uri": "https://localhost:8080/"
        },
        "outputId": "322223e6-44de-42a8-e6cb-9d07390bcac1"
      },
      "outputs": [
        {
          "output_type": "execute_result",
          "data": {
            "text/plain": [
              "HuggingFaceEmbeddings(client=SentenceTransformer(\n",
              "  (0): Transformer({'max_seq_length': 512, 'do_lower_case': False}) with Transformer model: BertModel \n",
              "  (1): Pooling({'word_embedding_dimension': 384, 'pooling_mode_cls_token': False, 'pooling_mode_mean_tokens': True, 'pooling_mode_max_tokens': False, 'pooling_mode_mean_sqrt_len_tokens': False, 'pooling_mode_weightedmean_tokens': False, 'pooling_mode_lasttoken': False})\n",
              "  (2): Normalize()\n",
              "), model_name='thenlper/gte-small', cache_folder=None, model_kwargs={}, encode_kwargs={}, multi_process=False)"
            ]
          },
          "metadata": {},
          "execution_count": 31
        }
      ],
      "source": [
        "vectorstore.embeddings"
      ]
    },
    {
      "cell_type": "code",
      "execution_count": null,
      "metadata": {
        "id": "P9HgsipF1I4H",
        "colab": {
          "base_uri": "https://localhost:8080/"
        },
        "outputId": "63a8b41e-3a53-4247-a4c1-515d8e508e0b"
      },
      "outputs": [
        {
          "output_type": "execute_result",
          "data": {
            "text/plain": [
              "[Document(page_content='Chapter 208. Arterial Hypertension\\nIntroduction\\nHypertension is sustained elevation of resting systolic BP (≥ 140 mm Hg), diastolic BP (≥ 90 mm\\nHg), or both. Hypertension with no known cause (primary; formerly, essential hypertension) is\\nmost common. Hypertension with an identified cause (secondary hypertension) is usually due\\nto a renal disorder. Usually, no symptoms develop unless hypertension is severe or long-\\nstanding. Diagnosis is by sphygmomanometry. Tests may be done to determine cause, assess\\ndamage, and identify other cardiovascular risk factors. Treatment involves lifestyle changes and\\ndrugs, including diuretics, β-blockers, ACE inhibitors, angiotensin II receptor blockers, and Ca\\nchannel blockers.\\nIn the US, about 65 million people have hypertension. Only about 70% of these people are aware that\\nthey have hypertension, only 59% are being treated, and only 34% have adequately controlled BP. In\\nadults, hypertension occurs more often in blacks (32%) than in whites (23%) or Mexican Americans\\n(23%), and morbidity and mortality are greater in blacks.\\nBP increases with age. About two thirds of people > 65 have hypertension, and people with a normal BP\\nat age 55 have a 90% lifetime risk of developing hypertension. Because hypertension becomes so\\ncommon with age, the age-related increase in BP may seem innocuous, but higher BP increases\\nmorbidity and mortality risk. Hypertension may develop during pregnancy (see pp. 2645 and 2670).\\nEtiology\\nHypertension may be primary (85 to 95% of cases) or secondary.\\nPrimary hypertension: Hemodynamics and physiologic components (eg, plasma volume, activity of the\\nrenin-angiotensin system) vary, indicating that primary hypertension is unlikely to have a single cause.\\nEven if one factor is initially responsible, multiple factors are probably involved in sustaining elevated BP\\n(the mosaic theory). In afferent systemic arterioles, malfunction of ion pumps on sarcolemmal membranes\\nof smooth muscle cells may lead to chronically increased vascular tone. Heredity is a predisposing factor,\\nbut the exact mechanism is unclear. Environmental factors (eg, dietary Na, obesity, stress) seem to affect\\nonly genetically susceptible people.', metadata={'author': '', 'creationDate': 'D:20120615054440Z', 'creator': 'Atop CHM to PDF Converter', 'file_path': '/content/drive/MyDrive/Colab Notebooks/medical_diagnosis_manual.pdf', 'format': 'PDF 1.7', 'keywords': '', 'modDate': 'D:20250523202800Z', 'page': 2230, 'producer': 'pdf-lib (https://github.com/Hopding/pdf-lib)', 'source': '/content/drive/MyDrive/Colab Notebooks/medical_diagnosis_manual.pdf', 'subject': '', 'title': 'The Merck Manual of Diagnosis & Therapy, 19th Edition', 'total_pages': 4114, 'trapped': ''}),\n",
              " Document(page_content='Plasma volume tends to decrease as BP increases; rarely, plasma volume remains normal or increases.\\nPlasma volume tends to be high in hypertension due to primary aldosteronism or renal parenchymal\\ndisease and may be quite low in hypertension due to pheochromocytoma. Renal blood flow gradually\\ndecreases as diastolic BP increases and arteriolar sclerosis begins. GFR remains normal until late in the\\ndisorder; as a result, the filtration fraction is increased. Coronary, cerebral, and muscle blood flow is\\nmaintained unless severe atherosclerosis coexists in these vascular beds.\\nAbnormal Na transport: In many cases of hypertension, Na transport across the cell wall is abnormal,\\nbecause the Na-K pump (Na+, K+-ATPase) is defective or inhibited or because permeability to Na+ is\\nincreased. The result is increased intracellular Na, which makes the cell more sensitive to sympathetic\\nstimulation. Ca follows Na, so accumulation of intracellular Ca may be responsible for the increased\\nsensitivity. Because Na+, K+-ATPase may pump norepinephrine back into sympathetic neurons (thus\\ninactivating this neurotransmitter), inhibition of this mechanism could also enhance the effect of\\nnorepinephrine, increasing BP. Defects in Na transport may occur in normotensive children of\\nhypertensive parents.\\nSympathetic nervous system: Sympathetic stimulation increases BP, usually more in patients with\\nprehypertension (systolic BP 120 to 139 mm Hg, diastolic BP 80 to 89 mm Hg) or hypertension (systolic\\nBP ≥ 140 mm Hg, diastolic BP ≥ 90 mm Hg, or both) than in normotensive patients. Whether this\\nhyperresponsiveness resides in the sympathetic nervous system or in the myocardium and vascular\\nsmooth muscle is unknown. A high resting pulse rate, which may result from increased sympathetic\\nnervous activity, is a well-known predictor of hypertension. In some hypertensive patients, circulating\\nplasma catecholamine levels during rest are higher than normal.\\nRenin-angiotensin-aldosterone system: This system helps regulate blood volume and therefore BP.\\nRenin, an enzyme formed in the juxtaglomerular apparatus, catalyzes conversion of angiotensinogen to', metadata={'author': '', 'creationDate': 'D:20120615054440Z', 'creator': 'Atop CHM to PDF Converter', 'file_path': '/content/drive/MyDrive/Colab Notebooks/medical_diagnosis_manual.pdf', 'format': 'PDF 1.7', 'keywords': '', 'modDate': 'D:20250523202800Z', 'page': 2231, 'producer': 'pdf-lib (https://github.com/Hopding/pdf-lib)', 'source': '/content/drive/MyDrive/Colab Notebooks/medical_diagnosis_manual.pdf', 'subject': '', 'title': 'The Merck Manual of Diagnosis & Therapy, 19th Edition', 'total_pages': 4114, 'trapped': ''}),\n",
              " Document(page_content='established. However, in black and elderly patients with hypertension, renin levels tend to be low. The\\nelderly also tend to have low angiotensin II levels.\\nHypertension due to chronic renal parenchymal disease (renoprival hypertension) results from the\\ncombination of a renin-dependent mechanism and a volume-dependent mechanism. In most cases,\\nincreased renin activity is not evident in peripheral blood. Hypertension is typically moderate and\\nsensitive to Na and water balance.\\nVasodilator deficiency: Deficiency of a vasodilator (eg, bradykinin, nitric oxide) rather than excess of a\\nvasoconstrictor (eg, angiotensin, norepinephrine) may cause hypertension. If the kidneys do not produce\\nadequate amounts of vasodilators (because of renal parenchymal disease or bilateral nephrectomy), BP\\ncan increase. Vasodilators and vasoconstrictors (mainly endothelin) are also produced in endothelial\\ncells. Therefore, endothelial dysfunction greatly affects BP.\\nThe Merck Manual of Diagnosis & Therapy, 19th Edition\\nChapter 208. Arterial Hypertension\\n2222\\npoojakpotnis@gmail.com\\nZ6SR9UQAV3\\nThis file is meant for personal use by poojakpotnis@gmail.com only.\\nSharing or publishing the contents in part or full is liable for legal action.', metadata={'author': '', 'creationDate': 'D:20120615054440Z', 'creator': 'Atop CHM to PDF Converter', 'file_path': '/content/drive/MyDrive/Colab Notebooks/medical_diagnosis_manual.pdf', 'format': 'PDF 1.7', 'keywords': '', 'modDate': 'D:20250523202800Z', 'page': 2231, 'producer': 'pdf-lib (https://github.com/Hopding/pdf-lib)', 'source': '/content/drive/MyDrive/Colab Notebooks/medical_diagnosis_manual.pdf', 'subject': '', 'title': 'The Merck Manual of Diagnosis & Therapy, 19th Edition', 'total_pages': 4114, 'trapped': ''})]"
            ]
          },
          "metadata": {},
          "execution_count": 32
        }
      ],
      "source": [
        "vectorstore.similarity_search(\"Can you explain the nuances of hypertension?\",k=3)"
      ]
    },
    {
      "cell_type": "markdown",
      "metadata": {
        "id": "uEa5sKc41T1z"
      },
      "source": [
        "### Retriever"
      ]
    },
    {
      "cell_type": "code",
      "execution_count": null,
      "metadata": {
        "id": "zO5kmp381VsX"
      },
      "outputs": [],
      "source": [
        "retriever = vectorstore.as_retriever(\n",
        "    search_type='similarity',\n",
        "    search_kwargs={'k': 2}"
      ]
    },
    {
      "cell_type": "code",
      "execution_count": null,
      "metadata": {
        "id": "bnKuqfWB1gBx",
        "colab": {
          "base_uri": "https://localhost:8080/"
        },
        "outputId": "4b8c289c-4b02-49e9-e78c-c901f286d06e"
      },
      "outputs": [
        {
          "output_type": "execute_result",
          "data": {
            "text/plain": [
              "[Document(page_content='skin disorders, drugs, cancer, or unknown causes. Symptoms and signs are pruritus, diffuse\\nerythema, and epidermal sloughing. Diagnosis is clinical. Treatment involves corticosteroids\\nand correction of the cause.\\nExfoliative dermatitis is a manifestation of rapid epidermal cell turnover. Its cause is unknown, but it most\\noften occurs in the context of preexisting skin disorders (eg, atopic dermatitis, contact dermatitis,\\nseborrheic dermatitis, psoriasis, pityriasis rubra pilaris), use of drugs (eg, penicillin, sulfonamides,\\nisoniazid, phenytoin, barbiturates), and cancer (eg, mycosis fungoides, leukemia, and, rarely, ade-\\nnocarcinomas). Up to 25% of patients have no identifiable underlying disease.\\nSymptoms and Signs\\nSymptoms include pruritus, malaise, and chills. Diffuse erythema initially occurs in patches but spreads\\nand involves all or nearly all of the body. Extensive epidermal sloughing leads to abnormal\\nthermoregulation, nutritional deficiencies because of extensive protein losses, increased metabolic rate\\nwith a hypercatabolic state, and hypovolemia due to transdermal fluid losses.\\nDiagnosis\\n• Clinical evaluation\\nDiagnosis is by history and examination. Preexisting skin disease may underlie the extensive erythema\\nand suggest a cause. Biopsy is often nonspecific but is indicated when mycosis fungoides is suspected.\\nBlood tests may reveal hypoproteinemia, hypocalcemia, and iron deficiency, each a consequence of\\nextensive protein, electrolyte, and RBC loss; however, these findings are not diagnostic.\\nThe Merck Manual of Diagnosis & Therapy, 19th Edition\\nChapter 76. Dermatitis\\n780\\npoojakpotnis@gmail.com\\nZ6SR9UQAV3\\nThis file is meant for personal use by poojakpotnis@gmail.com only.\\nSharing or publishing the contents in part or full is liable for legal action.', metadata={'author': '', 'creationDate': 'D:20120615054440Z', 'creator': 'Atop CHM to PDF Converter', 'file_path': '/content/drive/MyDrive/Colab Notebooks/medical_diagnosis_manual.pdf', 'format': 'PDF 1.7', 'keywords': '', 'modDate': 'D:20250523202800Z', 'page': 789, 'producer': 'pdf-lib (https://github.com/Hopding/pdf-lib)', 'source': '/content/drive/MyDrive/Colab Notebooks/medical_diagnosis_manual.pdf', 'subject': '', 'title': 'The Merck Manual of Diagnosis & Therapy, 19th Edition', 'total_pages': 4114, 'trapped': ''}),\n",
              " Document(page_content=\"Symptoms and Signs\\nSkin involvement is often pruritic. Stroking or rubbing skin lesions causes urticaria and erythema around\\nthe lesion (Darier's sign); this reaction differs from dermatographism, which involves normal skin.\\nSystemic symptoms can occur with any form. The most common is flushing; the most dramatic is\\nanaphylactoid reaction with syncope and shock. Other symptoms include epigastric pain due to peptic\\nulcer disease, nausea, vomiting, chronic diarrhea, arthralgias, bone pain, and neuropsychiatric changes\\n(eg, irritability, depression, mood lability). Hepatic and splenic infiltration may cause portal hypertension\\nwith resultant ascites.\\nDiagnosis\\n• Clinical evaluation\\n• Skin lesion biopsy and sometimes bone marrow biopsy\\nDiagnosis is suggested by clinical presentation. Diagnosis is confirmed by biopsy of skin lesions and\\nsometimes of bone marrow. Multifocal, dense infiltrates of mast cells are present.\\nTests may be done to rule out disorders that cause similar symptoms (anaphylaxis, pheochromocytoma,\\ncarcinoid syndrome, and Zollinger-Ellison syndrome). Serum gastrin level is useful to rule out Zollinger-\\nEllison syndrome in patients with ulcer symptoms; urinary excretion of 5-hydroxyindoleacetic acid (5-\\nHIAA) is measured to rule out carcinoid in patients with flushing.\\nIf the diagnosis is uncertain, levels of mast cell mediators and their metabolites (eg, urinary N-\\nmethylhistamine and N-methylimidazole acetic acid) may be measured in plasma and urine; elevated\\nlevels support the diagnosis of mastocytosis. The level of tryptase (a marker of mast cell degranulation)\\nis elevated in systemic mastocytosis but is typically normal in cutaneous mastocytosis. A bone scan, GI\\nworkup, and identification of the D816V c-kit mutation can also be helpful in cases where the diagnosis\\nrequires confirmation.\\nTreatment\\n• For cutaneous mastocytosis, H1 blockers and possibly psoralen plus ultraviolet light or topical\\ncorticosteroids\\n• For systemic mastocytosis, H1 and H2 blockers and sometimes cromolyn\\n• For aggressive forms, interferon alfa-2b, corticosteroids, or splenectomy\", metadata={'author': '', 'creationDate': 'D:20120615054440Z', 'creator': 'Atop CHM to PDF Converter', 'file_path': '/content/drive/MyDrive/Colab Notebooks/medical_diagnosis_manual.pdf', 'format': 'PDF 1.7', 'keywords': '', 'modDate': 'D:20250523202800Z', 'page': 1270, 'producer': 'pdf-lib (https://github.com/Hopding/pdf-lib)', 'source': '/content/drive/MyDrive/Colab Notebooks/medical_diagnosis_manual.pdf', 'subject': '', 'title': 'The Merck Manual of Diagnosis & Therapy, 19th Edition', 'total_pages': 4114, 'trapped': ''})]"
            ]
          },
          "metadata": {},
          "execution_count": 34
        }
      ],
      "source": [
        "rel_docs = retriever.get_relevant_documents(\"What are the symptoms of skin disorders and their treatment options?\")\n",
        "rel_docs"
      ]
    },
    {
      "cell_type": "code",
      "execution_count": null,
      "metadata": {
        "id": "yjLbgBH83iQ6"
      },
      "outputs": [],
      "source": [
        "model_output = llm(\n",
        "      \"What are the common ailments with respect to excessive sun exposure?\",\n",
        "      max_tokens=500,\n",
        "      temperature=0,\n",
        "    )"
      ]
    },
    {
      "cell_type": "code",
      "execution_count": null,
      "metadata": {
        "id": "p9K5_CD23zFY",
        "colab": {
          "base_uri": "https://localhost:8080/",
          "height": 214
        },
        "outputId": "e9b25659-11ac-4703-fa7f-8c5daea2320b"
      },
      "outputs": [
        {
          "output_type": "execute_result",
          "data": {
            "text/plain": [
              "\"\\n\\nExcessive sun exposure can lead to several health issues. Some of the most common ailments associated with prolonged sun exposure include:\\n\\n1. Sunburn: This is the most common and immediate effect of excessive sun exposure. Sunburn appears as red, painful, and swollen skin that may blister or peel. Severe sunburns can lead to dehydration, fever, and even hospitalization in extreme cases.\\n2. Heat Exhaustion: Prolonged exposure to the sun can also lead to heat exhaustion, which is characterized by symptoms such as dizziness, fatigue, headache, rapid heartbeat, and profuse sweating. In severe cases, heat exhaustion can progress to heat stroke, a potentially life-threatening condition.\\n3. Skin Damage: Long-term exposure to the sun can cause premature aging of the skin, leading to wrinkles, fine lines, age spots, and other signs of aging. It can also increase the risk of developing skin cancer, including melanoma, basal cell carcinoma, and squamous cell carcinoma.\\n4. Eye Damage: Prolonged exposure to the sun can also damage the eyes, leading to conditions such as cataracts, macular degeneration, and corneal sunburn. It is essential to wear sunglasses that provide 100% UV protection to protect your eyes from the harmful effects of the sun.\\n5. Dehydration: The sun can cause you to sweat profusely, leading to dehydration if you don't replace the fluids lost through sweating. Dehydration can lead to dizziness, fatigue, and even heat stroke in extreme cases.\\n6. Allergic Reactions: Some people may be allergic to certain components of sunlight, such as UVA or UVB rays. This condition is known as solar urticaria and can cause hives, itching, and other skin reactions upon exposure to the sun.\\n7. Heat Rash: Prolonged exposure to the sun can also lead to heat rash, which is characterized by small, red bumps that appear on the skin due to blocked sweat glands. Heat rash can be itchy and uncomfortable but usually resolves on its own with proper hydration and rest.\\n\\nTo\""
            ],
            "application/vnd.google.colaboratory.intrinsic+json": {
              "type": "string"
            }
          },
          "metadata": {},
          "execution_count": 36
        }
      ],
      "source": [
        "model_output['choices'][0]['text']"
      ]
    },
    {
      "cell_type": "markdown",
      "source": [
        "The above response is somewhat generic and is solely based on the data the model was trained on, rather than the medical manual.  \n",
        "\n",
        "Let's now provide our own context."
      ],
      "metadata": {
        "id": "YADTleB324vl"
      }
    },
    {
      "cell_type": "markdown",
      "metadata": {
        "id": "vw8qcwq66B0C",
        "nteract": {
          "transient": {
            "deleting": false
          }
        }
      },
      "source": [
        "### System and User Prompt Template"
      ]
    },
    {
      "cell_type": "markdown",
      "metadata": {
        "id": "3wRkZYtO6B0D"
      },
      "source": [
        "Prompts guide the model to generate accurate responses. Here, we define two parts:\n",
        "\n",
        "    1. The system message describing the assistant's role.\n",
        "    2. A user message template including context and the question."
      ]
    },
    {
      "cell_type": "code",
      "execution_count": null,
      "metadata": {
        "gather": {
          "logged": 1737358838889
        },
        "id": "Dyl60SEs6B0D",
        "jupyter": {
          "outputs_hidden": false,
          "source_hidden": false
        },
        "nteract": {
          "transient": {
            "deleting": false
          }
        }
      },
      "outputs": [],
      "source": [
        "qna_system_message = \"\"\"\n",
        "You are a medical assistant whose job is to review the report and provide a detailed response from the context.\n",
        "When answering, please provide detailed general information based from the context.\n",
        "User input will have context required by you to answer the questions.\n",
        "This context will begin with the token: ###Context.\n",
        "The context contains references to specific portions of a document relevant to the user query.\n",
        "\n",
        "User questions will begin with the token: ###Question.\n",
        "\n",
        "Please answer only using the context provided in the input. Do not mention anything about the context in your final answer.\n",
        "\n",
        "If the answer is not found in the context, respond with \"I do not know\".\n",
        "\"\"\""
      ]
    },
    {
      "cell_type": "code",
      "execution_count": null,
      "metadata": {
        "id": "XW38rWoNjJkQ"
      },
      "outputs": [],
      "source": [
        "qna_user_message_template = \"\"\"\n",
        "###Context\n",
        "Here are some documents that are relevant to the question mentioned below.\n",
        "{context}\n",
        "\n",
        "###Question\n",
        "{question}\n",
        "\"\"\""
      ]
    },
    {
      "cell_type": "markdown",
      "metadata": {
        "id": "TkIteX4m6mny"
      },
      "source": [
        "### Response Function"
      ]
    },
    {
      "cell_type": "code",
      "execution_count": null,
      "metadata": {
        "id": "J-SfCZqC6B0E",
        "jupyter": {
          "outputs_hidden": false,
          "source_hidden": false
        },
        "nteract": {
          "transient": {
            "deleting": false
          }
        }
      },
      "outputs": [],
      "source": [
        "def generate_rag_response(user_input,k=3,max_tokens=128,temperature=0,top_p=0.95,top_k=50):\n",
        "    global qna_system_message,qna_user_message_template\n",
        "    # Retrieve relevant document chunks\n",
        "    relevant_document_chunks = retriever.get_relevant_documents(query=user_input,k=k)\n",
        "    context_list = [d.page_content for d in relevant_document_chunks]\n",
        "\n",
        "    # Combine document chunks into a single context\n",
        "    context_for_query = \". \".join(context_list)\n",
        "\n",
        "    user_message = qna_user_message_template.replace('{context}', context_for_query)\n",
        "    user_message = user_message.replace('{question}', user_input)\n",
        "\n",
        "    prompt = qna_system_message + '\\n' + user_message\n",
        "\n",
        "    # Generate the response\n",
        "    try:\n",
        "        response = llm(\n",
        "                  prompt=prompt,\n",
        "                  max_tokens=max_tokens,\n",
        "                  temperature=temperature,\n",
        "                  top_p=top_p,\n",
        "                  top_k=top_k\n",
        "                  )\n",
        "\n",
        "        # Extract and print the model's response\n",
        "        response = response['choices'][0]['text'].strip()\n",
        "    except Exception as e:\n",
        "        response = f'Sorry, I encountered the following error: \\n {e}'\n",
        "\n",
        "    return response"
      ]
    },
    {
      "cell_type": "markdown",
      "source": [
        "## Question Answering using RAG"
      ],
      "metadata": {
        "id": "ffP1SRYbPQHN"
      }
    },
    {
      "cell_type": "markdown",
      "metadata": {
        "id": "JjajBEj06B0E"
      },
      "source": [
        "### Query 1: What is the protocol for managing sepsis in a critical care unit?"
      ]
    },
    {
      "cell_type": "code",
      "execution_count": null,
      "metadata": {
        "id": "Gt4TAQNa6B0E",
        "colab": {
          "base_uri": "https://localhost:8080/",
          "height": 89
        },
        "outputId": "a29af5c2-037a-4bbc-ada8-7754318946ea"
      },
      "outputs": [
        {
          "output_type": "stream",
          "name": "stderr",
          "text": [
            "Llama.generate: prefix-match hit\n"
          ]
        },
        {
          "output_type": "execute_result",
          "data": {
            "text/plain": [
              "'Based on the context provided, the protocol for managing sepsis in a critical care unit includes:\\n1. Fluid resuscitation with 0.9% normal saline until CVP reaches 8 mm Hg (10 cm H2O) or PAOP reaches 12 to 15 mm Hg. Oliguria with hypotension is not a contraindication to vigorous fluid resuscitation.\\n2. Administration of oxygen through mask or nasal prongs, and possible tracheal intubation and mechanical ventilation for respiratory failure.\\n3.'"
            ],
            "application/vnd.google.colaboratory.intrinsic+json": {
              "type": "string"
            }
          },
          "metadata": {},
          "execution_count": 41
        }
      ],
      "source": [
        "user_input = \"What is the protocol for managing sepsis in a critical care unit?\"\n",
        "generate_rag_response(user_input)"
      ]
    },
    {
      "cell_type": "markdown",
      "metadata": {
        "id": "QDw8zXuq6B0F"
      },
      "source": [
        "### Query 2: What are the common symptoms for appendicitis, and can it be cured via medicine? If not, what surgical procedure should be followed to treat it?"
      ]
    },
    {
      "cell_type": "code",
      "execution_count": null,
      "metadata": {
        "id": "i92cv0dQ6B0F",
        "colab": {
          "base_uri": "https://localhost:8080/",
          "height": 89
        },
        "outputId": "baec590e-d3fe-43fa-ac73-0db5ccf4498a"
      },
      "outputs": [
        {
          "output_type": "stream",
          "name": "stderr",
          "text": [
            "Llama.generate: prefix-match hit\n"
          ]
        },
        {
          "output_type": "execute_result",
          "data": {
            "text/plain": [
              "\"The common symptoms for appendicitis include epigastric or periumbilical pain followed by brief nausea, vomiting, anorexia, and after a few hours, the pain shifts to the right lower quadrant. Pain increases with cough and motion. Classic signs are right lower quadrant direct and rebound tenderness located at McBurney's point (junction of the middle and outer thirds of the line joining the umbilicus to the anterior superior spine). Additional signs include pain felt in the right lower quadrant with palpation of the left lower quadrant (Rov\""
            ],
            "application/vnd.google.colaboratory.intrinsic+json": {
              "type": "string"
            }
          },
          "metadata": {},
          "execution_count": 42
        }
      ],
      "source": [
        "user_input_2 = \"What are the common symptoms for appendicitis, and can it be cured via medicine? If not, what surgical procedure should be followed to treat it?\"\n",
        "generate_rag_response(user_input_2)"
      ]
    },
    {
      "cell_type": "markdown",
      "metadata": {
        "id": "TggYyQPL6B0G"
      },
      "source": [
        "### Query 3: What are the effective treatments or solutions for addressing sudden patchy hair loss, commonly seen as localized bald spots on the scalp, and what could be the possible causes behind it?"
      ]
    },
    {
      "cell_type": "code",
      "execution_count": null,
      "metadata": {
        "id": "Ed6x6LGb6B0G",
        "colab": {
          "base_uri": "https://localhost:8080/",
          "height": 89
        },
        "outputId": "52c59b63-366d-4997-bd21-724daf87c2e8"
      },
      "outputs": [
        {
          "output_type": "stream",
          "name": "stderr",
          "text": [
            "Llama.generate: prefix-match hit\n"
          ]
        },
        {
          "output_type": "execute_result",
          "data": {
            "text/plain": [
              "'Based on the context provided, sudden patchy hair loss, also known as alopecia areata, can be treated with various methods depending on the severity of the condition. For mild cases, topical treatments such as minoxidil or anthralin may be effective. Intralesional corticosteroid injections or systemic corticosteroids may be used for more severe cases. Topical immunotherapy using diphencyprone or squaric acid dibutylester can also be an option. Psoralen plus ultraviolet A (PUVA) therapy is another treatment'"
            ],
            "application/vnd.google.colaboratory.intrinsic+json": {
              "type": "string"
            }
          },
          "metadata": {},
          "execution_count": 43
        }
      ],
      "source": [
        "user_input_3 = \"What are the effective treatments or solutions for addressing sudden patchy hair loss, commonly seen as localized bald spots on the scalp, and what could be the possible causes behind it?\" #Complete the code to pass the query #3\n",
        "generate_rag_response(user_input_3)"
      ]
    },
    {
      "cell_type": "markdown",
      "metadata": {
        "id": "1TgxdI-_6B0G"
      },
      "source": [
        "### Query 4:  What treatments are recommended for a person who has sustained a physical injury to brain tissue, resulting in temporary or permanent impairment of brain function?"
      ]
    },
    {
      "cell_type": "code",
      "execution_count": null,
      "metadata": {
        "id": "u7ru57_c6B0G",
        "colab": {
          "base_uri": "https://localhost:8080/",
          "height": 107
        },
        "outputId": "c3ba564c-b25a-466f-cab5-59e34462c35f"
      },
      "outputs": [
        {
          "output_type": "stream",
          "name": "stderr",
          "text": [
            "Llama.generate: prefix-match hit\n"
          ]
        },
        {
          "output_type": "execute_result",
          "data": {
            "text/plain": [
              "'Based on the context provided, the initial treatment for a person with traumatic brain injury (TBI) includes ensuring a reliable airway and maintaining adequate ventilation, oxygenation, and blood pressure. Surgery may be needed in patients with more severe injuries to place monitors to track and treat intracranial pressure, decompress the brain if intracranial pressure is increased, or remove intracranial hematomas. In the first few days after the injury, maintaining adequate brain perfusion and oxygenation and preventing complications of altered sensorium are important. Subsequently, many patients require rehabilitation.'"
            ],
            "application/vnd.google.colaboratory.intrinsic+json": {
              "type": "string"
            }
          },
          "metadata": {},
          "execution_count": 44
        }
      ],
      "source": [
        "user_input_4 = \"What treatments are recommended for a person who has sustained a physical injury to brain tissue, resulting in temporary or permanent impairment of brain function?\"\n",
        "generate_rag_response(user_input_4)"
      ]
    },
    {
      "cell_type": "markdown",
      "metadata": {
        "id": "FlHXYCkm6B0H"
      },
      "source": [
        "### Query 5: What are the necessary precautions and treatment steps for a person who has fractured their leg during a hiking trip, and what should be considered for their care and recovery?"
      ]
    },
    {
      "cell_type": "code",
      "execution_count": null,
      "metadata": {
        "id": "LYIbiI_P6B0H",
        "colab": {
          "base_uri": "https://localhost:8080/",
          "height": 107
        },
        "outputId": "88b6b9d2-0c18-4bcf-9b5a-f018823a0ce5"
      },
      "outputs": [
        {
          "output_type": "stream",
          "name": "stderr",
          "text": [
            "Llama.generate: prefix-match hit\n"
          ]
        },
        {
          "output_type": "execute_result",
          "data": {
            "text/plain": [
              "'Based on the context provided, here is a detailed response:\\n\\nA person who has fractured their leg during a hiking trip should first seek medical attention as soon as possible. In the meantime, they can take some initial steps to help manage their injury and prevent further complications. These steps include:\\n\\n1. Immobilize the affected limb using a splint or sling to prevent any movement that could worsen the fracture.\\n2. Apply ice packs intermittently to reduce swelling and pain.\\n3. Elevate the injured leg above heart level whenever possible to help reduce'"
            ],
            "application/vnd.google.colaboratory.intrinsic+json": {
              "type": "string"
            }
          },
          "metadata": {},
          "execution_count": 45
        }
      ],
      "source": [
        "user_input_5 = \"What are the necessary precautions and treatment steps for a person who has fractured their leg during a hiking trip, and what should be considered for their care and recovery?\" #Complete the code to pass the query #5\n",
        "generate_rag_response(user_input_5)"
      ]
    },
    {
      "cell_type": "markdown",
      "source": [
        "### Fine-tuning"
      ],
      "metadata": {
        "id": "K7TYrqycEITB"
      }
    },
    {
      "cell_type": "markdown",
      "metadata": {
        "id": "rqPMPTQLUxel"
      },
      "source": [
        "#### Query 1: What is the protocol for managing sepsis in a critical care unit?"
      ]
    },
    {
      "cell_type": "code",
      "execution_count": null,
      "metadata": {
        "id": "oIW5A_6rUxeo",
        "colab": {
          "base_uri": "https://localhost:8080/",
          "height": 214
        },
        "outputId": "5738b52a-9a89-43a3-d0af-f40c2cdd5e01"
      },
      "outputs": [
        {
          "output_type": "stream",
          "name": "stderr",
          "text": [
            "Llama.generate: prefix-match hit\n"
          ]
        },
        {
          "output_type": "execute_result",
          "data": {
            "text/plain": [
              "\"The protocol for managing sepsis in a critical care unit involves several steps. First, fluid resuscitation with 0.9% normal saline should be given until central venous pressure (CVP) reaches 8 mm Hg (10 cm H2O) or pulmonary artery occlusive pressure (PAOP) reaches 12 to 15 mm Hg. Oliguria with hypotension is not a contraindication to vigorous fluid resuscitation, and the quantity of fluid required often exceeds the normal blood volume and may reach 10 L over 4 to 12 hours. If a patient remains hypotensive after CVP or PAOP has been raised to target levels, dopamine may be given to increase mean arterial pressure (BP) to at least 60 mm Hg. If the dopamine dose exceeds 20 μg/kg/min, another vasopressor, typically norepinephrine, may be added. However, vasoconstriction caused by higher doses of dopamine and norepinephrine poses risks of organ hypoperfusion and acidosis, and these drugs have not been shown to improve survival. Oxygen should be given by mask or nasal prongs, and tracheal intubation and mechanical ventilation may be needed subsequently for respiratory failure. Patients with sepsis should be treated in an ICU, and frequent monitoring of physiologic parameters such as systemic pressure, CVP or PAOP, pulse oximetry, arterial blood gases, blood glucose, lactate, electrolyte levels, renal function, and possibly sublingual PCO2 should be performed. Urine output, a good indicator of renal perfusion, should be measured, usually with an indwelling catheter. Supportive care for the ICU patient includes provision of adequate nutrition and prevention of infection, stress ulcers and gastritis, and pulmonary embolism. Blood tests, including electrolytes and a complete blood count, are typically done daily to help detect problems early. Point-of-care testing can be used to do certain blood tests at the patient's bedside or unit.\""
            ],
            "application/vnd.google.colaboratory.intrinsic+json": {
              "type": "string"
            }
          },
          "metadata": {},
          "execution_count": 46
        }
      ],
      "source": [
        "user_input = \"What is the protocol for managing sepsis in a critical care unit?\"\n",
        "generate_rag_response(user_input,k=3,max_tokens=500,temperature=0.2,top_k=20)"
      ]
    },
    {
      "cell_type": "markdown",
      "metadata": {
        "id": "1lP8LwnbUxep"
      },
      "source": [
        "#### Query 2: What are the common symptoms for appendicitis, and can it be cured via medicine? If not, what surgical procedure should be followed to treat it?"
      ]
    },
    {
      "cell_type": "code",
      "execution_count": null,
      "metadata": {
        "id": "99zlqRbvUxeq",
        "colab": {
          "base_uri": "https://localhost:8080/",
          "height": 232
        },
        "outputId": "aa6eb7b1-75a3-4473-bc14-77836dcf2a14"
      },
      "outputs": [
        {
          "output_type": "stream",
          "name": "stderr",
          "text": [
            "Llama.generate: prefix-match hit\n"
          ]
        },
        {
          "output_type": "execute_result",
          "data": {
            "text/plain": [
              "\"Symptoms for appendicitis include epigastric or periumbilical pain followed by brief nausea, vomiting, anorexia, and after a few hours, the pain shifts to the right lower quadrant. Pain increases with cough and motion. Classic signs are right lower quadrant direct and rebound tenderness located at McBurney's point (junction of the middle and outer thirds of the line joining the umbilicus to the anterior superior spine). Additional signs are pain felt in the right lower quadrant with palpation of the left lower quadrant (Rovsing sign), an increase in pain from passive extension of the right hip joint that stretches the iliopsoas muscle (psoas sign), or pain caused by passive internal rotation of the flexed thigh (obturator sign). Low-grade fever is common. However, these classic findings appear in less than 50% of patients, and many variations of symptoms and signs occur. Pain may not be localized, particularly in infants and children. Tenderness may be diffuse or absent. Bowel movements are usually less frequent or absent if diarrhea is a sign, a retrocecal appendix should be suspected. Atypical symptoms are common among elderly patients and pregnant women.\\n\\nAppendicitis cannot be cured via medicine alone as it requires surgical removal of the inflamed appendix to prevent further complications such as perforation, gangrene, or appendiceal abscess. The surgical procedure for treating appendicitis is called an appendectomy, which can be performed either through an open incision or laparoscopically. In an open appendectomy, a single large incision is made in the right lower quadrant of the abdomen to access and remove the appendix. In a laparoscopic appendectomy, several small incisions are made, and the appendix is removed using a laparoscope and surgical instruments. Both procedures have their advantages and disadvantages, and the choice between them depends on individual patient factors.\""
            ],
            "application/vnd.google.colaboratory.intrinsic+json": {
              "type": "string"
            }
          },
          "metadata": {},
          "execution_count": 48
        }
      ],
      "source": [
        "user_input_2 = \"What are the common symptoms for appendicitis, and can it be cured via medicine? If not, what surgical procedure should be followed to treat it?\"\n",
        "generate_rag_response(user_input_2,k=5,max_tokens=800,temperature=0.5,top_k=50)"
      ]
    },
    {
      "cell_type": "markdown",
      "metadata": {
        "id": "pludvG5BUxer"
      },
      "source": [
        "#### Query 3: What are the effective treatments or solutions for addressing sudden patchy hair loss, commonly seen as localized bald spots on the scalp, and what could be the possible causes behind it?"
      ]
    },
    {
      "cell_type": "code",
      "execution_count": null,
      "metadata": {
        "id": "9CTt5MqmUxes",
        "colab": {
          "base_uri": "https://localhost:8080/",
          "height": 161
        },
        "outputId": "a87ac7d6-8ea4-4977-df5b-3fb7d170e947"
      },
      "outputs": [
        {
          "output_type": "stream",
          "name": "stderr",
          "text": [
            "Llama.generate: prefix-match hit\n"
          ]
        },
        {
          "output_type": "execute_result",
          "data": {
            "text/plain": [
              "'Based on the context, sudden patchy hair loss, also known as alopecia areata, is thought to be an autoimmune disorder affecting genetically susceptible people exposed to unclear environmental triggers. The scalp and beard are most frequently affected areas. The effective treatments or solutions for addressing this condition include topical, intralesional, or systemic corticosteroids, topical minoxidil, topical anthralin, topical immunotherapy (diphencyprone or squaric acid dibutylester), or psoralen plus ultraviolet A (PUVA). Hormonal modulators such as oral contraceptives or spironolactone may be useful for female-pattern hair loss associated with hyperandrogenemia. It is important to note that treatment should only be initiated after a thorough evaluation by a healthcare professional to rule out any underlying disorders. The context also mentions that scarring alopecia as seen in central centrifugal scarring alopecia, dissecting cellulitis of the scalp, and acne keloidalis nuchae is best treated by a long-acting oral tetracycline in combination with a potent topical corticosteroid. Additionally, hair loss due to chemotherapy is temporary and is best treated with a wig.'"
            ],
            "application/vnd.google.colaboratory.intrinsic+json": {
              "type": "string"
            }
          },
          "metadata": {},
          "execution_count": 49
        }
      ],
      "source": [
        "user_input_3 = \"What are the effective treatments or solutions for addressing sudden patchy hair loss, commonly seen as localized bald spots on the scalp, and what could be the possible causes behind it?\" #Complete the code to pass the query #3\n",
        "generate_rag_response(user_input_3,k=2,max_tokens=328,temperature=1)"
      ]
    },
    {
      "cell_type": "markdown",
      "metadata": {
        "id": "ydSZJlJQUxes"
      },
      "source": [
        "#### Query 4:  What treatments are recommended for a person who has sustained a physical injury to brain tissue, resulting in temporary or permanent impairment of brain function?"
      ]
    },
    {
      "cell_type": "code",
      "execution_count": null,
      "metadata": {
        "id": "8Pn3DJaUUxet",
        "colab": {
          "base_uri": "https://localhost:8080/",
          "height": 161
        },
        "outputId": "806a8fa8-c0ae-4335-e3d9-b7176736f578"
      },
      "outputs": [
        {
          "output_type": "stream",
          "name": "stderr",
          "text": [
            "Llama.generate: prefix-match hit\n"
          ]
        },
        {
          "output_type": "execute_result",
          "data": {
            "text/plain": [
              "\"Based on the context provided, the initial treatment for a person with a traumatic brain injury (TBI) includes ensuring a reliable airway and maintaining adequate ventilation, oxygenation, and blood pressure. Surgery may be needed in patients with more severe injuries to place monitors to track and treat intracranial pressure, decompress the brain if intracranial pressure is increased, or remove intracranial hematomas. In the first few days after the injury, maintaining adequate brain perfusion and oxygenation and preventing complications of altered sensorium are important. Subsequently, many patients require rehabilitation. The Merck Manual also mentions that for patients whose coma exceeds 24 hours, a prolonged period of rehabilitation is often required. Rehabilitation is best provided through a team approach that includes physical, occupational, and speech therapy, skill-building activities, and counseling to meet the patient's social and emotional needs. Brain injury support groups may also provide assistance to the families of brain-injured patients. Therefore, the recommended treatments for a person with a TBI include initial emergency care, potential surgery, ongoing medical management, and rehabilitation.\""
            ],
            "application/vnd.google.colaboratory.intrinsic+json": {
              "type": "string"
            }
          },
          "metadata": {},
          "execution_count": 52
        }
      ],
      "source": [
        "user_input_4 = \"What treatments are recommended for a person who has sustained a physical injury to brain tissue, resulting in temporary or permanent impairment of brain function?\"\n",
        "generate_rag_response(user_input_4,k=2,max_tokens=1000,temperature=0.3,top_k=10)"
      ]
    },
    {
      "cell_type": "markdown",
      "metadata": {
        "id": "5hAVjKHMUxeu"
      },
      "source": [
        "#### Query 5: What are the necessary precautions and treatment steps for a person who has fractured their leg during a hiking trip, and what should be considered for their care and recovery?"
      ]
    },
    {
      "cell_type": "code",
      "execution_count": null,
      "metadata": {
        "id": "QD1T75NZUxev",
        "colab": {
          "base_uri": "https://localhost:8080/",
          "height": 268
        },
        "outputId": "5582a42d-92c4-4f47-b5b2-ae51562c1b62"
      },
      "outputs": [
        {
          "output_type": "stream",
          "name": "stderr",
          "text": [
            "Llama.generate: prefix-match hit\n"
          ]
        },
        {
          "output_type": "execute_result",
          "data": {
            "text/plain": [
              "\"Based on the context provided, here's the detailed response:\\n\\nInitially after a fractured leg from a hiking trip, it is important to ensure the affected limb is not subjected to weight bearing activities. The patient should be encouraged to rest and avoid any movements that may cause discomfort or pain in the affected area. If possible, a splint or a cast may be applied to immobilize the fractured bone and maintain proper alignment until further evaluation and treatment by a healthcare professional is sought.\\n\\nDuring the recovery process, there are specific precautions that should be taken to ensure proper care for the injured leg. While rehabilitation varies depending on the type of surgery, for most fractures full weight bearing may not begin until a few days after surgery, if at all. Exercise activities aimed at increasing strength and preventing atrophy in both legs should commence as soon as possible. These exercises can consist of isometric movements during the initial stages, with gradual progression to more mobility exercises later on. Placing pillows under the knee during this period is contraindicated due to the risk of developing flexion contractures of the hip and knee joints.\\n\\nPatients with fractured legs are encouraged to do daily exercises targeting trunk muscles and quadriceps in the affected leg for better functional outcomes. Lifting heavy objects or performing strenuous activities that may put excessive strain on the fractured bone should be avoided during recovery to prevent complications such as delayed union, non-union, or refracture. Walking barefoot should also be avoided for safety reasons, especially if there are concerns about nerve damage (neuropathic foot ulcers). If necessary, wearing orthopedic devices like crutches or special shoes may help manage the condition and improve mobility as recommended by a healthcare practitioner.\\n\\nAlthough complications from a fractured leg can occur despite following all precautions, prompt recognition of any issues and seeking timely medical attention can help minimize adverse consequences. Skin breakdown or infections at the site of the prosthesis, fracture, or from poor nutrition or physical activity should be addressed as soon as possible with medical assistance. Finally, staying hydrated and eating balanced meals that supply essential nutrients are important during the healing process for a speedy recovery.\""
            ],
            "application/vnd.google.colaboratory.intrinsic+json": {
              "type": "string"
            }
          },
          "metadata": {},
          "execution_count": 51
        }
      ],
      "source": [
        "user_input_5 = \"What are the necessary precautions and treatment steps for a person who has fractured their leg during a hiking trip, and what should be considered for their care and recovery?\"\n",
        "generate_rag_response(user_input_5,k=3,max_tokens=800,temperature=2)"
      ]
    },
    {
      "cell_type": "markdown",
      "metadata": {
        "id": "yyQrTipNfuBN"
      },
      "source": [
        "## Output Evaluation"
      ]
    },
    {
      "cell_type": "markdown",
      "metadata": {
        "id": "HbXMSxqa-65E"
      },
      "source": [
        "Let us now use the LLM-as-a-judge method to check the quality of the RAG system on two parameters - retrieval and generation.\n",
        "\n",
        "- We are using the same Mistral model for evaluation, so basically here the llm is rating itself on how well he has performed in the task."
      ]
    },
    {
      "cell_type": "code",
      "execution_count": null,
      "metadata": {
        "id": "2dDxkZdyKSnh",
        "tags": []
      },
      "outputs": [],
      "source": [
        "groundedness_rater_system_message = \"\"\"\n",
        "You are tasked with rating AI generated answers to questions posed by users.\n",
        "You will be presented a question, context used by the AI system to generate the answer and an AI generated answer to the question.\n",
        "In the input, the question will begin with ###Question, the context will begin with ###Context while the AI generated answer will begin with ###Answer.\n",
        "\n",
        "Evaluation criteria:\n",
        "The task is to judge the extent to which the metric is followed by the answer.\n",
        "1 - The metric is not followed at all\n",
        "2 - The metric is followed only to a limited extent\n",
        "3 - The metric is followed to a good extent\n",
        "4 - The metric is followed mostly\n",
        "5 - The metric is followed completely\n",
        "\n",
        "Metric:\n",
        "The answer should be derived only from the information presented in the context\n",
        "\n",
        "Instructions:\n",
        "1. First write down the steps that are needed to evaluate the answer as per the metric.\n",
        "2. Give a step-by-step explanation if the answer adheres to the metric considering the question and context as the input.\n",
        "3. Next, evaluate the extent to which the metric is followed.\n",
        "4. Use the previous information to rate the answer using the evaluaton criteria and assign a score.\n",
        "\"\"\""
      ]
    },
    {
      "cell_type": "code",
      "execution_count": null,
      "metadata": {
        "id": "NIosu2Wk7OVs",
        "tags": []
      },
      "outputs": [],
      "source": [
        "relevance_rater_system_message = \"\"\"\n",
        "You are tasked with rating AI generated answers to questions posed by users.\n",
        "You will be presented a question, context used by the AI system to generate the answer and an AI generated answer to the question.\n",
        "In the input, the question will begin with ###Question, the context will begin with ###Context while the AI generated answer will begin with ###Answer.\n",
        "\n",
        "Evaluation criteria:\n",
        "The task is to judge the extent to which the metric is followed by the answer.\n",
        "1 - The metric is not followed at all\n",
        "2 - The metric is followed only to a limited extent\n",
        "3 - The metric is followed to a good extent\n",
        "4 - The metric is followed mostly\n",
        "5 - The metric is followed completely\n",
        "\n",
        "Metric:\n",
        "Relevance measures how well the answer addresses the main aspects of the question, based on the context.\n",
        "Consider whether all and only the important aspects are contained in the answer when evaluating relevance.\n",
        "\n",
        "Instructions:\n",
        "1. First write down the steps that are needed to evaluate the context as per the metric.\n",
        "2. Give a step-by-step explanation if the context adheres to the metric considering the question as the input.\n",
        "3. Next, evaluate the extent to which the metric is followed.\n",
        "4. Use the previous information to rate the context using the evaluaton criteria and assign a score.\n",
        "\"\"\""
      ]
    },
    {
      "cell_type": "code",
      "execution_count": null,
      "metadata": {
        "id": "7boMupgh_Gux",
        "tags": []
      },
      "outputs": [],
      "source": [
        "user_message_template = \"\"\"\n",
        "###Question\n",
        "{question}\n",
        "\n",
        "###Context\n",
        "{context}\n",
        "\n",
        "###Answer\n",
        "{answer}\n",
        "\"\"\""
      ]
    },
    {
      "cell_type": "code",
      "source": [
        "def generate_ground_relevance_response(user_input,k=3,max_tokens=128,temperature=0,top_p=0.95,top_k=50):\n",
        "    global qna_system_message,qna_user_message_template\n",
        "    # Retrieve relevant document chunks\n",
        "    relevant_document_chunks = retriever.get_relevant_documents(query=user_input,k=3)\n",
        "    context_list = [d.page_content for d in relevant_document_chunks]\n",
        "    context_for_query = \". \".join(context_list)\n",
        "\n",
        "    # Combine user_prompt and system_message to create the prompt\n",
        "    prompt = f\"\"\"[INST]{qna_system_message}\\n\n",
        "                {'user'}: {qna_user_message_template.format(context=context_for_query, question=user_input)}\n",
        "                [/INST]\"\"\"\n",
        "\n",
        "    response = llm(\n",
        "            prompt=prompt,\n",
        "            max_tokens=max_tokens,\n",
        "            temperature=temperature,\n",
        "            top_p=top_p,\n",
        "            top_k=top_k,\n",
        "            stop=['INST'],\n",
        "            echo=False\n",
        "            )\n",
        "\n",
        "    answer =  response[\"choices\"][0][\"text\"]\n",
        "\n",
        "    # Combine user_prompt and system_message to create the prompt\n",
        "    groundedness_prompt = f\"\"\"[INST]{groundedness_rater_system_message}\\n\n",
        "                {'user'}: {user_message_template.format(context=context_for_query, question=user_input, answer=answer)}\n",
        "                [/INST]\"\"\"\n",
        "\n",
        "    # Combine user_prompt and system_message to create the prompt\n",
        "    relevance_prompt = f\"\"\"[INST]{relevance_rater_system_message}\\n\n",
        "                {'user'}: {user_message_template.format(context=context_for_query, question=user_input, answer=answer)}\n",
        "                [/INST]\"\"\"\n",
        "\n",
        "    response_1 = llm(\n",
        "            prompt=groundedness_prompt,\n",
        "            max_tokens=max_tokens,\n",
        "            temperature=temperature,\n",
        "            top_p=top_p,\n",
        "            top_k=top_k,\n",
        "            stop=['INST'],\n",
        "            echo=False\n",
        "            )\n",
        "\n",
        "    response_2 = llm(\n",
        "            prompt=relevance_prompt,\n",
        "            max_tokens=max_tokens,\n",
        "            temperature=temperature,\n",
        "            top_p=top_p,\n",
        "            top_k=top_k,\n",
        "            stop=['INST'],\n",
        "            echo=False\n",
        "            )\n",
        "\n",
        "    return response_1['choices'][0]['text'],response_2['choices'][0]['text']"
      ],
      "metadata": {
        "id": "q9UVEOZbXYlh"
      },
      "execution_count": null,
      "outputs": []
    },
    {
      "cell_type": "markdown",
      "metadata": {
        "id": "f6qxqyJLYA2x"
      },
      "source": [
        "### Query 1: What is the protocol for managing sepsis in a critical care unit?"
      ]
    },
    {
      "cell_type": "code",
      "execution_count": null,
      "metadata": {
        "id": "ANzurSjuYA2x",
        "colab": {
          "base_uri": "https://localhost:8080/"
        },
        "outputId": "0865762a-07ff-41b1-b02e-6773cac3397a"
      },
      "outputs": [
        {
          "output_type": "stream",
          "name": "stderr",
          "text": [
            "Llama.generate: prefix-match hit\n",
            "Llama.generate: prefix-match hit\n",
            "Llama.generate: prefix-match hit\n"
          ]
        },
        {
          "output_type": "stream",
          "name": "stdout",
          "text": [
            " Steps to evaluate the answer:\n",
            "1. Identify the information in the context related to managing sepsis in a critical care unit.\n",
            "2. Compare the information in the context with the AI generated answer to check if all the details are present and accurate.\n",
            "3. Verify that the answer is derived only from the information presented in the context.\n",
            "\n",
            "Explanation:\n",
            "The AI generated answer includes all the necessary steps for managing sepsis in a critical care unit as outlined in the context. The answer accurately mentions fluid resuscitation, broad-spectrum antibiotics, drainage of abscesses and excision of necrotic tissue, normalization of blood glucose levels, replacement-dose corticosteroids, monitoring of various physiologic parameters, urine output measurement, and use of vasopressors if needed.\n",
            "\n",
            "Evaluation:\n",
            "The metric is followed completely as the answer is derived only from the information presented in the context.\n",
            "\n",
            "Rating:\n",
            "Based on the evaluation criteria, I would rate this answer a 5 for following the metric completely.\n",
            "\n",
            " Steps to evaluate the context as per the relevance metric:\n",
            "1. Identify the main aspects of the question: managing sepsis in a critical care unit.\n",
            "2. Determine if all important aspects are contained in the context:\n",
            "   - Fluid resuscitation with normal saline and target pressures\n",
            "   - Broad-spectrum antibiotics based on culture results\n",
            "   - Drainage of abscesses and excision of necrotic tissue\n",
            "   - Normalization of blood glucose levels and corticosteroids\n",
            "   - Monitoring of various physiologic parameters\n",
            "   - Oxygen therapy and possible intubation for respiratory failure\n",
            "3. Check if any irrelevant information is present in the context: No, all information provided relates to managing sepsis in a critical care unit.\n",
            "\n",
            "The context adheres to the relevance metric to a great extent as it covers all important aspects of managing sepsis in a critical care unit and does not contain any irrelevant information.\n",
            "\n",
            "Rating based on evaluation criteria:\n",
            "Since the context follows the relevance metric mostly, I would rate it as 4 (followed mostly).\n"
          ]
        }
      ],
      "source": [
        "ground,rel = generate_ground_relevance_response(user_input=\"What is the protocol for managing sepsis in a critical care unit?\",max_tokens=370)\n",
        "\n",
        "print(ground,end=\"\\n\\n\")\n",
        "print(rel)"
      ]
    },
    {
      "cell_type": "markdown",
      "metadata": {
        "id": "7A60Q6x3YA2y"
      },
      "source": [
        "### Query 2: What are the common symptoms for appendicitis, and can it be cured via medicine? If not, what surgical procedure should be followed to treat it?"
      ]
    },
    {
      "cell_type": "code",
      "execution_count": null,
      "metadata": {
        "id": "LOZQyoLwYA2y",
        "colab": {
          "base_uri": "https://localhost:8080/"
        },
        "outputId": "ba0298de-0ab8-4778-ded9-7868edf1d8d3"
      },
      "outputs": [
        {
          "output_type": "stream",
          "name": "stderr",
          "text": [
            "Llama.generate: prefix-match hit\n",
            "Llama.generate: prefix-match hit\n",
            "Llama.generate: prefix-match hit\n"
          ]
        },
        {
          "output_type": "stream",
          "name": "stdout",
          "text": [
            " Steps for evaluation:\n",
            "1. Identify the key information about appendicitis symptoms and treatment from the context.\n",
            "2. Compare the identified information with the AI generated answer to check if all elements come from the context.\n",
            "3. Evaluate the extent to which the AI answer sticks to the metric by determining if it only references the context provided.\n",
            "\n",
            "Explanation:\n",
            "The AI answer correctly lists the common symptoms of appendicitis, including epigastric or periumbilical pain followed by brief nausea, vomiting, and anorexia, as well as right lower quadrant pain that increases with cough and motion and is accompanied by direct and rebound tenderness at McBurney's point. It also mentions other possible signs like Rovsing sign, psoas sign, obturator sign, and a low-grade fever. Furthermore, the answer explains that appendicitis cannot be cured through medicine and requires surgical removal for proper treatment.\n",
            "\n",
            "The information provided in the AI answer is entirely derived from the context. The context not only includes details about the symptoms and signs of appendicitis but also mentions its causes, complications, diagnostic methods, and treatments. The AI answer covers all these aspects and does not include any external information that could potentially compromise the metric.\n",
            "\n",
            "Evaluation:\n",
            "Given that the metric requires the answer to be derived exclusively from the context and the AI generated answer is based entirely on the context provided, the extent to which the metric is followed can be rated as 5 (completely). Based on this evaluation, I would assign a score of 5 under the given evaluation criteria.\n",
            "\n",
            " To evaluate the context as per the metric of relevance:\n",
            "\n",
            "1. Identify the main aspects of the question: The question asks for common symptoms of appendicitis and if it can be cured via medicine or not, along with the surgical procedure to treat it in case of no medical cure.\n",
            "2. Check if all the important aspects are addressed in the context: Yes, the context provides detailed information about the symptoms of appendicitis (epigastric or periumbilical pain, nausea, vomiting, anorexia, etc.) and clarifies that there is no medical cure for this condition. It also explains the rationale behind the surgical procedure as a necessary treatment to prevent complications.\n",
            "\n",
            "Thus, based on this evaluation, the context can be considered to have followed the relevance metric mostly (rating: 4). The context includes all essential information about the question but could be even more specific about the surgical procedure mentioned in the question's last part ('what surgical procedure should be followed to treat it?'). However, given that the context mentions the appendix removal as the standard treatment, it adequately addresses the primary concern of the question.\n"
          ]
        }
      ],
      "source": [
        "ground,rel = generate_ground_relevance_response(user_input=\"What are the common symptoms for appendicitis, and can it be cured via medicine? If not, what surgical procedure should be followed to treat it?\",max_tokens=500, temperature=1, k=5) #Complete the code to pass the query #2 along with parameters if needed\n",
        "\n",
        "print(ground,end=\"\\n\\n\")\n",
        "print(rel)"
      ]
    },
    {
      "cell_type": "markdown",
      "metadata": {
        "id": "ZmYnriTdYA2z"
      },
      "source": [
        "### Query 3: What are the effective treatments or solutions for addressing sudden patchy hair loss, commonly seen as localized bald spots on the scalp, and what could be the possible causes behind it?"
      ]
    },
    {
      "cell_type": "code",
      "execution_count": null,
      "metadata": {
        "id": "Qp898M2iYA2z",
        "colab": {
          "base_uri": "https://localhost:8080/"
        },
        "outputId": "9545ce1e-07b9-4c40-efbf-7f7e29589236"
      },
      "outputs": [
        {
          "output_type": "stream",
          "name": "stderr",
          "text": [
            "Llama.generate: prefix-match hit\n",
            "Llama.generate: prefix-match hit\n",
            "Llama.generate: prefix-match hit\n"
          ]
        },
        {
          "output_type": "stream",
          "name": "stdout",
          "text": [
            " Steps to evaluate the answer:\n",
            "1. Identify the information in the context related to effective treatments or solutions for sudden patchy hair loss (alopecia areata).\n",
            "2. Check if the AI generated answer only includes information from the context and not any additional or irrelevant details.\n",
            "3. Verify that the causes of alopecia areata mentioned in the answer are consistent with the context.\n",
            "\n",
            "The AI generated answer adheres to the metric as it only includes information derived from the context about effective treatments for sudden patchy hair loss (alopecia areata) and its possible causes. Therefore, the extent to which the metric is followed is 5 - The metric is followed completely.\n",
            "\n",
            "Based on the evaluation criteria:\n",
            "1 - The metric is not followed at all\n",
            "2 - The metric is followed only to a limited extent\n",
            "3 - The metric is followed to a good extent\n",
            "4 - The metric is followed mostly\n",
            "5 - The metric is followed completely\n",
            "\n",
            "Since the answer follows the metric completely, it would receive a score of 5.\n",
            "\n",
            " Steps to evaluate the context as per the relevance metric:\n",
            "1. Identify the main aspects of the question: effective treatments or solutions for addressing sudden patchy hair loss and possible causes.\n",
            "2. Determine if all important aspects are covered in the context:\n",
            "   a. The context mentions various treatments for different types of hair loss, including alopecia areata, traction alopecia, tinea capitis, lichen planopilaris, chronic cutaneous lupus lesions, and chemotherapy-induced hair loss.\n",
            "   b. It also discusses possible causes such as autoimmune disorders, hormonal imbalances, underlying disorders, physical trauma, and environmental triggers.\n",
            "3. Check if only the important aspects are contained in the answer:\n",
            "   a. The context does not include irrelevant information, making it relevant to the question.\n",
            "\n",
            "The metric is followed mostly because the context covers all the main aspects of the question (effective treatments or solutions for addressing sudden patchy hair loss and possible causes) and only contains the important information related to those aspects.\n",
            "\n",
            "Rating: 4 (The metric is followed mostly)\n"
          ]
        }
      ],
      "source": [
        "ground,rel = generate_ground_relevance_response(user_input=\"What are the effective treatments or solutions for addressing sudden patchy hair loss, commonly seen as localized bald spots on the scalp, and what could be the possible causes behind it?\",k=5,max_tokens=500,top_k=10) #Complete the code to pass the query #3 along with parameters if needed\n",
        "\n",
        "print(ground,end=\"\\n\\n\")\n",
        "print(rel)"
      ]
    },
    {
      "cell_type": "markdown",
      "metadata": {
        "id": "jz-lGsVxYA2z"
      },
      "source": [
        "### Query 4: What treatments are recommended for a person who has sustained a physical injury to brain tissue, resulting in temporary or permanent impairment of brain function?"
      ]
    },
    {
      "cell_type": "code",
      "execution_count": null,
      "metadata": {
        "id": "gBRTYnFVYA2z",
        "colab": {
          "base_uri": "https://localhost:8080/"
        },
        "outputId": "8e78c7f2-73b9-4bf8-aab3-6a861b978e8e"
      },
      "outputs": [
        {
          "output_type": "stream",
          "name": "stderr",
          "text": [
            "Llama.generate: prefix-match hit\n",
            "Llama.generate: prefix-match hit\n",
            "Llama.generate: prefix-match hit\n"
          ]
        },
        {
          "output_type": "stream",
          "name": "stdout",
          "text": [
            " Steps for evaluation:\n",
            "1. Identify the key information related to treatments for traumatic brain injury from the context.\n",
            "2. Compare the identified information with the content of the AI generated answer.\n",
            "3. Determine if the AI generated answer is derived only from the information presented in the context.\n",
            "\n",
            "Explanation:\n",
            "The AI generated answer mentions the initial treatment for a person with a traumatic brain injury (TBI) which includes ensuring a reliable airway, maintaining adequate ventilation, oxygenation, and blood pressure. It also states that surgery may be needed in cases with more severe injuries and rehabilitation is required subsequently. Furthermore, it suggests a team approach to rehabilitation that combines physical, occupational, and speech therapy, skill-building activities, and counseling.\n",
            "\n",
            "The context of the question includes information on initial treatment for TBI which involves ensuring a reliable airway, maintaining adequate ventilation, oxygenation, and blood pressure. It also mentions surgery for more severe injuries, maintaining brain perfusion and oxygenation in the first few days, and rehabilitation afterwards. The Merck Manual is also recommended as a source of information on rehabilitation which includes physical, occupational, and speech therapy, skill-building activities, and counseling.\n",
            "\n",
            "Comparison of the identified key information with the content of the AI generated answer reveals that all the information in the answer is directly derived from the context.\n",
            "\n",
            "Based on this comparison, it can be concluded that the metric is followed completely by the AI generated answer.\n",
            "\n",
            "Rating:\n",
            "Using the evaluation criteria provided, I would rate the AI generated answer as 5 (The metric is followed completely).\n",
            "\n",
            " To evaluate the context as per the relevance metric:\n",
            "\n",
            "1. Identify the main aspects of the question: The question asks about treatments recommended for a person with a brain injury. Specifically, it mentions treatments related to ensuring airway and ventilation, oxygenation, blood pressure, surgery, rehabilitation, physical therapy, occupational therapy, speech therapy, skill-building activities, counseling, and planning early for rehabilitation.\n",
            "2. Match the main aspects with the context: The context discusses various aspects of traumatic brain injury (TBI), including its diagnosis, initial treatment, ongoing care in the first few days, and the need for rehabilitation. It mentions ensuring a reliable airway, maintaining adequate ventilation, oxygenation, and blood pressure in the initial treatment phase. It also discusses surgery to place monitors, decompress the brain, or remove intracranial hematomas, as well as the importance of preventing complications in the first few days and providing rehabilitation when neurological deficits persist. The context mentions a team approach to rehabilitation that includes physical, occupational, and speech therapy, skill-building activities, and counseling. It also suggests planning early for rehabilitation services for those with long-term comas and major neurological sequelae.\n",
            "3. Evaluate the extent to which the metric is followed: The context adheres well to the relevance metric, as it addresses all of the important aspects mentioned in the question regarding treatments for a person with a brain injury.\n",
            "\n",
            "Rating:\n",
            "Based on the evaluation above, I would rate this context a 5 (completely) when it comes to following the relevance metric. The context discusses all relevant aspects related to treatments for a traumatic brain injury as mentioned in the question and goes into detail about each one.\n"
          ]
        }
      ],
      "source": [
        "ground,rel = generate_ground_relevance_response(user_input=\"What treatments are recommended for a person who has sustained a physical injury to brain tissue, resulting in temporary or permanent impairment of brain function?\",k=10,max_tokens=800,temperature=1) #Complete the code to pass the query #4 along with parameters if needed\n",
        "\n",
        "print(ground,end=\"\\n\\n\")\n",
        "print(rel)"
      ]
    },
    {
      "cell_type": "markdown",
      "metadata": {
        "id": "x2WxSxzDYA2z"
      },
      "source": [
        "### Query 5: What are the necessary precautions and treatment steps for a person who has fractured their leg during a hiking trip, and what should be considered for their care and recovery?"
      ]
    },
    {
      "cell_type": "code",
      "execution_count": null,
      "metadata": {
        "id": "mKCq09_YYA20",
        "colab": {
          "base_uri": "https://localhost:8080/"
        },
        "outputId": "d90e88f3-6d2f-4f00-f464-36940f5453c4"
      },
      "outputs": [
        {
          "output_type": "stream",
          "name": "stderr",
          "text": [
            "Llama.generate: prefix-match hit\n",
            "Llama.generate: prefix-match hit\n",
            "Llama.generate: prefix-match hit\n"
          ]
        },
        {
          "output_type": "stream",
          "name": "stdout",
          "text": [
            " Steps to evaluate the answer:\n",
            "1. Identify if the answer directly addresses the question about necessary precautions and treatment steps for a person who has fractured their leg during a hiking trip.\n",
            "2. Check if the information in the answer is derived only from the context provided.\n",
            "\n",
            "The answer does not directly address the question about the necessary precautions and treatment steps specifically for someone who has fractured their leg during a hiking trip. However, it does provide some relevant information about hip surgery rehabilitation and care for patients with neuropathic foot ulcers. The answer goes beyond the context by adding recommendations for immobilization, seeking medical attention, following healthcare provider's recommendations for rehabilitation exercises, maintaining good nutrition and hydration, and wearing appropriate orthotic protection or special shoes if necessary.\n",
            "\n",
            "Since the question asked about precautions and treatment steps for a person who has fractured their leg during a hiking trip, the answer does not fully adhere to the metric as it includes information that is not directly related to the question. I would rate the extent to which the metric is followed as 2 - The metric is followed only to a limited extent.\n",
            "\n",
            "Based on the evaluation criteria and rating:\n",
            "1 - The metric is not followed at all\n",
            "2 - The metric is followed only to a limited extent (in this case)\n",
            "3 - The metric is followed to a good extent\n",
            "4 - The metric is followed mostly\n",
            "5 - The metric is followed completely\n",
            "\n",
            "I would rate the answer as 2.\n",
            "\n",
            " To evaluate the context as per the metric, the following steps are needed:\n",
            "1. Identify the main aspects of the question: necessary precautions and treatment steps for a person who has fractured their leg during a hiking trip.\n",
            "2. Determine if each piece of information in the context addresses these main aspects.\n",
            "3. Consider how well the context integrates with the question to provide a comprehensive answer.\n",
            "\n",
            "The context does mention some information related to hip surgery rehabilitation and care for patients with neuropathic foot ulcers, but it does not directly address the necessary precautions and treatment steps for someone who has fractured their leg during a hiking trip. Therefore, the metric is followed only to a limited extent.\n",
            "\n",
            "Based on this evaluation, I would rate the context as follows:\n",
            "1 - The metric is not followed at all (if the context did not mention anything related to the question)\n",
            "2 - The metric is followed only to a limited extent (as in this case)\n",
            "3 - The metric is followed to a good extent (if most of the important aspects were addressed in the context)\n",
            "4 - The metric is followed mostly (if all important aspects were addressed, but some irrelevant information was included)\n",
            "5 - The metric is followed completely (if all and only the important aspects were contained in the answer).\n",
            "\n",
            "Therefore, based on the evaluation criteria, I would assign a score of 2 to the context.\n"
          ]
        }
      ],
      "source": [
        "ground,rel = generate_ground_relevance_response(user_input=\"What are the necessary precautions and treatment steps for a person who has fractured their leg during a hiking trip, and what should be considered for their care and recovery?\",k=7,max_tokens=800,top_p=0.80,top_k=30) #Complete the code to pass the query #5 along with parameters if needed\n",
        "\n",
        "print(ground,end=\"\\n\\n\")\n",
        "print(rel)"
      ]
    }
  ],
  "metadata": {
    "accelerator": "TPU",
    "colab": {
      "collapsed_sections": [
        "TggYyQPL6B0G",
        "1TgxdI-_6B0G",
        "FlHXYCkm6B0H",
        "K7TYrqycEITB",
        "rqPMPTQLUxel",
        "1lP8LwnbUxep",
        "pludvG5BUxer",
        "ydSZJlJQUxes",
        "5hAVjKHMUxeu",
        "f6qxqyJLYA2x",
        "7A60Q6x3YA2y",
        "ZmYnriTdYA2z",
        "jz-lGsVxYA2z"
      ],
      "gpuType": "V28",
      "provenance": [],
      "machine_shape": "hm",
      "include_colab_link": true
    },
    "kernel_info": {
      "name": "python310-sdkv2"
    },
    "kernelspec": {
      "display_name": "Python 3",
      "name": "python3"
    },
    "language_info": {
      "name": "python"
    },
    "microsoft": {
      "host": {
        "AzureML": {
          "notebookHasBeenCompleted": true
        }
      },
      "ms_spell_check": {
        "ms_spell_check_language": "en"
      }
    },
    "nteract": {
      "version": "nteract-front-end@1.0.0"
    },
    "widgets": {
      "application/vnd.jupyter.widget-state+json": {
        "84acd7853d854fd786ccdce7304009f6": {
          "model_module": "@jupyter-widgets/controls",
          "model_name": "HBoxModel",
          "model_module_version": "1.5.0",
          "state": {
            "_dom_classes": [],
            "_model_module": "@jupyter-widgets/controls",
            "_model_module_version": "1.5.0",
            "_model_name": "HBoxModel",
            "_view_count": null,
            "_view_module": "@jupyter-widgets/controls",
            "_view_module_version": "1.5.0",
            "_view_name": "HBoxView",
            "box_style": "",
            "children": [
              "IPY_MODEL_f84a4cd7fd234e06b99216bbc90e3216",
              "IPY_MODEL_4952a5e5bccf40d89ba4e702f9ad72e2",
              "IPY_MODEL_80b703fe16104e57b24589203bc1bb8c"
            ],
            "layout": "IPY_MODEL_ecc549fa90cd43ae903c35b6ac2ddfed"
          }
        },
        "f84a4cd7fd234e06b99216bbc90e3216": {
          "model_module": "@jupyter-widgets/controls",
          "model_name": "HTMLModel",
          "model_module_version": "1.5.0",
          "state": {
            "_dom_classes": [],
            "_model_module": "@jupyter-widgets/controls",
            "_model_module_version": "1.5.0",
            "_model_name": "HTMLModel",
            "_view_count": null,
            "_view_module": "@jupyter-widgets/controls",
            "_view_module_version": "1.5.0",
            "_view_name": "HTMLView",
            "description": "",
            "description_tooltip": null,
            "layout": "IPY_MODEL_69f1f21059b348c88cebe5a1017cf358",
            "placeholder": "​",
            "style": "IPY_MODEL_151820d64aa942a8a6a421faac162c53",
            "value": "mistral-7b-instruct-v0.2.Q6_K.gguf: 100%"
          }
        },
        "4952a5e5bccf40d89ba4e702f9ad72e2": {
          "model_module": "@jupyter-widgets/controls",
          "model_name": "FloatProgressModel",
          "model_module_version": "1.5.0",
          "state": {
            "_dom_classes": [],
            "_model_module": "@jupyter-widgets/controls",
            "_model_module_version": "1.5.0",
            "_model_name": "FloatProgressModel",
            "_view_count": null,
            "_view_module": "@jupyter-widgets/controls",
            "_view_module_version": "1.5.0",
            "_view_name": "ProgressView",
            "bar_style": "success",
            "description": "",
            "description_tooltip": null,
            "layout": "IPY_MODEL_e3b7e87f39304096bd42a7ddd87de22d",
            "max": 5942065440,
            "min": 0,
            "orientation": "horizontal",
            "style": "IPY_MODEL_e99eace19f134aedb41f530f5e395cae",
            "value": 5942065440
          }
        },
        "80b703fe16104e57b24589203bc1bb8c": {
          "model_module": "@jupyter-widgets/controls",
          "model_name": "HTMLModel",
          "model_module_version": "1.5.0",
          "state": {
            "_dom_classes": [],
            "_model_module": "@jupyter-widgets/controls",
            "_model_module_version": "1.5.0",
            "_model_name": "HTMLModel",
            "_view_count": null,
            "_view_module": "@jupyter-widgets/controls",
            "_view_module_version": "1.5.0",
            "_view_name": "HTMLView",
            "description": "",
            "description_tooltip": null,
            "layout": "IPY_MODEL_9e5f775c3a374c189f67bf4147238bae",
            "placeholder": "​",
            "style": "IPY_MODEL_8ccd4f30453a441c95ef9776ffec277d",
            "value": " 5.94G/5.94G [00:21&lt;00:00, 268MB/s]"
          }
        },
        "ecc549fa90cd43ae903c35b6ac2ddfed": {
          "model_module": "@jupyter-widgets/base",
          "model_name": "LayoutModel",
          "model_module_version": "1.2.0",
          "state": {
            "_model_module": "@jupyter-widgets/base",
            "_model_module_version": "1.2.0",
            "_model_name": "LayoutModel",
            "_view_count": null,
            "_view_module": "@jupyter-widgets/base",
            "_view_module_version": "1.2.0",
            "_view_name": "LayoutView",
            "align_content": null,
            "align_items": null,
            "align_self": null,
            "border": null,
            "bottom": null,
            "display": null,
            "flex": null,
            "flex_flow": null,
            "grid_area": null,
            "grid_auto_columns": null,
            "grid_auto_flow": null,
            "grid_auto_rows": null,
            "grid_column": null,
            "grid_gap": null,
            "grid_row": null,
            "grid_template_areas": null,
            "grid_template_columns": null,
            "grid_template_rows": null,
            "height": null,
            "justify_content": null,
            "justify_items": null,
            "left": null,
            "margin": null,
            "max_height": null,
            "max_width": null,
            "min_height": null,
            "min_width": null,
            "object_fit": null,
            "object_position": null,
            "order": null,
            "overflow": null,
            "overflow_x": null,
            "overflow_y": null,
            "padding": null,
            "right": null,
            "top": null,
            "visibility": null,
            "width": null
          }
        },
        "69f1f21059b348c88cebe5a1017cf358": {
          "model_module": "@jupyter-widgets/base",
          "model_name": "LayoutModel",
          "model_module_version": "1.2.0",
          "state": {
            "_model_module": "@jupyter-widgets/base",
            "_model_module_version": "1.2.0",
            "_model_name": "LayoutModel",
            "_view_count": null,
            "_view_module": "@jupyter-widgets/base",
            "_view_module_version": "1.2.0",
            "_view_name": "LayoutView",
            "align_content": null,
            "align_items": null,
            "align_self": null,
            "border": null,
            "bottom": null,
            "display": null,
            "flex": null,
            "flex_flow": null,
            "grid_area": null,
            "grid_auto_columns": null,
            "grid_auto_flow": null,
            "grid_auto_rows": null,
            "grid_column": null,
            "grid_gap": null,
            "grid_row": null,
            "grid_template_areas": null,
            "grid_template_columns": null,
            "grid_template_rows": null,
            "height": null,
            "justify_content": null,
            "justify_items": null,
            "left": null,
            "margin": null,
            "max_height": null,
            "max_width": null,
            "min_height": null,
            "min_width": null,
            "object_fit": null,
            "object_position": null,
            "order": null,
            "overflow": null,
            "overflow_x": null,
            "overflow_y": null,
            "padding": null,
            "right": null,
            "top": null,
            "visibility": null,
            "width": null
          }
        },
        "151820d64aa942a8a6a421faac162c53": {
          "model_module": "@jupyter-widgets/controls",
          "model_name": "DescriptionStyleModel",
          "model_module_version": "1.5.0",
          "state": {
            "_model_module": "@jupyter-widgets/controls",
            "_model_module_version": "1.5.0",
            "_model_name": "DescriptionStyleModel",
            "_view_count": null,
            "_view_module": "@jupyter-widgets/base",
            "_view_module_version": "1.2.0",
            "_view_name": "StyleView",
            "description_width": ""
          }
        },
        "e3b7e87f39304096bd42a7ddd87de22d": {
          "model_module": "@jupyter-widgets/base",
          "model_name": "LayoutModel",
          "model_module_version": "1.2.0",
          "state": {
            "_model_module": "@jupyter-widgets/base",
            "_model_module_version": "1.2.0",
            "_model_name": "LayoutModel",
            "_view_count": null,
            "_view_module": "@jupyter-widgets/base",
            "_view_module_version": "1.2.0",
            "_view_name": "LayoutView",
            "align_content": null,
            "align_items": null,
            "align_self": null,
            "border": null,
            "bottom": null,
            "display": null,
            "flex": null,
            "flex_flow": null,
            "grid_area": null,
            "grid_auto_columns": null,
            "grid_auto_flow": null,
            "grid_auto_rows": null,
            "grid_column": null,
            "grid_gap": null,
            "grid_row": null,
            "grid_template_areas": null,
            "grid_template_columns": null,
            "grid_template_rows": null,
            "height": null,
            "justify_content": null,
            "justify_items": null,
            "left": null,
            "margin": null,
            "max_height": null,
            "max_width": null,
            "min_height": null,
            "min_width": null,
            "object_fit": null,
            "object_position": null,
            "order": null,
            "overflow": null,
            "overflow_x": null,
            "overflow_y": null,
            "padding": null,
            "right": null,
            "top": null,
            "visibility": null,
            "width": null
          }
        },
        "e99eace19f134aedb41f530f5e395cae": {
          "model_module": "@jupyter-widgets/controls",
          "model_name": "ProgressStyleModel",
          "model_module_version": "1.5.0",
          "state": {
            "_model_module": "@jupyter-widgets/controls",
            "_model_module_version": "1.5.0",
            "_model_name": "ProgressStyleModel",
            "_view_count": null,
            "_view_module": "@jupyter-widgets/base",
            "_view_module_version": "1.2.0",
            "_view_name": "StyleView",
            "bar_color": null,
            "description_width": ""
          }
        },
        "9e5f775c3a374c189f67bf4147238bae": {
          "model_module": "@jupyter-widgets/base",
          "model_name": "LayoutModel",
          "model_module_version": "1.2.0",
          "state": {
            "_model_module": "@jupyter-widgets/base",
            "_model_module_version": "1.2.0",
            "_model_name": "LayoutModel",
            "_view_count": null,
            "_view_module": "@jupyter-widgets/base",
            "_view_module_version": "1.2.0",
            "_view_name": "LayoutView",
            "align_content": null,
            "align_items": null,
            "align_self": null,
            "border": null,
            "bottom": null,
            "display": null,
            "flex": null,
            "flex_flow": null,
            "grid_area": null,
            "grid_auto_columns": null,
            "grid_auto_flow": null,
            "grid_auto_rows": null,
            "grid_column": null,
            "grid_gap": null,
            "grid_row": null,
            "grid_template_areas": null,
            "grid_template_columns": null,
            "grid_template_rows": null,
            "height": null,
            "justify_content": null,
            "justify_items": null,
            "left": null,
            "margin": null,
            "max_height": null,
            "max_width": null,
            "min_height": null,
            "min_width": null,
            "object_fit": null,
            "object_position": null,
            "order": null,
            "overflow": null,
            "overflow_x": null,
            "overflow_y": null,
            "padding": null,
            "right": null,
            "top": null,
            "visibility": null,
            "width": null
          }
        },
        "8ccd4f30453a441c95ef9776ffec277d": {
          "model_module": "@jupyter-widgets/controls",
          "model_name": "DescriptionStyleModel",
          "model_module_version": "1.5.0",
          "state": {
            "_model_module": "@jupyter-widgets/controls",
            "_model_module_version": "1.5.0",
            "_model_name": "DescriptionStyleModel",
            "_view_count": null,
            "_view_module": "@jupyter-widgets/base",
            "_view_module_version": "1.2.0",
            "_view_name": "StyleView",
            "description_width": ""
          }
        },
        "dbfdc4d640d3437ea9668108bafed09b": {
          "model_module": "@jupyter-widgets/controls",
          "model_name": "HBoxModel",
          "model_module_version": "1.5.0",
          "state": {
            "_dom_classes": [],
            "_model_module": "@jupyter-widgets/controls",
            "_model_module_version": "1.5.0",
            "_model_name": "HBoxModel",
            "_view_count": null,
            "_view_module": "@jupyter-widgets/controls",
            "_view_module_version": "1.5.0",
            "_view_name": "HBoxView",
            "box_style": "",
            "children": [
              "IPY_MODEL_9c51618cef81494a88a8a9f03c08026a",
              "IPY_MODEL_e154fca7cb044f6fa1f13cc8cb9d0b4c",
              "IPY_MODEL_d352747620de4ec582f0f4d11b4a76b2"
            ],
            "layout": "IPY_MODEL_8356f155607b40b68115a56955810c21"
          }
        },
        "9c51618cef81494a88a8a9f03c08026a": {
          "model_module": "@jupyter-widgets/controls",
          "model_name": "HTMLModel",
          "model_module_version": "1.5.0",
          "state": {
            "_dom_classes": [],
            "_model_module": "@jupyter-widgets/controls",
            "_model_module_version": "1.5.0",
            "_model_name": "HTMLModel",
            "_view_count": null,
            "_view_module": "@jupyter-widgets/controls",
            "_view_module_version": "1.5.0",
            "_view_name": "HTMLView",
            "description": "",
            "description_tooltip": null,
            "layout": "IPY_MODEL_4e207d7b32bb41f88ebdab81c5d6ab35",
            "placeholder": "​",
            "style": "IPY_MODEL_73fa51433b244621a08aec630ec9a3cf",
            "value": "modules.json: 100%"
          }
        },
        "e154fca7cb044f6fa1f13cc8cb9d0b4c": {
          "model_module": "@jupyter-widgets/controls",
          "model_name": "FloatProgressModel",
          "model_module_version": "1.5.0",
          "state": {
            "_dom_classes": [],
            "_model_module": "@jupyter-widgets/controls",
            "_model_module_version": "1.5.0",
            "_model_name": "FloatProgressModel",
            "_view_count": null,
            "_view_module": "@jupyter-widgets/controls",
            "_view_module_version": "1.5.0",
            "_view_name": "ProgressView",
            "bar_style": "success",
            "description": "",
            "description_tooltip": null,
            "layout": "IPY_MODEL_267a1893f8ca4cf8928bb45ebdf161c4",
            "max": 385,
            "min": 0,
            "orientation": "horizontal",
            "style": "IPY_MODEL_5eb734a39734459f832d478e750b5c6b",
            "value": 385
          }
        },
        "d352747620de4ec582f0f4d11b4a76b2": {
          "model_module": "@jupyter-widgets/controls",
          "model_name": "HTMLModel",
          "model_module_version": "1.5.0",
          "state": {
            "_dom_classes": [],
            "_model_module": "@jupyter-widgets/controls",
            "_model_module_version": "1.5.0",
            "_model_name": "HTMLModel",
            "_view_count": null,
            "_view_module": "@jupyter-widgets/controls",
            "_view_module_version": "1.5.0",
            "_view_name": "HTMLView",
            "description": "",
            "description_tooltip": null,
            "layout": "IPY_MODEL_5c28ee1c50a643958175300511108dd5",
            "placeholder": "​",
            "style": "IPY_MODEL_e357ad44623e43efa895688d6c0d4fe2",
            "value": " 385/385 [00:00&lt;00:00, 50.5kB/s]"
          }
        },
        "8356f155607b40b68115a56955810c21": {
          "model_module": "@jupyter-widgets/base",
          "model_name": "LayoutModel",
          "model_module_version": "1.2.0",
          "state": {
            "_model_module": "@jupyter-widgets/base",
            "_model_module_version": "1.2.0",
            "_model_name": "LayoutModel",
            "_view_count": null,
            "_view_module": "@jupyter-widgets/base",
            "_view_module_version": "1.2.0",
            "_view_name": "LayoutView",
            "align_content": null,
            "align_items": null,
            "align_self": null,
            "border": null,
            "bottom": null,
            "display": null,
            "flex": null,
            "flex_flow": null,
            "grid_area": null,
            "grid_auto_columns": null,
            "grid_auto_flow": null,
            "grid_auto_rows": null,
            "grid_column": null,
            "grid_gap": null,
            "grid_row": null,
            "grid_template_areas": null,
            "grid_template_columns": null,
            "grid_template_rows": null,
            "height": null,
            "justify_content": null,
            "justify_items": null,
            "left": null,
            "margin": null,
            "max_height": null,
            "max_width": null,
            "min_height": null,
            "min_width": null,
            "object_fit": null,
            "object_position": null,
            "order": null,
            "overflow": null,
            "overflow_x": null,
            "overflow_y": null,
            "padding": null,
            "right": null,
            "top": null,
            "visibility": null,
            "width": null
          }
        },
        "4e207d7b32bb41f88ebdab81c5d6ab35": {
          "model_module": "@jupyter-widgets/base",
          "model_name": "LayoutModel",
          "model_module_version": "1.2.0",
          "state": {
            "_model_module": "@jupyter-widgets/base",
            "_model_module_version": "1.2.0",
            "_model_name": "LayoutModel",
            "_view_count": null,
            "_view_module": "@jupyter-widgets/base",
            "_view_module_version": "1.2.0",
            "_view_name": "LayoutView",
            "align_content": null,
            "align_items": null,
            "align_self": null,
            "border": null,
            "bottom": null,
            "display": null,
            "flex": null,
            "flex_flow": null,
            "grid_area": null,
            "grid_auto_columns": null,
            "grid_auto_flow": null,
            "grid_auto_rows": null,
            "grid_column": null,
            "grid_gap": null,
            "grid_row": null,
            "grid_template_areas": null,
            "grid_template_columns": null,
            "grid_template_rows": null,
            "height": null,
            "justify_content": null,
            "justify_items": null,
            "left": null,
            "margin": null,
            "max_height": null,
            "max_width": null,
            "min_height": null,
            "min_width": null,
            "object_fit": null,
            "object_position": null,
            "order": null,
            "overflow": null,
            "overflow_x": null,
            "overflow_y": null,
            "padding": null,
            "right": null,
            "top": null,
            "visibility": null,
            "width": null
          }
        },
        "73fa51433b244621a08aec630ec9a3cf": {
          "model_module": "@jupyter-widgets/controls",
          "model_name": "DescriptionStyleModel",
          "model_module_version": "1.5.0",
          "state": {
            "_model_module": "@jupyter-widgets/controls",
            "_model_module_version": "1.5.0",
            "_model_name": "DescriptionStyleModel",
            "_view_count": null,
            "_view_module": "@jupyter-widgets/base",
            "_view_module_version": "1.2.0",
            "_view_name": "StyleView",
            "description_width": ""
          }
        },
        "267a1893f8ca4cf8928bb45ebdf161c4": {
          "model_module": "@jupyter-widgets/base",
          "model_name": "LayoutModel",
          "model_module_version": "1.2.0",
          "state": {
            "_model_module": "@jupyter-widgets/base",
            "_model_module_version": "1.2.0",
            "_model_name": "LayoutModel",
            "_view_count": null,
            "_view_module": "@jupyter-widgets/base",
            "_view_module_version": "1.2.0",
            "_view_name": "LayoutView",
            "align_content": null,
            "align_items": null,
            "align_self": null,
            "border": null,
            "bottom": null,
            "display": null,
            "flex": null,
            "flex_flow": null,
            "grid_area": null,
            "grid_auto_columns": null,
            "grid_auto_flow": null,
            "grid_auto_rows": null,
            "grid_column": null,
            "grid_gap": null,
            "grid_row": null,
            "grid_template_areas": null,
            "grid_template_columns": null,
            "grid_template_rows": null,
            "height": null,
            "justify_content": null,
            "justify_items": null,
            "left": null,
            "margin": null,
            "max_height": null,
            "max_width": null,
            "min_height": null,
            "min_width": null,
            "object_fit": null,
            "object_position": null,
            "order": null,
            "overflow": null,
            "overflow_x": null,
            "overflow_y": null,
            "padding": null,
            "right": null,
            "top": null,
            "visibility": null,
            "width": null
          }
        },
        "5eb734a39734459f832d478e750b5c6b": {
          "model_module": "@jupyter-widgets/controls",
          "model_name": "ProgressStyleModel",
          "model_module_version": "1.5.0",
          "state": {
            "_model_module": "@jupyter-widgets/controls",
            "_model_module_version": "1.5.0",
            "_model_name": "ProgressStyleModel",
            "_view_count": null,
            "_view_module": "@jupyter-widgets/base",
            "_view_module_version": "1.2.0",
            "_view_name": "StyleView",
            "bar_color": null,
            "description_width": ""
          }
        },
        "5c28ee1c50a643958175300511108dd5": {
          "model_module": "@jupyter-widgets/base",
          "model_name": "LayoutModel",
          "model_module_version": "1.2.0",
          "state": {
            "_model_module": "@jupyter-widgets/base",
            "_model_module_version": "1.2.0",
            "_model_name": "LayoutModel",
            "_view_count": null,
            "_view_module": "@jupyter-widgets/base",
            "_view_module_version": "1.2.0",
            "_view_name": "LayoutView",
            "align_content": null,
            "align_items": null,
            "align_self": null,
            "border": null,
            "bottom": null,
            "display": null,
            "flex": null,
            "flex_flow": null,
            "grid_area": null,
            "grid_auto_columns": null,
            "grid_auto_flow": null,
            "grid_auto_rows": null,
            "grid_column": null,
            "grid_gap": null,
            "grid_row": null,
            "grid_template_areas": null,
            "grid_template_columns": null,
            "grid_template_rows": null,
            "height": null,
            "justify_content": null,
            "justify_items": null,
            "left": null,
            "margin": null,
            "max_height": null,
            "max_width": null,
            "min_height": null,
            "min_width": null,
            "object_fit": null,
            "object_position": null,
            "order": null,
            "overflow": null,
            "overflow_x": null,
            "overflow_y": null,
            "padding": null,
            "right": null,
            "top": null,
            "visibility": null,
            "width": null
          }
        },
        "e357ad44623e43efa895688d6c0d4fe2": {
          "model_module": "@jupyter-widgets/controls",
          "model_name": "DescriptionStyleModel",
          "model_module_version": "1.5.0",
          "state": {
            "_model_module": "@jupyter-widgets/controls",
            "_model_module_version": "1.5.0",
            "_model_name": "DescriptionStyleModel",
            "_view_count": null,
            "_view_module": "@jupyter-widgets/base",
            "_view_module_version": "1.2.0",
            "_view_name": "StyleView",
            "description_width": ""
          }
        },
        "1180004b9e6644efb6dbb32573710f64": {
          "model_module": "@jupyter-widgets/controls",
          "model_name": "HBoxModel",
          "model_module_version": "1.5.0",
          "state": {
            "_dom_classes": [],
            "_model_module": "@jupyter-widgets/controls",
            "_model_module_version": "1.5.0",
            "_model_name": "HBoxModel",
            "_view_count": null,
            "_view_module": "@jupyter-widgets/controls",
            "_view_module_version": "1.5.0",
            "_view_name": "HBoxView",
            "box_style": "",
            "children": [
              "IPY_MODEL_e8d653e0a9984ce381fb9b9e58ebe0cc",
              "IPY_MODEL_4892df2c69224fdab97560276d79b078",
              "IPY_MODEL_a0295dd4d8e041769a2b194bbccfe4f8"
            ],
            "layout": "IPY_MODEL_afb8124b758a49f2adc7f83298dcd3bf"
          }
        },
        "e8d653e0a9984ce381fb9b9e58ebe0cc": {
          "model_module": "@jupyter-widgets/controls",
          "model_name": "HTMLModel",
          "model_module_version": "1.5.0",
          "state": {
            "_dom_classes": [],
            "_model_module": "@jupyter-widgets/controls",
            "_model_module_version": "1.5.0",
            "_model_name": "HTMLModel",
            "_view_count": null,
            "_view_module": "@jupyter-widgets/controls",
            "_view_module_version": "1.5.0",
            "_view_name": "HTMLView",
            "description": "",
            "description_tooltip": null,
            "layout": "IPY_MODEL_43b6227364774db9a5d71d7c4febe2d0",
            "placeholder": "​",
            "style": "IPY_MODEL_25d6807e36624cdf8266e7728d8867f9",
            "value": "README.md: 100%"
          }
        },
        "4892df2c69224fdab97560276d79b078": {
          "model_module": "@jupyter-widgets/controls",
          "model_name": "FloatProgressModel",
          "model_module_version": "1.5.0",
          "state": {
            "_dom_classes": [],
            "_model_module": "@jupyter-widgets/controls",
            "_model_module_version": "1.5.0",
            "_model_name": "FloatProgressModel",
            "_view_count": null,
            "_view_module": "@jupyter-widgets/controls",
            "_view_module_version": "1.5.0",
            "_view_name": "ProgressView",
            "bar_style": "success",
            "description": "",
            "description_tooltip": null,
            "layout": "IPY_MODEL_ac5abfd9a88640a79d1654417fcd80ae",
            "max": 68084,
            "min": 0,
            "orientation": "horizontal",
            "style": "IPY_MODEL_ee2adabf499843b48001def5d7f42201",
            "value": 68084
          }
        },
        "a0295dd4d8e041769a2b194bbccfe4f8": {
          "model_module": "@jupyter-widgets/controls",
          "model_name": "HTMLModel",
          "model_module_version": "1.5.0",
          "state": {
            "_dom_classes": [],
            "_model_module": "@jupyter-widgets/controls",
            "_model_module_version": "1.5.0",
            "_model_name": "HTMLModel",
            "_view_count": null,
            "_view_module": "@jupyter-widgets/controls",
            "_view_module_version": "1.5.0",
            "_view_name": "HTMLView",
            "description": "",
            "description_tooltip": null,
            "layout": "IPY_MODEL_2276e9f7d451471fbbe459d51e8da1e7",
            "placeholder": "​",
            "style": "IPY_MODEL_27d1453bf41e4259a3ddc0e0a20152c8",
            "value": " 68.1k/68.1k [00:00&lt;00:00, 3.03MB/s]"
          }
        },
        "afb8124b758a49f2adc7f83298dcd3bf": {
          "model_module": "@jupyter-widgets/base",
          "model_name": "LayoutModel",
          "model_module_version": "1.2.0",
          "state": {
            "_model_module": "@jupyter-widgets/base",
            "_model_module_version": "1.2.0",
            "_model_name": "LayoutModel",
            "_view_count": null,
            "_view_module": "@jupyter-widgets/base",
            "_view_module_version": "1.2.0",
            "_view_name": "LayoutView",
            "align_content": null,
            "align_items": null,
            "align_self": null,
            "border": null,
            "bottom": null,
            "display": null,
            "flex": null,
            "flex_flow": null,
            "grid_area": null,
            "grid_auto_columns": null,
            "grid_auto_flow": null,
            "grid_auto_rows": null,
            "grid_column": null,
            "grid_gap": null,
            "grid_row": null,
            "grid_template_areas": null,
            "grid_template_columns": null,
            "grid_template_rows": null,
            "height": null,
            "justify_content": null,
            "justify_items": null,
            "left": null,
            "margin": null,
            "max_height": null,
            "max_width": null,
            "min_height": null,
            "min_width": null,
            "object_fit": null,
            "object_position": null,
            "order": null,
            "overflow": null,
            "overflow_x": null,
            "overflow_y": null,
            "padding": null,
            "right": null,
            "top": null,
            "visibility": null,
            "width": null
          }
        },
        "43b6227364774db9a5d71d7c4febe2d0": {
          "model_module": "@jupyter-widgets/base",
          "model_name": "LayoutModel",
          "model_module_version": "1.2.0",
          "state": {
            "_model_module": "@jupyter-widgets/base",
            "_model_module_version": "1.2.0",
            "_model_name": "LayoutModel",
            "_view_count": null,
            "_view_module": "@jupyter-widgets/base",
            "_view_module_version": "1.2.0",
            "_view_name": "LayoutView",
            "align_content": null,
            "align_items": null,
            "align_self": null,
            "border": null,
            "bottom": null,
            "display": null,
            "flex": null,
            "flex_flow": null,
            "grid_area": null,
            "grid_auto_columns": null,
            "grid_auto_flow": null,
            "grid_auto_rows": null,
            "grid_column": null,
            "grid_gap": null,
            "grid_row": null,
            "grid_template_areas": null,
            "grid_template_columns": null,
            "grid_template_rows": null,
            "height": null,
            "justify_content": null,
            "justify_items": null,
            "left": null,
            "margin": null,
            "max_height": null,
            "max_width": null,
            "min_height": null,
            "min_width": null,
            "object_fit": null,
            "object_position": null,
            "order": null,
            "overflow": null,
            "overflow_x": null,
            "overflow_y": null,
            "padding": null,
            "right": null,
            "top": null,
            "visibility": null,
            "width": null
          }
        },
        "25d6807e36624cdf8266e7728d8867f9": {
          "model_module": "@jupyter-widgets/controls",
          "model_name": "DescriptionStyleModel",
          "model_module_version": "1.5.0",
          "state": {
            "_model_module": "@jupyter-widgets/controls",
            "_model_module_version": "1.5.0",
            "_model_name": "DescriptionStyleModel",
            "_view_count": null,
            "_view_module": "@jupyter-widgets/base",
            "_view_module_version": "1.2.0",
            "_view_name": "StyleView",
            "description_width": ""
          }
        },
        "ac5abfd9a88640a79d1654417fcd80ae": {
          "model_module": "@jupyter-widgets/base",
          "model_name": "LayoutModel",
          "model_module_version": "1.2.0",
          "state": {
            "_model_module": "@jupyter-widgets/base",
            "_model_module_version": "1.2.0",
            "_model_name": "LayoutModel",
            "_view_count": null,
            "_view_module": "@jupyter-widgets/base",
            "_view_module_version": "1.2.0",
            "_view_name": "LayoutView",
            "align_content": null,
            "align_items": null,
            "align_self": null,
            "border": null,
            "bottom": null,
            "display": null,
            "flex": null,
            "flex_flow": null,
            "grid_area": null,
            "grid_auto_columns": null,
            "grid_auto_flow": null,
            "grid_auto_rows": null,
            "grid_column": null,
            "grid_gap": null,
            "grid_row": null,
            "grid_template_areas": null,
            "grid_template_columns": null,
            "grid_template_rows": null,
            "height": null,
            "justify_content": null,
            "justify_items": null,
            "left": null,
            "margin": null,
            "max_height": null,
            "max_width": null,
            "min_height": null,
            "min_width": null,
            "object_fit": null,
            "object_position": null,
            "order": null,
            "overflow": null,
            "overflow_x": null,
            "overflow_y": null,
            "padding": null,
            "right": null,
            "top": null,
            "visibility": null,
            "width": null
          }
        },
        "ee2adabf499843b48001def5d7f42201": {
          "model_module": "@jupyter-widgets/controls",
          "model_name": "ProgressStyleModel",
          "model_module_version": "1.5.0",
          "state": {
            "_model_module": "@jupyter-widgets/controls",
            "_model_module_version": "1.5.0",
            "_model_name": "ProgressStyleModel",
            "_view_count": null,
            "_view_module": "@jupyter-widgets/base",
            "_view_module_version": "1.2.0",
            "_view_name": "StyleView",
            "bar_color": null,
            "description_width": ""
          }
        },
        "2276e9f7d451471fbbe459d51e8da1e7": {
          "model_module": "@jupyter-widgets/base",
          "model_name": "LayoutModel",
          "model_module_version": "1.2.0",
          "state": {
            "_model_module": "@jupyter-widgets/base",
            "_model_module_version": "1.2.0",
            "_model_name": "LayoutModel",
            "_view_count": null,
            "_view_module": "@jupyter-widgets/base",
            "_view_module_version": "1.2.0",
            "_view_name": "LayoutView",
            "align_content": null,
            "align_items": null,
            "align_self": null,
            "border": null,
            "bottom": null,
            "display": null,
            "flex": null,
            "flex_flow": null,
            "grid_area": null,
            "grid_auto_columns": null,
            "grid_auto_flow": null,
            "grid_auto_rows": null,
            "grid_column": null,
            "grid_gap": null,
            "grid_row": null,
            "grid_template_areas": null,
            "grid_template_columns": null,
            "grid_template_rows": null,
            "height": null,
            "justify_content": null,
            "justify_items": null,
            "left": null,
            "margin": null,
            "max_height": null,
            "max_width": null,
            "min_height": null,
            "min_width": null,
            "object_fit": null,
            "object_position": null,
            "order": null,
            "overflow": null,
            "overflow_x": null,
            "overflow_y": null,
            "padding": null,
            "right": null,
            "top": null,
            "visibility": null,
            "width": null
          }
        },
        "27d1453bf41e4259a3ddc0e0a20152c8": {
          "model_module": "@jupyter-widgets/controls",
          "model_name": "DescriptionStyleModel",
          "model_module_version": "1.5.0",
          "state": {
            "_model_module": "@jupyter-widgets/controls",
            "_model_module_version": "1.5.0",
            "_model_name": "DescriptionStyleModel",
            "_view_count": null,
            "_view_module": "@jupyter-widgets/base",
            "_view_module_version": "1.2.0",
            "_view_name": "StyleView",
            "description_width": ""
          }
        },
        "5726920d67214028b25db8fa691b0501": {
          "model_module": "@jupyter-widgets/controls",
          "model_name": "HBoxModel",
          "model_module_version": "1.5.0",
          "state": {
            "_dom_classes": [],
            "_model_module": "@jupyter-widgets/controls",
            "_model_module_version": "1.5.0",
            "_model_name": "HBoxModel",
            "_view_count": null,
            "_view_module": "@jupyter-widgets/controls",
            "_view_module_version": "1.5.0",
            "_view_name": "HBoxView",
            "box_style": "",
            "children": [
              "IPY_MODEL_f64f2c48b28a41bc92b43ca2956266de",
              "IPY_MODEL_d1e9dacc61674a1494dcfd12bb284d7f",
              "IPY_MODEL_ebdc5f335e6747b38a6ba6dde18ec472"
            ],
            "layout": "IPY_MODEL_e6ac9ef0aebe445ab649bca88de33392"
          }
        },
        "f64f2c48b28a41bc92b43ca2956266de": {
          "model_module": "@jupyter-widgets/controls",
          "model_name": "HTMLModel",
          "model_module_version": "1.5.0",
          "state": {
            "_dom_classes": [],
            "_model_module": "@jupyter-widgets/controls",
            "_model_module_version": "1.5.0",
            "_model_name": "HTMLModel",
            "_view_count": null,
            "_view_module": "@jupyter-widgets/controls",
            "_view_module_version": "1.5.0",
            "_view_name": "HTMLView",
            "description": "",
            "description_tooltip": null,
            "layout": "IPY_MODEL_7abf0eab0e2f43edb871e664360e0647",
            "placeholder": "​",
            "style": "IPY_MODEL_4e9cf7a9fb114908886ad5ae27c23a28",
            "value": "sentence_bert_config.json: 100%"
          }
        },
        "d1e9dacc61674a1494dcfd12bb284d7f": {
          "model_module": "@jupyter-widgets/controls",
          "model_name": "FloatProgressModel",
          "model_module_version": "1.5.0",
          "state": {
            "_dom_classes": [],
            "_model_module": "@jupyter-widgets/controls",
            "_model_module_version": "1.5.0",
            "_model_name": "FloatProgressModel",
            "_view_count": null,
            "_view_module": "@jupyter-widgets/controls",
            "_view_module_version": "1.5.0",
            "_view_name": "ProgressView",
            "bar_style": "success",
            "description": "",
            "description_tooltip": null,
            "layout": "IPY_MODEL_09e9341571064bbe9ae1646e8d8347d7",
            "max": 57,
            "min": 0,
            "orientation": "horizontal",
            "style": "IPY_MODEL_6de9ac44f9a24e36a955273a159b5b00",
            "value": 57
          }
        },
        "ebdc5f335e6747b38a6ba6dde18ec472": {
          "model_module": "@jupyter-widgets/controls",
          "model_name": "HTMLModel",
          "model_module_version": "1.5.0",
          "state": {
            "_dom_classes": [],
            "_model_module": "@jupyter-widgets/controls",
            "_model_module_version": "1.5.0",
            "_model_name": "HTMLModel",
            "_view_count": null,
            "_view_module": "@jupyter-widgets/controls",
            "_view_module_version": "1.5.0",
            "_view_name": "HTMLView",
            "description": "",
            "description_tooltip": null,
            "layout": "IPY_MODEL_3265bab0cbf84ba195f44ff6ad0af3d8",
            "placeholder": "​",
            "style": "IPY_MODEL_54d6e3fb92964cf18ac1a81a6661662b",
            "value": " 57.0/57.0 [00:00&lt;00:00, 7.96kB/s]"
          }
        },
        "e6ac9ef0aebe445ab649bca88de33392": {
          "model_module": "@jupyter-widgets/base",
          "model_name": "LayoutModel",
          "model_module_version": "1.2.0",
          "state": {
            "_model_module": "@jupyter-widgets/base",
            "_model_module_version": "1.2.0",
            "_model_name": "LayoutModel",
            "_view_count": null,
            "_view_module": "@jupyter-widgets/base",
            "_view_module_version": "1.2.0",
            "_view_name": "LayoutView",
            "align_content": null,
            "align_items": null,
            "align_self": null,
            "border": null,
            "bottom": null,
            "display": null,
            "flex": null,
            "flex_flow": null,
            "grid_area": null,
            "grid_auto_columns": null,
            "grid_auto_flow": null,
            "grid_auto_rows": null,
            "grid_column": null,
            "grid_gap": null,
            "grid_row": null,
            "grid_template_areas": null,
            "grid_template_columns": null,
            "grid_template_rows": null,
            "height": null,
            "justify_content": null,
            "justify_items": null,
            "left": null,
            "margin": null,
            "max_height": null,
            "max_width": null,
            "min_height": null,
            "min_width": null,
            "object_fit": null,
            "object_position": null,
            "order": null,
            "overflow": null,
            "overflow_x": null,
            "overflow_y": null,
            "padding": null,
            "right": null,
            "top": null,
            "visibility": null,
            "width": null
          }
        },
        "7abf0eab0e2f43edb871e664360e0647": {
          "model_module": "@jupyter-widgets/base",
          "model_name": "LayoutModel",
          "model_module_version": "1.2.0",
          "state": {
            "_model_module": "@jupyter-widgets/base",
            "_model_module_version": "1.2.0",
            "_model_name": "LayoutModel",
            "_view_count": null,
            "_view_module": "@jupyter-widgets/base",
            "_view_module_version": "1.2.0",
            "_view_name": "LayoutView",
            "align_content": null,
            "align_items": null,
            "align_self": null,
            "border": null,
            "bottom": null,
            "display": null,
            "flex": null,
            "flex_flow": null,
            "grid_area": null,
            "grid_auto_columns": null,
            "grid_auto_flow": null,
            "grid_auto_rows": null,
            "grid_column": null,
            "grid_gap": null,
            "grid_row": null,
            "grid_template_areas": null,
            "grid_template_columns": null,
            "grid_template_rows": null,
            "height": null,
            "justify_content": null,
            "justify_items": null,
            "left": null,
            "margin": null,
            "max_height": null,
            "max_width": null,
            "min_height": null,
            "min_width": null,
            "object_fit": null,
            "object_position": null,
            "order": null,
            "overflow": null,
            "overflow_x": null,
            "overflow_y": null,
            "padding": null,
            "right": null,
            "top": null,
            "visibility": null,
            "width": null
          }
        },
        "4e9cf7a9fb114908886ad5ae27c23a28": {
          "model_module": "@jupyter-widgets/controls",
          "model_name": "DescriptionStyleModel",
          "model_module_version": "1.5.0",
          "state": {
            "_model_module": "@jupyter-widgets/controls",
            "_model_module_version": "1.5.0",
            "_model_name": "DescriptionStyleModel",
            "_view_count": null,
            "_view_module": "@jupyter-widgets/base",
            "_view_module_version": "1.2.0",
            "_view_name": "StyleView",
            "description_width": ""
          }
        },
        "09e9341571064bbe9ae1646e8d8347d7": {
          "model_module": "@jupyter-widgets/base",
          "model_name": "LayoutModel",
          "model_module_version": "1.2.0",
          "state": {
            "_model_module": "@jupyter-widgets/base",
            "_model_module_version": "1.2.0",
            "_model_name": "LayoutModel",
            "_view_count": null,
            "_view_module": "@jupyter-widgets/base",
            "_view_module_version": "1.2.0",
            "_view_name": "LayoutView",
            "align_content": null,
            "align_items": null,
            "align_self": null,
            "border": null,
            "bottom": null,
            "display": null,
            "flex": null,
            "flex_flow": null,
            "grid_area": null,
            "grid_auto_columns": null,
            "grid_auto_flow": null,
            "grid_auto_rows": null,
            "grid_column": null,
            "grid_gap": null,
            "grid_row": null,
            "grid_template_areas": null,
            "grid_template_columns": null,
            "grid_template_rows": null,
            "height": null,
            "justify_content": null,
            "justify_items": null,
            "left": null,
            "margin": null,
            "max_height": null,
            "max_width": null,
            "min_height": null,
            "min_width": null,
            "object_fit": null,
            "object_position": null,
            "order": null,
            "overflow": null,
            "overflow_x": null,
            "overflow_y": null,
            "padding": null,
            "right": null,
            "top": null,
            "visibility": null,
            "width": null
          }
        },
        "6de9ac44f9a24e36a955273a159b5b00": {
          "model_module": "@jupyter-widgets/controls",
          "model_name": "ProgressStyleModel",
          "model_module_version": "1.5.0",
          "state": {
            "_model_module": "@jupyter-widgets/controls",
            "_model_module_version": "1.5.0",
            "_model_name": "ProgressStyleModel",
            "_view_count": null,
            "_view_module": "@jupyter-widgets/base",
            "_view_module_version": "1.2.0",
            "_view_name": "StyleView",
            "bar_color": null,
            "description_width": ""
          }
        },
        "3265bab0cbf84ba195f44ff6ad0af3d8": {
          "model_module": "@jupyter-widgets/base",
          "model_name": "LayoutModel",
          "model_module_version": "1.2.0",
          "state": {
            "_model_module": "@jupyter-widgets/base",
            "_model_module_version": "1.2.0",
            "_model_name": "LayoutModel",
            "_view_count": null,
            "_view_module": "@jupyter-widgets/base",
            "_view_module_version": "1.2.0",
            "_view_name": "LayoutView",
            "align_content": null,
            "align_items": null,
            "align_self": null,
            "border": null,
            "bottom": null,
            "display": null,
            "flex": null,
            "flex_flow": null,
            "grid_area": null,
            "grid_auto_columns": null,
            "grid_auto_flow": null,
            "grid_auto_rows": null,
            "grid_column": null,
            "grid_gap": null,
            "grid_row": null,
            "grid_template_areas": null,
            "grid_template_columns": null,
            "grid_template_rows": null,
            "height": null,
            "justify_content": null,
            "justify_items": null,
            "left": null,
            "margin": null,
            "max_height": null,
            "max_width": null,
            "min_height": null,
            "min_width": null,
            "object_fit": null,
            "object_position": null,
            "order": null,
            "overflow": null,
            "overflow_x": null,
            "overflow_y": null,
            "padding": null,
            "right": null,
            "top": null,
            "visibility": null,
            "width": null
          }
        },
        "54d6e3fb92964cf18ac1a81a6661662b": {
          "model_module": "@jupyter-widgets/controls",
          "model_name": "DescriptionStyleModel",
          "model_module_version": "1.5.0",
          "state": {
            "_model_module": "@jupyter-widgets/controls",
            "_model_module_version": "1.5.0",
            "_model_name": "DescriptionStyleModel",
            "_view_count": null,
            "_view_module": "@jupyter-widgets/base",
            "_view_module_version": "1.2.0",
            "_view_name": "StyleView",
            "description_width": ""
          }
        },
        "7dfe9ed59d5e4be78903ae06df3b95d3": {
          "model_module": "@jupyter-widgets/controls",
          "model_name": "HBoxModel",
          "model_module_version": "1.5.0",
          "state": {
            "_dom_classes": [],
            "_model_module": "@jupyter-widgets/controls",
            "_model_module_version": "1.5.0",
            "_model_name": "HBoxModel",
            "_view_count": null,
            "_view_module": "@jupyter-widgets/controls",
            "_view_module_version": "1.5.0",
            "_view_name": "HBoxView",
            "box_style": "",
            "children": [
              "IPY_MODEL_cf889b57767d44baa2b146a2d66e4720",
              "IPY_MODEL_6ea0f859e49748c8a3b97380f609d572",
              "IPY_MODEL_914bdb91b0314b13a258e0887700177c"
            ],
            "layout": "IPY_MODEL_40a40f30890b4040831a98d3ccb33321"
          }
        },
        "cf889b57767d44baa2b146a2d66e4720": {
          "model_module": "@jupyter-widgets/controls",
          "model_name": "HTMLModel",
          "model_module_version": "1.5.0",
          "state": {
            "_dom_classes": [],
            "_model_module": "@jupyter-widgets/controls",
            "_model_module_version": "1.5.0",
            "_model_name": "HTMLModel",
            "_view_count": null,
            "_view_module": "@jupyter-widgets/controls",
            "_view_module_version": "1.5.0",
            "_view_name": "HTMLView",
            "description": "",
            "description_tooltip": null,
            "layout": "IPY_MODEL_f45f0ac20765454ba3d251924c9aa1f1",
            "placeholder": "​",
            "style": "IPY_MODEL_b4b1ee8ea9e2489c89073f66680f99a6",
            "value": "config.json: 100%"
          }
        },
        "6ea0f859e49748c8a3b97380f609d572": {
          "model_module": "@jupyter-widgets/controls",
          "model_name": "FloatProgressModel",
          "model_module_version": "1.5.0",
          "state": {
            "_dom_classes": [],
            "_model_module": "@jupyter-widgets/controls",
            "_model_module_version": "1.5.0",
            "_model_name": "FloatProgressModel",
            "_view_count": null,
            "_view_module": "@jupyter-widgets/controls",
            "_view_module_version": "1.5.0",
            "_view_name": "ProgressView",
            "bar_style": "success",
            "description": "",
            "description_tooltip": null,
            "layout": "IPY_MODEL_f12535ca79234b47a69118db6944ab95",
            "max": 583,
            "min": 0,
            "orientation": "horizontal",
            "style": "IPY_MODEL_3d56984c7d474c2d920842359172417f",
            "value": 583
          }
        },
        "914bdb91b0314b13a258e0887700177c": {
          "model_module": "@jupyter-widgets/controls",
          "model_name": "HTMLModel",
          "model_module_version": "1.5.0",
          "state": {
            "_dom_classes": [],
            "_model_module": "@jupyter-widgets/controls",
            "_model_module_version": "1.5.0",
            "_model_name": "HTMLModel",
            "_view_count": null,
            "_view_module": "@jupyter-widgets/controls",
            "_view_module_version": "1.5.0",
            "_view_name": "HTMLView",
            "description": "",
            "description_tooltip": null,
            "layout": "IPY_MODEL_40c40eef24ad459a98502f5095bbb9ca",
            "placeholder": "​",
            "style": "IPY_MODEL_dcd0b2b935df47258b017f1955d2a67d",
            "value": " 583/583 [00:00&lt;00:00, 81.1kB/s]"
          }
        },
        "40a40f30890b4040831a98d3ccb33321": {
          "model_module": "@jupyter-widgets/base",
          "model_name": "LayoutModel",
          "model_module_version": "1.2.0",
          "state": {
            "_model_module": "@jupyter-widgets/base",
            "_model_module_version": "1.2.0",
            "_model_name": "LayoutModel",
            "_view_count": null,
            "_view_module": "@jupyter-widgets/base",
            "_view_module_version": "1.2.0",
            "_view_name": "LayoutView",
            "align_content": null,
            "align_items": null,
            "align_self": null,
            "border": null,
            "bottom": null,
            "display": null,
            "flex": null,
            "flex_flow": null,
            "grid_area": null,
            "grid_auto_columns": null,
            "grid_auto_flow": null,
            "grid_auto_rows": null,
            "grid_column": null,
            "grid_gap": null,
            "grid_row": null,
            "grid_template_areas": null,
            "grid_template_columns": null,
            "grid_template_rows": null,
            "height": null,
            "justify_content": null,
            "justify_items": null,
            "left": null,
            "margin": null,
            "max_height": null,
            "max_width": null,
            "min_height": null,
            "min_width": null,
            "object_fit": null,
            "object_position": null,
            "order": null,
            "overflow": null,
            "overflow_x": null,
            "overflow_y": null,
            "padding": null,
            "right": null,
            "top": null,
            "visibility": null,
            "width": null
          }
        },
        "f45f0ac20765454ba3d251924c9aa1f1": {
          "model_module": "@jupyter-widgets/base",
          "model_name": "LayoutModel",
          "model_module_version": "1.2.0",
          "state": {
            "_model_module": "@jupyter-widgets/base",
            "_model_module_version": "1.2.0",
            "_model_name": "LayoutModel",
            "_view_count": null,
            "_view_module": "@jupyter-widgets/base",
            "_view_module_version": "1.2.0",
            "_view_name": "LayoutView",
            "align_content": null,
            "align_items": null,
            "align_self": null,
            "border": null,
            "bottom": null,
            "display": null,
            "flex": null,
            "flex_flow": null,
            "grid_area": null,
            "grid_auto_columns": null,
            "grid_auto_flow": null,
            "grid_auto_rows": null,
            "grid_column": null,
            "grid_gap": null,
            "grid_row": null,
            "grid_template_areas": null,
            "grid_template_columns": null,
            "grid_template_rows": null,
            "height": null,
            "justify_content": null,
            "justify_items": null,
            "left": null,
            "margin": null,
            "max_height": null,
            "max_width": null,
            "min_height": null,
            "min_width": null,
            "object_fit": null,
            "object_position": null,
            "order": null,
            "overflow": null,
            "overflow_x": null,
            "overflow_y": null,
            "padding": null,
            "right": null,
            "top": null,
            "visibility": null,
            "width": null
          }
        },
        "b4b1ee8ea9e2489c89073f66680f99a6": {
          "model_module": "@jupyter-widgets/controls",
          "model_name": "DescriptionStyleModel",
          "model_module_version": "1.5.0",
          "state": {
            "_model_module": "@jupyter-widgets/controls",
            "_model_module_version": "1.5.0",
            "_model_name": "DescriptionStyleModel",
            "_view_count": null,
            "_view_module": "@jupyter-widgets/base",
            "_view_module_version": "1.2.0",
            "_view_name": "StyleView",
            "description_width": ""
          }
        },
        "f12535ca79234b47a69118db6944ab95": {
          "model_module": "@jupyter-widgets/base",
          "model_name": "LayoutModel",
          "model_module_version": "1.2.0",
          "state": {
            "_model_module": "@jupyter-widgets/base",
            "_model_module_version": "1.2.0",
            "_model_name": "LayoutModel",
            "_view_count": null,
            "_view_module": "@jupyter-widgets/base",
            "_view_module_version": "1.2.0",
            "_view_name": "LayoutView",
            "align_content": null,
            "align_items": null,
            "align_self": null,
            "border": null,
            "bottom": null,
            "display": null,
            "flex": null,
            "flex_flow": null,
            "grid_area": null,
            "grid_auto_columns": null,
            "grid_auto_flow": null,
            "grid_auto_rows": null,
            "grid_column": null,
            "grid_gap": null,
            "grid_row": null,
            "grid_template_areas": null,
            "grid_template_columns": null,
            "grid_template_rows": null,
            "height": null,
            "justify_content": null,
            "justify_items": null,
            "left": null,
            "margin": null,
            "max_height": null,
            "max_width": null,
            "min_height": null,
            "min_width": null,
            "object_fit": null,
            "object_position": null,
            "order": null,
            "overflow": null,
            "overflow_x": null,
            "overflow_y": null,
            "padding": null,
            "right": null,
            "top": null,
            "visibility": null,
            "width": null
          }
        },
        "3d56984c7d474c2d920842359172417f": {
          "model_module": "@jupyter-widgets/controls",
          "model_name": "ProgressStyleModel",
          "model_module_version": "1.5.0",
          "state": {
            "_model_module": "@jupyter-widgets/controls",
            "_model_module_version": "1.5.0",
            "_model_name": "ProgressStyleModel",
            "_view_count": null,
            "_view_module": "@jupyter-widgets/base",
            "_view_module_version": "1.2.0",
            "_view_name": "StyleView",
            "bar_color": null,
            "description_width": ""
          }
        },
        "40c40eef24ad459a98502f5095bbb9ca": {
          "model_module": "@jupyter-widgets/base",
          "model_name": "LayoutModel",
          "model_module_version": "1.2.0",
          "state": {
            "_model_module": "@jupyter-widgets/base",
            "_model_module_version": "1.2.0",
            "_model_name": "LayoutModel",
            "_view_count": null,
            "_view_module": "@jupyter-widgets/base",
            "_view_module_version": "1.2.0",
            "_view_name": "LayoutView",
            "align_content": null,
            "align_items": null,
            "align_self": null,
            "border": null,
            "bottom": null,
            "display": null,
            "flex": null,
            "flex_flow": null,
            "grid_area": null,
            "grid_auto_columns": null,
            "grid_auto_flow": null,
            "grid_auto_rows": null,
            "grid_column": null,
            "grid_gap": null,
            "grid_row": null,
            "grid_template_areas": null,
            "grid_template_columns": null,
            "grid_template_rows": null,
            "height": null,
            "justify_content": null,
            "justify_items": null,
            "left": null,
            "margin": null,
            "max_height": null,
            "max_width": null,
            "min_height": null,
            "min_width": null,
            "object_fit": null,
            "object_position": null,
            "order": null,
            "overflow": null,
            "overflow_x": null,
            "overflow_y": null,
            "padding": null,
            "right": null,
            "top": null,
            "visibility": null,
            "width": null
          }
        },
        "dcd0b2b935df47258b017f1955d2a67d": {
          "model_module": "@jupyter-widgets/controls",
          "model_name": "DescriptionStyleModel",
          "model_module_version": "1.5.0",
          "state": {
            "_model_module": "@jupyter-widgets/controls",
            "_model_module_version": "1.5.0",
            "_model_name": "DescriptionStyleModel",
            "_view_count": null,
            "_view_module": "@jupyter-widgets/base",
            "_view_module_version": "1.2.0",
            "_view_name": "StyleView",
            "description_width": ""
          }
        },
        "181f5b938c8c4dcabf98f746b44ca1b6": {
          "model_module": "@jupyter-widgets/controls",
          "model_name": "HBoxModel",
          "model_module_version": "1.5.0",
          "state": {
            "_dom_classes": [],
            "_model_module": "@jupyter-widgets/controls",
            "_model_module_version": "1.5.0",
            "_model_name": "HBoxModel",
            "_view_count": null,
            "_view_module": "@jupyter-widgets/controls",
            "_view_module_version": "1.5.0",
            "_view_name": "HBoxView",
            "box_style": "",
            "children": [
              "IPY_MODEL_89eb55ef1f9f4fdbbbddfae680a0ddd7",
              "IPY_MODEL_ecaa761914d64540920867363b219120",
              "IPY_MODEL_cf49ab3d4cd64b2c9f13ed296b3d6e52"
            ],
            "layout": "IPY_MODEL_b4bf706dd00a49e6a6c6934177961e77"
          }
        },
        "89eb55ef1f9f4fdbbbddfae680a0ddd7": {
          "model_module": "@jupyter-widgets/controls",
          "model_name": "HTMLModel",
          "model_module_version": "1.5.0",
          "state": {
            "_dom_classes": [],
            "_model_module": "@jupyter-widgets/controls",
            "_model_module_version": "1.5.0",
            "_model_name": "HTMLModel",
            "_view_count": null,
            "_view_module": "@jupyter-widgets/controls",
            "_view_module_version": "1.5.0",
            "_view_name": "HTMLView",
            "description": "",
            "description_tooltip": null,
            "layout": "IPY_MODEL_d1d3cc841a1e42bfa348017a83d45430",
            "placeholder": "​",
            "style": "IPY_MODEL_016b7367d8624a86b06552e7dd17870e",
            "value": "model.safetensors: 100%"
          }
        },
        "ecaa761914d64540920867363b219120": {
          "model_module": "@jupyter-widgets/controls",
          "model_name": "FloatProgressModel",
          "model_module_version": "1.5.0",
          "state": {
            "_dom_classes": [],
            "_model_module": "@jupyter-widgets/controls",
            "_model_module_version": "1.5.0",
            "_model_name": "FloatProgressModel",
            "_view_count": null,
            "_view_module": "@jupyter-widgets/controls",
            "_view_module_version": "1.5.0",
            "_view_name": "ProgressView",
            "bar_style": "success",
            "description": "",
            "description_tooltip": null,
            "layout": "IPY_MODEL_170d3f51ac5c4bcf887991791fb199f0",
            "max": 66746168,
            "min": 0,
            "orientation": "horizontal",
            "style": "IPY_MODEL_07ca81eaeffb432db8929503488f7e0a",
            "value": 66746168
          }
        },
        "cf49ab3d4cd64b2c9f13ed296b3d6e52": {
          "model_module": "@jupyter-widgets/controls",
          "model_name": "HTMLModel",
          "model_module_version": "1.5.0",
          "state": {
            "_dom_classes": [],
            "_model_module": "@jupyter-widgets/controls",
            "_model_module_version": "1.5.0",
            "_model_name": "HTMLModel",
            "_view_count": null,
            "_view_module": "@jupyter-widgets/controls",
            "_view_module_version": "1.5.0",
            "_view_name": "HTMLView",
            "description": "",
            "description_tooltip": null,
            "layout": "IPY_MODEL_a94a2d87fb124ee9ac3878dc47769e61",
            "placeholder": "​",
            "style": "IPY_MODEL_c810cab595064ff397699eb7ad8eeeed",
            "value": " 66.7M/66.7M [00:00&lt;00:00, 201MB/s]"
          }
        },
        "b4bf706dd00a49e6a6c6934177961e77": {
          "model_module": "@jupyter-widgets/base",
          "model_name": "LayoutModel",
          "model_module_version": "1.2.0",
          "state": {
            "_model_module": "@jupyter-widgets/base",
            "_model_module_version": "1.2.0",
            "_model_name": "LayoutModel",
            "_view_count": null,
            "_view_module": "@jupyter-widgets/base",
            "_view_module_version": "1.2.0",
            "_view_name": "LayoutView",
            "align_content": null,
            "align_items": null,
            "align_self": null,
            "border": null,
            "bottom": null,
            "display": null,
            "flex": null,
            "flex_flow": null,
            "grid_area": null,
            "grid_auto_columns": null,
            "grid_auto_flow": null,
            "grid_auto_rows": null,
            "grid_column": null,
            "grid_gap": null,
            "grid_row": null,
            "grid_template_areas": null,
            "grid_template_columns": null,
            "grid_template_rows": null,
            "height": null,
            "justify_content": null,
            "justify_items": null,
            "left": null,
            "margin": null,
            "max_height": null,
            "max_width": null,
            "min_height": null,
            "min_width": null,
            "object_fit": null,
            "object_position": null,
            "order": null,
            "overflow": null,
            "overflow_x": null,
            "overflow_y": null,
            "padding": null,
            "right": null,
            "top": null,
            "visibility": null,
            "width": null
          }
        },
        "d1d3cc841a1e42bfa348017a83d45430": {
          "model_module": "@jupyter-widgets/base",
          "model_name": "LayoutModel",
          "model_module_version": "1.2.0",
          "state": {
            "_model_module": "@jupyter-widgets/base",
            "_model_module_version": "1.2.0",
            "_model_name": "LayoutModel",
            "_view_count": null,
            "_view_module": "@jupyter-widgets/base",
            "_view_module_version": "1.2.0",
            "_view_name": "LayoutView",
            "align_content": null,
            "align_items": null,
            "align_self": null,
            "border": null,
            "bottom": null,
            "display": null,
            "flex": null,
            "flex_flow": null,
            "grid_area": null,
            "grid_auto_columns": null,
            "grid_auto_flow": null,
            "grid_auto_rows": null,
            "grid_column": null,
            "grid_gap": null,
            "grid_row": null,
            "grid_template_areas": null,
            "grid_template_columns": null,
            "grid_template_rows": null,
            "height": null,
            "justify_content": null,
            "justify_items": null,
            "left": null,
            "margin": null,
            "max_height": null,
            "max_width": null,
            "min_height": null,
            "min_width": null,
            "object_fit": null,
            "object_position": null,
            "order": null,
            "overflow": null,
            "overflow_x": null,
            "overflow_y": null,
            "padding": null,
            "right": null,
            "top": null,
            "visibility": null,
            "width": null
          }
        },
        "016b7367d8624a86b06552e7dd17870e": {
          "model_module": "@jupyter-widgets/controls",
          "model_name": "DescriptionStyleModel",
          "model_module_version": "1.5.0",
          "state": {
            "_model_module": "@jupyter-widgets/controls",
            "_model_module_version": "1.5.0",
            "_model_name": "DescriptionStyleModel",
            "_view_count": null,
            "_view_module": "@jupyter-widgets/base",
            "_view_module_version": "1.2.0",
            "_view_name": "StyleView",
            "description_width": ""
          }
        },
        "170d3f51ac5c4bcf887991791fb199f0": {
          "model_module": "@jupyter-widgets/base",
          "model_name": "LayoutModel",
          "model_module_version": "1.2.0",
          "state": {
            "_model_module": "@jupyter-widgets/base",
            "_model_module_version": "1.2.0",
            "_model_name": "LayoutModel",
            "_view_count": null,
            "_view_module": "@jupyter-widgets/base",
            "_view_module_version": "1.2.0",
            "_view_name": "LayoutView",
            "align_content": null,
            "align_items": null,
            "align_self": null,
            "border": null,
            "bottom": null,
            "display": null,
            "flex": null,
            "flex_flow": null,
            "grid_area": null,
            "grid_auto_columns": null,
            "grid_auto_flow": null,
            "grid_auto_rows": null,
            "grid_column": null,
            "grid_gap": null,
            "grid_row": null,
            "grid_template_areas": null,
            "grid_template_columns": null,
            "grid_template_rows": null,
            "height": null,
            "justify_content": null,
            "justify_items": null,
            "left": null,
            "margin": null,
            "max_height": null,
            "max_width": null,
            "min_height": null,
            "min_width": null,
            "object_fit": null,
            "object_position": null,
            "order": null,
            "overflow": null,
            "overflow_x": null,
            "overflow_y": null,
            "padding": null,
            "right": null,
            "top": null,
            "visibility": null,
            "width": null
          }
        },
        "07ca81eaeffb432db8929503488f7e0a": {
          "model_module": "@jupyter-widgets/controls",
          "model_name": "ProgressStyleModel",
          "model_module_version": "1.5.0",
          "state": {
            "_model_module": "@jupyter-widgets/controls",
            "_model_module_version": "1.5.0",
            "_model_name": "ProgressStyleModel",
            "_view_count": null,
            "_view_module": "@jupyter-widgets/base",
            "_view_module_version": "1.2.0",
            "_view_name": "StyleView",
            "bar_color": null,
            "description_width": ""
          }
        },
        "a94a2d87fb124ee9ac3878dc47769e61": {
          "model_module": "@jupyter-widgets/base",
          "model_name": "LayoutModel",
          "model_module_version": "1.2.0",
          "state": {
            "_model_module": "@jupyter-widgets/base",
            "_model_module_version": "1.2.0",
            "_model_name": "LayoutModel",
            "_view_count": null,
            "_view_module": "@jupyter-widgets/base",
            "_view_module_version": "1.2.0",
            "_view_name": "LayoutView",
            "align_content": null,
            "align_items": null,
            "align_self": null,
            "border": null,
            "bottom": null,
            "display": null,
            "flex": null,
            "flex_flow": null,
            "grid_area": null,
            "grid_auto_columns": null,
            "grid_auto_flow": null,
            "grid_auto_rows": null,
            "grid_column": null,
            "grid_gap": null,
            "grid_row": null,
            "grid_template_areas": null,
            "grid_template_columns": null,
            "grid_template_rows": null,
            "height": null,
            "justify_content": null,
            "justify_items": null,
            "left": null,
            "margin": null,
            "max_height": null,
            "max_width": null,
            "min_height": null,
            "min_width": null,
            "object_fit": null,
            "object_position": null,
            "order": null,
            "overflow": null,
            "overflow_x": null,
            "overflow_y": null,
            "padding": null,
            "right": null,
            "top": null,
            "visibility": null,
            "width": null
          }
        },
        "c810cab595064ff397699eb7ad8eeeed": {
          "model_module": "@jupyter-widgets/controls",
          "model_name": "DescriptionStyleModel",
          "model_module_version": "1.5.0",
          "state": {
            "_model_module": "@jupyter-widgets/controls",
            "_model_module_version": "1.5.0",
            "_model_name": "DescriptionStyleModel",
            "_view_count": null,
            "_view_module": "@jupyter-widgets/base",
            "_view_module_version": "1.2.0",
            "_view_name": "StyleView",
            "description_width": ""
          }
        },
        "61d8089b91c44bf3bb9104860fd3818e": {
          "model_module": "@jupyter-widgets/controls",
          "model_name": "HBoxModel",
          "model_module_version": "1.5.0",
          "state": {
            "_dom_classes": [],
            "_model_module": "@jupyter-widgets/controls",
            "_model_module_version": "1.5.0",
            "_model_name": "HBoxModel",
            "_view_count": null,
            "_view_module": "@jupyter-widgets/controls",
            "_view_module_version": "1.5.0",
            "_view_name": "HBoxView",
            "box_style": "",
            "children": [
              "IPY_MODEL_0afb1df84f774c4bbee8b27f09de5f8f",
              "IPY_MODEL_f8b7487eee874c57b99128ef7156424a",
              "IPY_MODEL_889cc4b4af7e40dda9eb9b6b46d7beb2"
            ],
            "layout": "IPY_MODEL_0ea2d15f4c1b4e9e8d7782e82b540d5f"
          }
        },
        "0afb1df84f774c4bbee8b27f09de5f8f": {
          "model_module": "@jupyter-widgets/controls",
          "model_name": "HTMLModel",
          "model_module_version": "1.5.0",
          "state": {
            "_dom_classes": [],
            "_model_module": "@jupyter-widgets/controls",
            "_model_module_version": "1.5.0",
            "_model_name": "HTMLModel",
            "_view_count": null,
            "_view_module": "@jupyter-widgets/controls",
            "_view_module_version": "1.5.0",
            "_view_name": "HTMLView",
            "description": "",
            "description_tooltip": null,
            "layout": "IPY_MODEL_8db52ef526324c27badc57c22117c094",
            "placeholder": "​",
            "style": "IPY_MODEL_6b7c450f541141a8a314d6404fe997c3",
            "value": "tokenizer_config.json: 100%"
          }
        },
        "f8b7487eee874c57b99128ef7156424a": {
          "model_module": "@jupyter-widgets/controls",
          "model_name": "FloatProgressModel",
          "model_module_version": "1.5.0",
          "state": {
            "_dom_classes": [],
            "_model_module": "@jupyter-widgets/controls",
            "_model_module_version": "1.5.0",
            "_model_name": "FloatProgressModel",
            "_view_count": null,
            "_view_module": "@jupyter-widgets/controls",
            "_view_module_version": "1.5.0",
            "_view_name": "ProgressView",
            "bar_style": "success",
            "description": "",
            "description_tooltip": null,
            "layout": "IPY_MODEL_bc445071b9744822a723d3fa764487d5",
            "max": 394,
            "min": 0,
            "orientation": "horizontal",
            "style": "IPY_MODEL_4255b2b754964e688f6f44284c54a646",
            "value": 394
          }
        },
        "889cc4b4af7e40dda9eb9b6b46d7beb2": {
          "model_module": "@jupyter-widgets/controls",
          "model_name": "HTMLModel",
          "model_module_version": "1.5.0",
          "state": {
            "_dom_classes": [],
            "_model_module": "@jupyter-widgets/controls",
            "_model_module_version": "1.5.0",
            "_model_name": "HTMLModel",
            "_view_count": null,
            "_view_module": "@jupyter-widgets/controls",
            "_view_module_version": "1.5.0",
            "_view_name": "HTMLView",
            "description": "",
            "description_tooltip": null,
            "layout": "IPY_MODEL_ca44e3957f364d7e89b3a1dbe624eb2f",
            "placeholder": "​",
            "style": "IPY_MODEL_515b5b074ec9499392d2a6971099fa48",
            "value": " 394/394 [00:00&lt;00:00, 57.4kB/s]"
          }
        },
        "0ea2d15f4c1b4e9e8d7782e82b540d5f": {
          "model_module": "@jupyter-widgets/base",
          "model_name": "LayoutModel",
          "model_module_version": "1.2.0",
          "state": {
            "_model_module": "@jupyter-widgets/base",
            "_model_module_version": "1.2.0",
            "_model_name": "LayoutModel",
            "_view_count": null,
            "_view_module": "@jupyter-widgets/base",
            "_view_module_version": "1.2.0",
            "_view_name": "LayoutView",
            "align_content": null,
            "align_items": null,
            "align_self": null,
            "border": null,
            "bottom": null,
            "display": null,
            "flex": null,
            "flex_flow": null,
            "grid_area": null,
            "grid_auto_columns": null,
            "grid_auto_flow": null,
            "grid_auto_rows": null,
            "grid_column": null,
            "grid_gap": null,
            "grid_row": null,
            "grid_template_areas": null,
            "grid_template_columns": null,
            "grid_template_rows": null,
            "height": null,
            "justify_content": null,
            "justify_items": null,
            "left": null,
            "margin": null,
            "max_height": null,
            "max_width": null,
            "min_height": null,
            "min_width": null,
            "object_fit": null,
            "object_position": null,
            "order": null,
            "overflow": null,
            "overflow_x": null,
            "overflow_y": null,
            "padding": null,
            "right": null,
            "top": null,
            "visibility": null,
            "width": null
          }
        },
        "8db52ef526324c27badc57c22117c094": {
          "model_module": "@jupyter-widgets/base",
          "model_name": "LayoutModel",
          "model_module_version": "1.2.0",
          "state": {
            "_model_module": "@jupyter-widgets/base",
            "_model_module_version": "1.2.0",
            "_model_name": "LayoutModel",
            "_view_count": null,
            "_view_module": "@jupyter-widgets/base",
            "_view_module_version": "1.2.0",
            "_view_name": "LayoutView",
            "align_content": null,
            "align_items": null,
            "align_self": null,
            "border": null,
            "bottom": null,
            "display": null,
            "flex": null,
            "flex_flow": null,
            "grid_area": null,
            "grid_auto_columns": null,
            "grid_auto_flow": null,
            "grid_auto_rows": null,
            "grid_column": null,
            "grid_gap": null,
            "grid_row": null,
            "grid_template_areas": null,
            "grid_template_columns": null,
            "grid_template_rows": null,
            "height": null,
            "justify_content": null,
            "justify_items": null,
            "left": null,
            "margin": null,
            "max_height": null,
            "max_width": null,
            "min_height": null,
            "min_width": null,
            "object_fit": null,
            "object_position": null,
            "order": null,
            "overflow": null,
            "overflow_x": null,
            "overflow_y": null,
            "padding": null,
            "right": null,
            "top": null,
            "visibility": null,
            "width": null
          }
        },
        "6b7c450f541141a8a314d6404fe997c3": {
          "model_module": "@jupyter-widgets/controls",
          "model_name": "DescriptionStyleModel",
          "model_module_version": "1.5.0",
          "state": {
            "_model_module": "@jupyter-widgets/controls",
            "_model_module_version": "1.5.0",
            "_model_name": "DescriptionStyleModel",
            "_view_count": null,
            "_view_module": "@jupyter-widgets/base",
            "_view_module_version": "1.2.0",
            "_view_name": "StyleView",
            "description_width": ""
          }
        },
        "bc445071b9744822a723d3fa764487d5": {
          "model_module": "@jupyter-widgets/base",
          "model_name": "LayoutModel",
          "model_module_version": "1.2.0",
          "state": {
            "_model_module": "@jupyter-widgets/base",
            "_model_module_version": "1.2.0",
            "_model_name": "LayoutModel",
            "_view_count": null,
            "_view_module": "@jupyter-widgets/base",
            "_view_module_version": "1.2.0",
            "_view_name": "LayoutView",
            "align_content": null,
            "align_items": null,
            "align_self": null,
            "border": null,
            "bottom": null,
            "display": null,
            "flex": null,
            "flex_flow": null,
            "grid_area": null,
            "grid_auto_columns": null,
            "grid_auto_flow": null,
            "grid_auto_rows": null,
            "grid_column": null,
            "grid_gap": null,
            "grid_row": null,
            "grid_template_areas": null,
            "grid_template_columns": null,
            "grid_template_rows": null,
            "height": null,
            "justify_content": null,
            "justify_items": null,
            "left": null,
            "margin": null,
            "max_height": null,
            "max_width": null,
            "min_height": null,
            "min_width": null,
            "object_fit": null,
            "object_position": null,
            "order": null,
            "overflow": null,
            "overflow_x": null,
            "overflow_y": null,
            "padding": null,
            "right": null,
            "top": null,
            "visibility": null,
            "width": null
          }
        },
        "4255b2b754964e688f6f44284c54a646": {
          "model_module": "@jupyter-widgets/controls",
          "model_name": "ProgressStyleModel",
          "model_module_version": "1.5.0",
          "state": {
            "_model_module": "@jupyter-widgets/controls",
            "_model_module_version": "1.5.0",
            "_model_name": "ProgressStyleModel",
            "_view_count": null,
            "_view_module": "@jupyter-widgets/base",
            "_view_module_version": "1.2.0",
            "_view_name": "StyleView",
            "bar_color": null,
            "description_width": ""
          }
        },
        "ca44e3957f364d7e89b3a1dbe624eb2f": {
          "model_module": "@jupyter-widgets/base",
          "model_name": "LayoutModel",
          "model_module_version": "1.2.0",
          "state": {
            "_model_module": "@jupyter-widgets/base",
            "_model_module_version": "1.2.0",
            "_model_name": "LayoutModel",
            "_view_count": null,
            "_view_module": "@jupyter-widgets/base",
            "_view_module_version": "1.2.0",
            "_view_name": "LayoutView",
            "align_content": null,
            "align_items": null,
            "align_self": null,
            "border": null,
            "bottom": null,
            "display": null,
            "flex": null,
            "flex_flow": null,
            "grid_area": null,
            "grid_auto_columns": null,
            "grid_auto_flow": null,
            "grid_auto_rows": null,
            "grid_column": null,
            "grid_gap": null,
            "grid_row": null,
            "grid_template_areas": null,
            "grid_template_columns": null,
            "grid_template_rows": null,
            "height": null,
            "justify_content": null,
            "justify_items": null,
            "left": null,
            "margin": null,
            "max_height": null,
            "max_width": null,
            "min_height": null,
            "min_width": null,
            "object_fit": null,
            "object_position": null,
            "order": null,
            "overflow": null,
            "overflow_x": null,
            "overflow_y": null,
            "padding": null,
            "right": null,
            "top": null,
            "visibility": null,
            "width": null
          }
        },
        "515b5b074ec9499392d2a6971099fa48": {
          "model_module": "@jupyter-widgets/controls",
          "model_name": "DescriptionStyleModel",
          "model_module_version": "1.5.0",
          "state": {
            "_model_module": "@jupyter-widgets/controls",
            "_model_module_version": "1.5.0",
            "_model_name": "DescriptionStyleModel",
            "_view_count": null,
            "_view_module": "@jupyter-widgets/base",
            "_view_module_version": "1.2.0",
            "_view_name": "StyleView",
            "description_width": ""
          }
        },
        "67d36eee668742cb9d758fe04ead9b63": {
          "model_module": "@jupyter-widgets/controls",
          "model_name": "HBoxModel",
          "model_module_version": "1.5.0",
          "state": {
            "_dom_classes": [],
            "_model_module": "@jupyter-widgets/controls",
            "_model_module_version": "1.5.0",
            "_model_name": "HBoxModel",
            "_view_count": null,
            "_view_module": "@jupyter-widgets/controls",
            "_view_module_version": "1.5.0",
            "_view_name": "HBoxView",
            "box_style": "",
            "children": [
              "IPY_MODEL_6312453ed5b142fe9465f8c4470fb078",
              "IPY_MODEL_e139eb0db1654f3295ea13023d7fe83a",
              "IPY_MODEL_4e087010ae0c47bdba621b588b153060"
            ],
            "layout": "IPY_MODEL_86a440e4fef24a118b9ef95121d14ae9"
          }
        },
        "6312453ed5b142fe9465f8c4470fb078": {
          "model_module": "@jupyter-widgets/controls",
          "model_name": "HTMLModel",
          "model_module_version": "1.5.0",
          "state": {
            "_dom_classes": [],
            "_model_module": "@jupyter-widgets/controls",
            "_model_module_version": "1.5.0",
            "_model_name": "HTMLModel",
            "_view_count": null,
            "_view_module": "@jupyter-widgets/controls",
            "_view_module_version": "1.5.0",
            "_view_name": "HTMLView",
            "description": "",
            "description_tooltip": null,
            "layout": "IPY_MODEL_563fa258268b4b8cbc34a7a0962cab53",
            "placeholder": "​",
            "style": "IPY_MODEL_75e6726693b04485928b225f83204ba3",
            "value": "vocab.txt: 100%"
          }
        },
        "e139eb0db1654f3295ea13023d7fe83a": {
          "model_module": "@jupyter-widgets/controls",
          "model_name": "FloatProgressModel",
          "model_module_version": "1.5.0",
          "state": {
            "_dom_classes": [],
            "_model_module": "@jupyter-widgets/controls",
            "_model_module_version": "1.5.0",
            "_model_name": "FloatProgressModel",
            "_view_count": null,
            "_view_module": "@jupyter-widgets/controls",
            "_view_module_version": "1.5.0",
            "_view_name": "ProgressView",
            "bar_style": "success",
            "description": "",
            "description_tooltip": null,
            "layout": "IPY_MODEL_dca210c83c874d6d8e54b118d85a6e11",
            "max": 231508,
            "min": 0,
            "orientation": "horizontal",
            "style": "IPY_MODEL_7881b361f46b45e79b97a8b53e9c3d88",
            "value": 231508
          }
        },
        "4e087010ae0c47bdba621b588b153060": {
          "model_module": "@jupyter-widgets/controls",
          "model_name": "HTMLModel",
          "model_module_version": "1.5.0",
          "state": {
            "_dom_classes": [],
            "_model_module": "@jupyter-widgets/controls",
            "_model_module_version": "1.5.0",
            "_model_name": "HTMLModel",
            "_view_count": null,
            "_view_module": "@jupyter-widgets/controls",
            "_view_module_version": "1.5.0",
            "_view_name": "HTMLView",
            "description": "",
            "description_tooltip": null,
            "layout": "IPY_MODEL_3142124cc077464abc92447b9d58ce40",
            "placeholder": "​",
            "style": "IPY_MODEL_7bbe39fece594b9aa4bb9e08a6bc14e9",
            "value": " 232k/232k [00:00&lt;00:00, 8.94MB/s]"
          }
        },
        "86a440e4fef24a118b9ef95121d14ae9": {
          "model_module": "@jupyter-widgets/base",
          "model_name": "LayoutModel",
          "model_module_version": "1.2.0",
          "state": {
            "_model_module": "@jupyter-widgets/base",
            "_model_module_version": "1.2.0",
            "_model_name": "LayoutModel",
            "_view_count": null,
            "_view_module": "@jupyter-widgets/base",
            "_view_module_version": "1.2.0",
            "_view_name": "LayoutView",
            "align_content": null,
            "align_items": null,
            "align_self": null,
            "border": null,
            "bottom": null,
            "display": null,
            "flex": null,
            "flex_flow": null,
            "grid_area": null,
            "grid_auto_columns": null,
            "grid_auto_flow": null,
            "grid_auto_rows": null,
            "grid_column": null,
            "grid_gap": null,
            "grid_row": null,
            "grid_template_areas": null,
            "grid_template_columns": null,
            "grid_template_rows": null,
            "height": null,
            "justify_content": null,
            "justify_items": null,
            "left": null,
            "margin": null,
            "max_height": null,
            "max_width": null,
            "min_height": null,
            "min_width": null,
            "object_fit": null,
            "object_position": null,
            "order": null,
            "overflow": null,
            "overflow_x": null,
            "overflow_y": null,
            "padding": null,
            "right": null,
            "top": null,
            "visibility": null,
            "width": null
          }
        },
        "563fa258268b4b8cbc34a7a0962cab53": {
          "model_module": "@jupyter-widgets/base",
          "model_name": "LayoutModel",
          "model_module_version": "1.2.0",
          "state": {
            "_model_module": "@jupyter-widgets/base",
            "_model_module_version": "1.2.0",
            "_model_name": "LayoutModel",
            "_view_count": null,
            "_view_module": "@jupyter-widgets/base",
            "_view_module_version": "1.2.0",
            "_view_name": "LayoutView",
            "align_content": null,
            "align_items": null,
            "align_self": null,
            "border": null,
            "bottom": null,
            "display": null,
            "flex": null,
            "flex_flow": null,
            "grid_area": null,
            "grid_auto_columns": null,
            "grid_auto_flow": null,
            "grid_auto_rows": null,
            "grid_column": null,
            "grid_gap": null,
            "grid_row": null,
            "grid_template_areas": null,
            "grid_template_columns": null,
            "grid_template_rows": null,
            "height": null,
            "justify_content": null,
            "justify_items": null,
            "left": null,
            "margin": null,
            "max_height": null,
            "max_width": null,
            "min_height": null,
            "min_width": null,
            "object_fit": null,
            "object_position": null,
            "order": null,
            "overflow": null,
            "overflow_x": null,
            "overflow_y": null,
            "padding": null,
            "right": null,
            "top": null,
            "visibility": null,
            "width": null
          }
        },
        "75e6726693b04485928b225f83204ba3": {
          "model_module": "@jupyter-widgets/controls",
          "model_name": "DescriptionStyleModel",
          "model_module_version": "1.5.0",
          "state": {
            "_model_module": "@jupyter-widgets/controls",
            "_model_module_version": "1.5.0",
            "_model_name": "DescriptionStyleModel",
            "_view_count": null,
            "_view_module": "@jupyter-widgets/base",
            "_view_module_version": "1.2.0",
            "_view_name": "StyleView",
            "description_width": ""
          }
        },
        "dca210c83c874d6d8e54b118d85a6e11": {
          "model_module": "@jupyter-widgets/base",
          "model_name": "LayoutModel",
          "model_module_version": "1.2.0",
          "state": {
            "_model_module": "@jupyter-widgets/base",
            "_model_module_version": "1.2.0",
            "_model_name": "LayoutModel",
            "_view_count": null,
            "_view_module": "@jupyter-widgets/base",
            "_view_module_version": "1.2.0",
            "_view_name": "LayoutView",
            "align_content": null,
            "align_items": null,
            "align_self": null,
            "border": null,
            "bottom": null,
            "display": null,
            "flex": null,
            "flex_flow": null,
            "grid_area": null,
            "grid_auto_columns": null,
            "grid_auto_flow": null,
            "grid_auto_rows": null,
            "grid_column": null,
            "grid_gap": null,
            "grid_row": null,
            "grid_template_areas": null,
            "grid_template_columns": null,
            "grid_template_rows": null,
            "height": null,
            "justify_content": null,
            "justify_items": null,
            "left": null,
            "margin": null,
            "max_height": null,
            "max_width": null,
            "min_height": null,
            "min_width": null,
            "object_fit": null,
            "object_position": null,
            "order": null,
            "overflow": null,
            "overflow_x": null,
            "overflow_y": null,
            "padding": null,
            "right": null,
            "top": null,
            "visibility": null,
            "width": null
          }
        },
        "7881b361f46b45e79b97a8b53e9c3d88": {
          "model_module": "@jupyter-widgets/controls",
          "model_name": "ProgressStyleModel",
          "model_module_version": "1.5.0",
          "state": {
            "_model_module": "@jupyter-widgets/controls",
            "_model_module_version": "1.5.0",
            "_model_name": "ProgressStyleModel",
            "_view_count": null,
            "_view_module": "@jupyter-widgets/base",
            "_view_module_version": "1.2.0",
            "_view_name": "StyleView",
            "bar_color": null,
            "description_width": ""
          }
        },
        "3142124cc077464abc92447b9d58ce40": {
          "model_module": "@jupyter-widgets/base",
          "model_name": "LayoutModel",
          "model_module_version": "1.2.0",
          "state": {
            "_model_module": "@jupyter-widgets/base",
            "_model_module_version": "1.2.0",
            "_model_name": "LayoutModel",
            "_view_count": null,
            "_view_module": "@jupyter-widgets/base",
            "_view_module_version": "1.2.0",
            "_view_name": "LayoutView",
            "align_content": null,
            "align_items": null,
            "align_self": null,
            "border": null,
            "bottom": null,
            "display": null,
            "flex": null,
            "flex_flow": null,
            "grid_area": null,
            "grid_auto_columns": null,
            "grid_auto_flow": null,
            "grid_auto_rows": null,
            "grid_column": null,
            "grid_gap": null,
            "grid_row": null,
            "grid_template_areas": null,
            "grid_template_columns": null,
            "grid_template_rows": null,
            "height": null,
            "justify_content": null,
            "justify_items": null,
            "left": null,
            "margin": null,
            "max_height": null,
            "max_width": null,
            "min_height": null,
            "min_width": null,
            "object_fit": null,
            "object_position": null,
            "order": null,
            "overflow": null,
            "overflow_x": null,
            "overflow_y": null,
            "padding": null,
            "right": null,
            "top": null,
            "visibility": null,
            "width": null
          }
        },
        "7bbe39fece594b9aa4bb9e08a6bc14e9": {
          "model_module": "@jupyter-widgets/controls",
          "model_name": "DescriptionStyleModel",
          "model_module_version": "1.5.0",
          "state": {
            "_model_module": "@jupyter-widgets/controls",
            "_model_module_version": "1.5.0",
            "_model_name": "DescriptionStyleModel",
            "_view_count": null,
            "_view_module": "@jupyter-widgets/base",
            "_view_module_version": "1.2.0",
            "_view_name": "StyleView",
            "description_width": ""
          }
        },
        "df946b4ff1c745eeb438df70f722e11b": {
          "model_module": "@jupyter-widgets/controls",
          "model_name": "HBoxModel",
          "model_module_version": "1.5.0",
          "state": {
            "_dom_classes": [],
            "_model_module": "@jupyter-widgets/controls",
            "_model_module_version": "1.5.0",
            "_model_name": "HBoxModel",
            "_view_count": null,
            "_view_module": "@jupyter-widgets/controls",
            "_view_module_version": "1.5.0",
            "_view_name": "HBoxView",
            "box_style": "",
            "children": [
              "IPY_MODEL_89bfb829396b4942ae777a73eb424f3f",
              "IPY_MODEL_cad7591fba02472ab657493ca5ece9ae",
              "IPY_MODEL_9e1b8418980345f1876a525df015fe92"
            ],
            "layout": "IPY_MODEL_6c5a1c1eaab04829ae0e12eefff124d6"
          }
        },
        "89bfb829396b4942ae777a73eb424f3f": {
          "model_module": "@jupyter-widgets/controls",
          "model_name": "HTMLModel",
          "model_module_version": "1.5.0",
          "state": {
            "_dom_classes": [],
            "_model_module": "@jupyter-widgets/controls",
            "_model_module_version": "1.5.0",
            "_model_name": "HTMLModel",
            "_view_count": null,
            "_view_module": "@jupyter-widgets/controls",
            "_view_module_version": "1.5.0",
            "_view_name": "HTMLView",
            "description": "",
            "description_tooltip": null,
            "layout": "IPY_MODEL_463a7182b15a4dd496e05370fbbb5131",
            "placeholder": "​",
            "style": "IPY_MODEL_bb121a9b96064b809612c59ce9dfabf4",
            "value": "tokenizer.json: 100%"
          }
        },
        "cad7591fba02472ab657493ca5ece9ae": {
          "model_module": "@jupyter-widgets/controls",
          "model_name": "FloatProgressModel",
          "model_module_version": "1.5.0",
          "state": {
            "_dom_classes": [],
            "_model_module": "@jupyter-widgets/controls",
            "_model_module_version": "1.5.0",
            "_model_name": "FloatProgressModel",
            "_view_count": null,
            "_view_module": "@jupyter-widgets/controls",
            "_view_module_version": "1.5.0",
            "_view_name": "ProgressView",
            "bar_style": "success",
            "description": "",
            "description_tooltip": null,
            "layout": "IPY_MODEL_ef2b2cbb53fb4af7bd5171be3c417d84",
            "max": 711661,
            "min": 0,
            "orientation": "horizontal",
            "style": "IPY_MODEL_2ea0cda9e9d94766a2dadc639b4d04ba",
            "value": 711661
          }
        },
        "9e1b8418980345f1876a525df015fe92": {
          "model_module": "@jupyter-widgets/controls",
          "model_name": "HTMLModel",
          "model_module_version": "1.5.0",
          "state": {
            "_dom_classes": [],
            "_model_module": "@jupyter-widgets/controls",
            "_model_module_version": "1.5.0",
            "_model_name": "HTMLModel",
            "_view_count": null,
            "_view_module": "@jupyter-widgets/controls",
            "_view_module_version": "1.5.0",
            "_view_name": "HTMLView",
            "description": "",
            "description_tooltip": null,
            "layout": "IPY_MODEL_4165c02270574454b5a115a9d269c247",
            "placeholder": "​",
            "style": "IPY_MODEL_4dc4d471b6c84e30aaf1ba4e6b05085b",
            "value": " 712k/712k [00:00&lt;00:00, 13.2MB/s]"
          }
        },
        "6c5a1c1eaab04829ae0e12eefff124d6": {
          "model_module": "@jupyter-widgets/base",
          "model_name": "LayoutModel",
          "model_module_version": "1.2.0",
          "state": {
            "_model_module": "@jupyter-widgets/base",
            "_model_module_version": "1.2.0",
            "_model_name": "LayoutModel",
            "_view_count": null,
            "_view_module": "@jupyter-widgets/base",
            "_view_module_version": "1.2.0",
            "_view_name": "LayoutView",
            "align_content": null,
            "align_items": null,
            "align_self": null,
            "border": null,
            "bottom": null,
            "display": null,
            "flex": null,
            "flex_flow": null,
            "grid_area": null,
            "grid_auto_columns": null,
            "grid_auto_flow": null,
            "grid_auto_rows": null,
            "grid_column": null,
            "grid_gap": null,
            "grid_row": null,
            "grid_template_areas": null,
            "grid_template_columns": null,
            "grid_template_rows": null,
            "height": null,
            "justify_content": null,
            "justify_items": null,
            "left": null,
            "margin": null,
            "max_height": null,
            "max_width": null,
            "min_height": null,
            "min_width": null,
            "object_fit": null,
            "object_position": null,
            "order": null,
            "overflow": null,
            "overflow_x": null,
            "overflow_y": null,
            "padding": null,
            "right": null,
            "top": null,
            "visibility": null,
            "width": null
          }
        },
        "463a7182b15a4dd496e05370fbbb5131": {
          "model_module": "@jupyter-widgets/base",
          "model_name": "LayoutModel",
          "model_module_version": "1.2.0",
          "state": {
            "_model_module": "@jupyter-widgets/base",
            "_model_module_version": "1.2.0",
            "_model_name": "LayoutModel",
            "_view_count": null,
            "_view_module": "@jupyter-widgets/base",
            "_view_module_version": "1.2.0",
            "_view_name": "LayoutView",
            "align_content": null,
            "align_items": null,
            "align_self": null,
            "border": null,
            "bottom": null,
            "display": null,
            "flex": null,
            "flex_flow": null,
            "grid_area": null,
            "grid_auto_columns": null,
            "grid_auto_flow": null,
            "grid_auto_rows": null,
            "grid_column": null,
            "grid_gap": null,
            "grid_row": null,
            "grid_template_areas": null,
            "grid_template_columns": null,
            "grid_template_rows": null,
            "height": null,
            "justify_content": null,
            "justify_items": null,
            "left": null,
            "margin": null,
            "max_height": null,
            "max_width": null,
            "min_height": null,
            "min_width": null,
            "object_fit": null,
            "object_position": null,
            "order": null,
            "overflow": null,
            "overflow_x": null,
            "overflow_y": null,
            "padding": null,
            "right": null,
            "top": null,
            "visibility": null,
            "width": null
          }
        },
        "bb121a9b96064b809612c59ce9dfabf4": {
          "model_module": "@jupyter-widgets/controls",
          "model_name": "DescriptionStyleModel",
          "model_module_version": "1.5.0",
          "state": {
            "_model_module": "@jupyter-widgets/controls",
            "_model_module_version": "1.5.0",
            "_model_name": "DescriptionStyleModel",
            "_view_count": null,
            "_view_module": "@jupyter-widgets/base",
            "_view_module_version": "1.2.0",
            "_view_name": "StyleView",
            "description_width": ""
          }
        },
        "ef2b2cbb53fb4af7bd5171be3c417d84": {
          "model_module": "@jupyter-widgets/base",
          "model_name": "LayoutModel",
          "model_module_version": "1.2.0",
          "state": {
            "_model_module": "@jupyter-widgets/base",
            "_model_module_version": "1.2.0",
            "_model_name": "LayoutModel",
            "_view_count": null,
            "_view_module": "@jupyter-widgets/base",
            "_view_module_version": "1.2.0",
            "_view_name": "LayoutView",
            "align_content": null,
            "align_items": null,
            "align_self": null,
            "border": null,
            "bottom": null,
            "display": null,
            "flex": null,
            "flex_flow": null,
            "grid_area": null,
            "grid_auto_columns": null,
            "grid_auto_flow": null,
            "grid_auto_rows": null,
            "grid_column": null,
            "grid_gap": null,
            "grid_row": null,
            "grid_template_areas": null,
            "grid_template_columns": null,
            "grid_template_rows": null,
            "height": null,
            "justify_content": null,
            "justify_items": null,
            "left": null,
            "margin": null,
            "max_height": null,
            "max_width": null,
            "min_height": null,
            "min_width": null,
            "object_fit": null,
            "object_position": null,
            "order": null,
            "overflow": null,
            "overflow_x": null,
            "overflow_y": null,
            "padding": null,
            "right": null,
            "top": null,
            "visibility": null,
            "width": null
          }
        },
        "2ea0cda9e9d94766a2dadc639b4d04ba": {
          "model_module": "@jupyter-widgets/controls",
          "model_name": "ProgressStyleModel",
          "model_module_version": "1.5.0",
          "state": {
            "_model_module": "@jupyter-widgets/controls",
            "_model_module_version": "1.5.0",
            "_model_name": "ProgressStyleModel",
            "_view_count": null,
            "_view_module": "@jupyter-widgets/base",
            "_view_module_version": "1.2.0",
            "_view_name": "StyleView",
            "bar_color": null,
            "description_width": ""
          }
        },
        "4165c02270574454b5a115a9d269c247": {
          "model_module": "@jupyter-widgets/base",
          "model_name": "LayoutModel",
          "model_module_version": "1.2.0",
          "state": {
            "_model_module": "@jupyter-widgets/base",
            "_model_module_version": "1.2.0",
            "_model_name": "LayoutModel",
            "_view_count": null,
            "_view_module": "@jupyter-widgets/base",
            "_view_module_version": "1.2.0",
            "_view_name": "LayoutView",
            "align_content": null,
            "align_items": null,
            "align_self": null,
            "border": null,
            "bottom": null,
            "display": null,
            "flex": null,
            "flex_flow": null,
            "grid_area": null,
            "grid_auto_columns": null,
            "grid_auto_flow": null,
            "grid_auto_rows": null,
            "grid_column": null,
            "grid_gap": null,
            "grid_row": null,
            "grid_template_areas": null,
            "grid_template_columns": null,
            "grid_template_rows": null,
            "height": null,
            "justify_content": null,
            "justify_items": null,
            "left": null,
            "margin": null,
            "max_height": null,
            "max_width": null,
            "min_height": null,
            "min_width": null,
            "object_fit": null,
            "object_position": null,
            "order": null,
            "overflow": null,
            "overflow_x": null,
            "overflow_y": null,
            "padding": null,
            "right": null,
            "top": null,
            "visibility": null,
            "width": null
          }
        },
        "4dc4d471b6c84e30aaf1ba4e6b05085b": {
          "model_module": "@jupyter-widgets/controls",
          "model_name": "DescriptionStyleModel",
          "model_module_version": "1.5.0",
          "state": {
            "_model_module": "@jupyter-widgets/controls",
            "_model_module_version": "1.5.0",
            "_model_name": "DescriptionStyleModel",
            "_view_count": null,
            "_view_module": "@jupyter-widgets/base",
            "_view_module_version": "1.2.0",
            "_view_name": "StyleView",
            "description_width": ""
          }
        },
        "d01671632b474d308c6c69abfdcb926b": {
          "model_module": "@jupyter-widgets/controls",
          "model_name": "HBoxModel",
          "model_module_version": "1.5.0",
          "state": {
            "_dom_classes": [],
            "_model_module": "@jupyter-widgets/controls",
            "_model_module_version": "1.5.0",
            "_model_name": "HBoxModel",
            "_view_count": null,
            "_view_module": "@jupyter-widgets/controls",
            "_view_module_version": "1.5.0",
            "_view_name": "HBoxView",
            "box_style": "",
            "children": [
              "IPY_MODEL_bc373b0585cb4c3c81f0cdb3adecd9b3",
              "IPY_MODEL_466f39d2b2334308928d22d61dedffd4",
              "IPY_MODEL_a6fc7bd9d46b4d1a900bad7ec6107d8a"
            ],
            "layout": "IPY_MODEL_a6d5480e72f248d8bef0813f16b60624"
          }
        },
        "bc373b0585cb4c3c81f0cdb3adecd9b3": {
          "model_module": "@jupyter-widgets/controls",
          "model_name": "HTMLModel",
          "model_module_version": "1.5.0",
          "state": {
            "_dom_classes": [],
            "_model_module": "@jupyter-widgets/controls",
            "_model_module_version": "1.5.0",
            "_model_name": "HTMLModel",
            "_view_count": null,
            "_view_module": "@jupyter-widgets/controls",
            "_view_module_version": "1.5.0",
            "_view_name": "HTMLView",
            "description": "",
            "description_tooltip": null,
            "layout": "IPY_MODEL_b255aa1b7483448bab80ab8c5f6b88b1",
            "placeholder": "​",
            "style": "IPY_MODEL_72def96156794906962c31627f41ba48",
            "value": "special_tokens_map.json: 100%"
          }
        },
        "466f39d2b2334308928d22d61dedffd4": {
          "model_module": "@jupyter-widgets/controls",
          "model_name": "FloatProgressModel",
          "model_module_version": "1.5.0",
          "state": {
            "_dom_classes": [],
            "_model_module": "@jupyter-widgets/controls",
            "_model_module_version": "1.5.0",
            "_model_name": "FloatProgressModel",
            "_view_count": null,
            "_view_module": "@jupyter-widgets/controls",
            "_view_module_version": "1.5.0",
            "_view_name": "ProgressView",
            "bar_style": "success",
            "description": "",
            "description_tooltip": null,
            "layout": "IPY_MODEL_9f1c67747af942ce88ef21af6d6131ee",
            "max": 125,
            "min": 0,
            "orientation": "horizontal",
            "style": "IPY_MODEL_ae79bca9009640ab866a3ce2fc184980",
            "value": 125
          }
        },
        "a6fc7bd9d46b4d1a900bad7ec6107d8a": {
          "model_module": "@jupyter-widgets/controls",
          "model_name": "HTMLModel",
          "model_module_version": "1.5.0",
          "state": {
            "_dom_classes": [],
            "_model_module": "@jupyter-widgets/controls",
            "_model_module_version": "1.5.0",
            "_model_name": "HTMLModel",
            "_view_count": null,
            "_view_module": "@jupyter-widgets/controls",
            "_view_module_version": "1.5.0",
            "_view_name": "HTMLView",
            "description": "",
            "description_tooltip": null,
            "layout": "IPY_MODEL_5897edc3c06b4f98be37c56ed3c2dd8b",
            "placeholder": "​",
            "style": "IPY_MODEL_549be9c0d51b42d5b0489a656cf926ee",
            "value": " 125/125 [00:00&lt;00:00, 18.3kB/s]"
          }
        },
        "a6d5480e72f248d8bef0813f16b60624": {
          "model_module": "@jupyter-widgets/base",
          "model_name": "LayoutModel",
          "model_module_version": "1.2.0",
          "state": {
            "_model_module": "@jupyter-widgets/base",
            "_model_module_version": "1.2.0",
            "_model_name": "LayoutModel",
            "_view_count": null,
            "_view_module": "@jupyter-widgets/base",
            "_view_module_version": "1.2.0",
            "_view_name": "LayoutView",
            "align_content": null,
            "align_items": null,
            "align_self": null,
            "border": null,
            "bottom": null,
            "display": null,
            "flex": null,
            "flex_flow": null,
            "grid_area": null,
            "grid_auto_columns": null,
            "grid_auto_flow": null,
            "grid_auto_rows": null,
            "grid_column": null,
            "grid_gap": null,
            "grid_row": null,
            "grid_template_areas": null,
            "grid_template_columns": null,
            "grid_template_rows": null,
            "height": null,
            "justify_content": null,
            "justify_items": null,
            "left": null,
            "margin": null,
            "max_height": null,
            "max_width": null,
            "min_height": null,
            "min_width": null,
            "object_fit": null,
            "object_position": null,
            "order": null,
            "overflow": null,
            "overflow_x": null,
            "overflow_y": null,
            "padding": null,
            "right": null,
            "top": null,
            "visibility": null,
            "width": null
          }
        },
        "b255aa1b7483448bab80ab8c5f6b88b1": {
          "model_module": "@jupyter-widgets/base",
          "model_name": "LayoutModel",
          "model_module_version": "1.2.0",
          "state": {
            "_model_module": "@jupyter-widgets/base",
            "_model_module_version": "1.2.0",
            "_model_name": "LayoutModel",
            "_view_count": null,
            "_view_module": "@jupyter-widgets/base",
            "_view_module_version": "1.2.0",
            "_view_name": "LayoutView",
            "align_content": null,
            "align_items": null,
            "align_self": null,
            "border": null,
            "bottom": null,
            "display": null,
            "flex": null,
            "flex_flow": null,
            "grid_area": null,
            "grid_auto_columns": null,
            "grid_auto_flow": null,
            "grid_auto_rows": null,
            "grid_column": null,
            "grid_gap": null,
            "grid_row": null,
            "grid_template_areas": null,
            "grid_template_columns": null,
            "grid_template_rows": null,
            "height": null,
            "justify_content": null,
            "justify_items": null,
            "left": null,
            "margin": null,
            "max_height": null,
            "max_width": null,
            "min_height": null,
            "min_width": null,
            "object_fit": null,
            "object_position": null,
            "order": null,
            "overflow": null,
            "overflow_x": null,
            "overflow_y": null,
            "padding": null,
            "right": null,
            "top": null,
            "visibility": null,
            "width": null
          }
        },
        "72def96156794906962c31627f41ba48": {
          "model_module": "@jupyter-widgets/controls",
          "model_name": "DescriptionStyleModel",
          "model_module_version": "1.5.0",
          "state": {
            "_model_module": "@jupyter-widgets/controls",
            "_model_module_version": "1.5.0",
            "_model_name": "DescriptionStyleModel",
            "_view_count": null,
            "_view_module": "@jupyter-widgets/base",
            "_view_module_version": "1.2.0",
            "_view_name": "StyleView",
            "description_width": ""
          }
        },
        "9f1c67747af942ce88ef21af6d6131ee": {
          "model_module": "@jupyter-widgets/base",
          "model_name": "LayoutModel",
          "model_module_version": "1.2.0",
          "state": {
            "_model_module": "@jupyter-widgets/base",
            "_model_module_version": "1.2.0",
            "_model_name": "LayoutModel",
            "_view_count": null,
            "_view_module": "@jupyter-widgets/base",
            "_view_module_version": "1.2.0",
            "_view_name": "LayoutView",
            "align_content": null,
            "align_items": null,
            "align_self": null,
            "border": null,
            "bottom": null,
            "display": null,
            "flex": null,
            "flex_flow": null,
            "grid_area": null,
            "grid_auto_columns": null,
            "grid_auto_flow": null,
            "grid_auto_rows": null,
            "grid_column": null,
            "grid_gap": null,
            "grid_row": null,
            "grid_template_areas": null,
            "grid_template_columns": null,
            "grid_template_rows": null,
            "height": null,
            "justify_content": null,
            "justify_items": null,
            "left": null,
            "margin": null,
            "max_height": null,
            "max_width": null,
            "min_height": null,
            "min_width": null,
            "object_fit": null,
            "object_position": null,
            "order": null,
            "overflow": null,
            "overflow_x": null,
            "overflow_y": null,
            "padding": null,
            "right": null,
            "top": null,
            "visibility": null,
            "width": null
          }
        },
        "ae79bca9009640ab866a3ce2fc184980": {
          "model_module": "@jupyter-widgets/controls",
          "model_name": "ProgressStyleModel",
          "model_module_version": "1.5.0",
          "state": {
            "_model_module": "@jupyter-widgets/controls",
            "_model_module_version": "1.5.0",
            "_model_name": "ProgressStyleModel",
            "_view_count": null,
            "_view_module": "@jupyter-widgets/base",
            "_view_module_version": "1.2.0",
            "_view_name": "StyleView",
            "bar_color": null,
            "description_width": ""
          }
        },
        "5897edc3c06b4f98be37c56ed3c2dd8b": {
          "model_module": "@jupyter-widgets/base",
          "model_name": "LayoutModel",
          "model_module_version": "1.2.0",
          "state": {
            "_model_module": "@jupyter-widgets/base",
            "_model_module_version": "1.2.0",
            "_model_name": "LayoutModel",
            "_view_count": null,
            "_view_module": "@jupyter-widgets/base",
            "_view_module_version": "1.2.0",
            "_view_name": "LayoutView",
            "align_content": null,
            "align_items": null,
            "align_self": null,
            "border": null,
            "bottom": null,
            "display": null,
            "flex": null,
            "flex_flow": null,
            "grid_area": null,
            "grid_auto_columns": null,
            "grid_auto_flow": null,
            "grid_auto_rows": null,
            "grid_column": null,
            "grid_gap": null,
            "grid_row": null,
            "grid_template_areas": null,
            "grid_template_columns": null,
            "grid_template_rows": null,
            "height": null,
            "justify_content": null,
            "justify_items": null,
            "left": null,
            "margin": null,
            "max_height": null,
            "max_width": null,
            "min_height": null,
            "min_width": null,
            "object_fit": null,
            "object_position": null,
            "order": null,
            "overflow": null,
            "overflow_x": null,
            "overflow_y": null,
            "padding": null,
            "right": null,
            "top": null,
            "visibility": null,
            "width": null
          }
        },
        "549be9c0d51b42d5b0489a656cf926ee": {
          "model_module": "@jupyter-widgets/controls",
          "model_name": "DescriptionStyleModel",
          "model_module_version": "1.5.0",
          "state": {
            "_model_module": "@jupyter-widgets/controls",
            "_model_module_version": "1.5.0",
            "_model_name": "DescriptionStyleModel",
            "_view_count": null,
            "_view_module": "@jupyter-widgets/base",
            "_view_module_version": "1.2.0",
            "_view_name": "StyleView",
            "description_width": ""
          }
        },
        "d320ad4b08a1451d88a54af4ab385130": {
          "model_module": "@jupyter-widgets/controls",
          "model_name": "HBoxModel",
          "model_module_version": "1.5.0",
          "state": {
            "_dom_classes": [],
            "_model_module": "@jupyter-widgets/controls",
            "_model_module_version": "1.5.0",
            "_model_name": "HBoxModel",
            "_view_count": null,
            "_view_module": "@jupyter-widgets/controls",
            "_view_module_version": "1.5.0",
            "_view_name": "HBoxView",
            "box_style": "",
            "children": [
              "IPY_MODEL_b03360c89b63465e925b025eaa058292",
              "IPY_MODEL_2f92a47d8f89422b969a8592f75ae371",
              "IPY_MODEL_2154dbbddd044ba3b40e532ca0640e9d"
            ],
            "layout": "IPY_MODEL_59ff8f30d2f440529627d1b43ad70fdf"
          }
        },
        "b03360c89b63465e925b025eaa058292": {
          "model_module": "@jupyter-widgets/controls",
          "model_name": "HTMLModel",
          "model_module_version": "1.5.0",
          "state": {
            "_dom_classes": [],
            "_model_module": "@jupyter-widgets/controls",
            "_model_module_version": "1.5.0",
            "_model_name": "HTMLModel",
            "_view_count": null,
            "_view_module": "@jupyter-widgets/controls",
            "_view_module_version": "1.5.0",
            "_view_name": "HTMLView",
            "description": "",
            "description_tooltip": null,
            "layout": "IPY_MODEL_a5bebbf04354421ca319edc7d733cba5",
            "placeholder": "​",
            "style": "IPY_MODEL_48447cd390f947fc8390298b1efdb369",
            "value": "config.json: 100%"
          }
        },
        "2f92a47d8f89422b969a8592f75ae371": {
          "model_module": "@jupyter-widgets/controls",
          "model_name": "FloatProgressModel",
          "model_module_version": "1.5.0",
          "state": {
            "_dom_classes": [],
            "_model_module": "@jupyter-widgets/controls",
            "_model_module_version": "1.5.0",
            "_model_name": "FloatProgressModel",
            "_view_count": null,
            "_view_module": "@jupyter-widgets/controls",
            "_view_module_version": "1.5.0",
            "_view_name": "ProgressView",
            "bar_style": "success",
            "description": "",
            "description_tooltip": null,
            "layout": "IPY_MODEL_e91014c5647a4114b11bb507d292bb80",
            "max": 190,
            "min": 0,
            "orientation": "horizontal",
            "style": "IPY_MODEL_119f026d5b7044e2819784b0651d649d",
            "value": 190
          }
        },
        "2154dbbddd044ba3b40e532ca0640e9d": {
          "model_module": "@jupyter-widgets/controls",
          "model_name": "HTMLModel",
          "model_module_version": "1.5.0",
          "state": {
            "_dom_classes": [],
            "_model_module": "@jupyter-widgets/controls",
            "_model_module_version": "1.5.0",
            "_model_name": "HTMLModel",
            "_view_count": null,
            "_view_module": "@jupyter-widgets/controls",
            "_view_module_version": "1.5.0",
            "_view_name": "HTMLView",
            "description": "",
            "description_tooltip": null,
            "layout": "IPY_MODEL_fc883265b0d94936abe935cbec41b4e3",
            "placeholder": "​",
            "style": "IPY_MODEL_75a1f4384e9d4f50a0300061b6fec35a",
            "value": " 190/190 [00:00&lt;00:00, 23.2kB/s]"
          }
        },
        "59ff8f30d2f440529627d1b43ad70fdf": {
          "model_module": "@jupyter-widgets/base",
          "model_name": "LayoutModel",
          "model_module_version": "1.2.0",
          "state": {
            "_model_module": "@jupyter-widgets/base",
            "_model_module_version": "1.2.0",
            "_model_name": "LayoutModel",
            "_view_count": null,
            "_view_module": "@jupyter-widgets/base",
            "_view_module_version": "1.2.0",
            "_view_name": "LayoutView",
            "align_content": null,
            "align_items": null,
            "align_self": null,
            "border": null,
            "bottom": null,
            "display": null,
            "flex": null,
            "flex_flow": null,
            "grid_area": null,
            "grid_auto_columns": null,
            "grid_auto_flow": null,
            "grid_auto_rows": null,
            "grid_column": null,
            "grid_gap": null,
            "grid_row": null,
            "grid_template_areas": null,
            "grid_template_columns": null,
            "grid_template_rows": null,
            "height": null,
            "justify_content": null,
            "justify_items": null,
            "left": null,
            "margin": null,
            "max_height": null,
            "max_width": null,
            "min_height": null,
            "min_width": null,
            "object_fit": null,
            "object_position": null,
            "order": null,
            "overflow": null,
            "overflow_x": null,
            "overflow_y": null,
            "padding": null,
            "right": null,
            "top": null,
            "visibility": null,
            "width": null
          }
        },
        "a5bebbf04354421ca319edc7d733cba5": {
          "model_module": "@jupyter-widgets/base",
          "model_name": "LayoutModel",
          "model_module_version": "1.2.0",
          "state": {
            "_model_module": "@jupyter-widgets/base",
            "_model_module_version": "1.2.0",
            "_model_name": "LayoutModel",
            "_view_count": null,
            "_view_module": "@jupyter-widgets/base",
            "_view_module_version": "1.2.0",
            "_view_name": "LayoutView",
            "align_content": null,
            "align_items": null,
            "align_self": null,
            "border": null,
            "bottom": null,
            "display": null,
            "flex": null,
            "flex_flow": null,
            "grid_area": null,
            "grid_auto_columns": null,
            "grid_auto_flow": null,
            "grid_auto_rows": null,
            "grid_column": null,
            "grid_gap": null,
            "grid_row": null,
            "grid_template_areas": null,
            "grid_template_columns": null,
            "grid_template_rows": null,
            "height": null,
            "justify_content": null,
            "justify_items": null,
            "left": null,
            "margin": null,
            "max_height": null,
            "max_width": null,
            "min_height": null,
            "min_width": null,
            "object_fit": null,
            "object_position": null,
            "order": null,
            "overflow": null,
            "overflow_x": null,
            "overflow_y": null,
            "padding": null,
            "right": null,
            "top": null,
            "visibility": null,
            "width": null
          }
        },
        "48447cd390f947fc8390298b1efdb369": {
          "model_module": "@jupyter-widgets/controls",
          "model_name": "DescriptionStyleModel",
          "model_module_version": "1.5.0",
          "state": {
            "_model_module": "@jupyter-widgets/controls",
            "_model_module_version": "1.5.0",
            "_model_name": "DescriptionStyleModel",
            "_view_count": null,
            "_view_module": "@jupyter-widgets/base",
            "_view_module_version": "1.2.0",
            "_view_name": "StyleView",
            "description_width": ""
          }
        },
        "e91014c5647a4114b11bb507d292bb80": {
          "model_module": "@jupyter-widgets/base",
          "model_name": "LayoutModel",
          "model_module_version": "1.2.0",
          "state": {
            "_model_module": "@jupyter-widgets/base",
            "_model_module_version": "1.2.0",
            "_model_name": "LayoutModel",
            "_view_count": null,
            "_view_module": "@jupyter-widgets/base",
            "_view_module_version": "1.2.0",
            "_view_name": "LayoutView",
            "align_content": null,
            "align_items": null,
            "align_self": null,
            "border": null,
            "bottom": null,
            "display": null,
            "flex": null,
            "flex_flow": null,
            "grid_area": null,
            "grid_auto_columns": null,
            "grid_auto_flow": null,
            "grid_auto_rows": null,
            "grid_column": null,
            "grid_gap": null,
            "grid_row": null,
            "grid_template_areas": null,
            "grid_template_columns": null,
            "grid_template_rows": null,
            "height": null,
            "justify_content": null,
            "justify_items": null,
            "left": null,
            "margin": null,
            "max_height": null,
            "max_width": null,
            "min_height": null,
            "min_width": null,
            "object_fit": null,
            "object_position": null,
            "order": null,
            "overflow": null,
            "overflow_x": null,
            "overflow_y": null,
            "padding": null,
            "right": null,
            "top": null,
            "visibility": null,
            "width": null
          }
        },
        "119f026d5b7044e2819784b0651d649d": {
          "model_module": "@jupyter-widgets/controls",
          "model_name": "ProgressStyleModel",
          "model_module_version": "1.5.0",
          "state": {
            "_model_module": "@jupyter-widgets/controls",
            "_model_module_version": "1.5.0",
            "_model_name": "ProgressStyleModel",
            "_view_count": null,
            "_view_module": "@jupyter-widgets/base",
            "_view_module_version": "1.2.0",
            "_view_name": "StyleView",
            "bar_color": null,
            "description_width": ""
          }
        },
        "fc883265b0d94936abe935cbec41b4e3": {
          "model_module": "@jupyter-widgets/base",
          "model_name": "LayoutModel",
          "model_module_version": "1.2.0",
          "state": {
            "_model_module": "@jupyter-widgets/base",
            "_model_module_version": "1.2.0",
            "_model_name": "LayoutModel",
            "_view_count": null,
            "_view_module": "@jupyter-widgets/base",
            "_view_module_version": "1.2.0",
            "_view_name": "LayoutView",
            "align_content": null,
            "align_items": null,
            "align_self": null,
            "border": null,
            "bottom": null,
            "display": null,
            "flex": null,
            "flex_flow": null,
            "grid_area": null,
            "grid_auto_columns": null,
            "grid_auto_flow": null,
            "grid_auto_rows": null,
            "grid_column": null,
            "grid_gap": null,
            "grid_row": null,
            "grid_template_areas": null,
            "grid_template_columns": null,
            "grid_template_rows": null,
            "height": null,
            "justify_content": null,
            "justify_items": null,
            "left": null,
            "margin": null,
            "max_height": null,
            "max_width": null,
            "min_height": null,
            "min_width": null,
            "object_fit": null,
            "object_position": null,
            "order": null,
            "overflow": null,
            "overflow_x": null,
            "overflow_y": null,
            "padding": null,
            "right": null,
            "top": null,
            "visibility": null,
            "width": null
          }
        },
        "75a1f4384e9d4f50a0300061b6fec35a": {
          "model_module": "@jupyter-widgets/controls",
          "model_name": "DescriptionStyleModel",
          "model_module_version": "1.5.0",
          "state": {
            "_model_module": "@jupyter-widgets/controls",
            "_model_module_version": "1.5.0",
            "_model_name": "DescriptionStyleModel",
            "_view_count": null,
            "_view_module": "@jupyter-widgets/base",
            "_view_module_version": "1.2.0",
            "_view_name": "StyleView",
            "description_width": ""
          }
        }
      }
    }
  },
  "nbformat": 4,
  "nbformat_minor": 0
}